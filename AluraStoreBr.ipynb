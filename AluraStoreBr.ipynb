{
  "nbformat": 4,
  "nbformat_minor": 0,
  "metadata": {
    "colab": {
      "provenance": [],
      "include_colab_link": true
    },
    "kernelspec": {
      "name": "python3",
      "display_name": "Python 3"
    },
    "language_info": {
      "name": "python"
    }
  },
  "cells": [
    {
      "cell_type": "markdown",
      "metadata": {
        "id": "view-in-github",
        "colab_type": "text"
      },
      "source": [
        "<a href=\"https://colab.research.google.com/github/Alessandrags/Alura-Store/blob/main/AluraStoreBr.ipynb\" target=\"_parent\"><img src=\"https://colab.research.google.com/assets/colab-badge.svg\" alt=\"Open In Colab\"/></a>"
      ]
    },
    {
      "cell_type": "markdown",
      "source": [
        "### Importação dos dados\n",
        "\n"
      ],
      "metadata": {
        "id": "RhEdWd9YUR6H"
      }
    },
    {
      "cell_type": "code",
      "execution_count": null,
      "metadata": {
        "colab": {
          "base_uri": "https://localhost:8080/",
          "height": 258
        },
        "id": "T3EvaeQ_INIL",
        "outputId": "4223cb76-922b-4c4e-f12e-3c4be79f8045"
      },
      "outputs": [
        {
          "output_type": "execute_result",
          "data": {
            "text/plain": [
              "                 Produto Categoria do Produto    Preço      Frete  \\\n",
              "0     Assistente virtual          eletronicos   219.08   9.249790   \n",
              "1         Mesa de jantar               moveis   256.35  11.234305   \n",
              "2      Jogo de tabuleiro           brinquedos   279.51  21.262681   \n",
              "3            Micro-ondas     eletrodomesticos  1009.99  54.667344   \n",
              "4  Cadeira de escritório               moveis   446.99  26.964689   \n",
              "\n",
              "  Data da Compra        Vendedor Local da compra  Avaliação da compra  \\\n",
              "0     16/01/2021     Pedro Gomes              SP                    4   \n",
              "1     18/05/2022  Beatriz Moraes              RJ                    1   \n",
              "2     15/03/2021      João Souza              DF                    1   \n",
              "3     03/05/2022      João Souza              RS                    4   \n",
              "4     07/11/2020   Larissa Alves              MG                    5   \n",
              "\n",
              "  Tipo de pagamento  Quantidade de parcelas    lat    lon  \n",
              "0    cartao_credito                       8 -22.19 -48.79  \n",
              "1    cartao_credito                       4 -22.25 -42.66  \n",
              "2    cartao_credito                       1 -15.83 -47.86  \n",
              "3            boleto                       1 -30.17 -53.50  \n",
              "4            boleto                       1 -18.10 -44.38  "
            ],
            "text/html": [
              "\n",
              "  <div id=\"df-77fbf9ec-4c43-4f36-8b82-d5d24dcc3b03\" class=\"colab-df-container\">\n",
              "    <div>\n",
              "<style scoped>\n",
              "    .dataframe tbody tr th:only-of-type {\n",
              "        vertical-align: middle;\n",
              "    }\n",
              "\n",
              "    .dataframe tbody tr th {\n",
              "        vertical-align: top;\n",
              "    }\n",
              "\n",
              "    .dataframe thead th {\n",
              "        text-align: right;\n",
              "    }\n",
              "</style>\n",
              "<table border=\"1\" class=\"dataframe\">\n",
              "  <thead>\n",
              "    <tr style=\"text-align: right;\">\n",
              "      <th></th>\n",
              "      <th>Produto</th>\n",
              "      <th>Categoria do Produto</th>\n",
              "      <th>Preço</th>\n",
              "      <th>Frete</th>\n",
              "      <th>Data da Compra</th>\n",
              "      <th>Vendedor</th>\n",
              "      <th>Local da compra</th>\n",
              "      <th>Avaliação da compra</th>\n",
              "      <th>Tipo de pagamento</th>\n",
              "      <th>Quantidade de parcelas</th>\n",
              "      <th>lat</th>\n",
              "      <th>lon</th>\n",
              "    </tr>\n",
              "  </thead>\n",
              "  <tbody>\n",
              "    <tr>\n",
              "      <th>0</th>\n",
              "      <td>Assistente virtual</td>\n",
              "      <td>eletronicos</td>\n",
              "      <td>219.08</td>\n",
              "      <td>9.249790</td>\n",
              "      <td>16/01/2021</td>\n",
              "      <td>Pedro Gomes</td>\n",
              "      <td>SP</td>\n",
              "      <td>4</td>\n",
              "      <td>cartao_credito</td>\n",
              "      <td>8</td>\n",
              "      <td>-22.19</td>\n",
              "      <td>-48.79</td>\n",
              "    </tr>\n",
              "    <tr>\n",
              "      <th>1</th>\n",
              "      <td>Mesa de jantar</td>\n",
              "      <td>moveis</td>\n",
              "      <td>256.35</td>\n",
              "      <td>11.234305</td>\n",
              "      <td>18/05/2022</td>\n",
              "      <td>Beatriz Moraes</td>\n",
              "      <td>RJ</td>\n",
              "      <td>1</td>\n",
              "      <td>cartao_credito</td>\n",
              "      <td>4</td>\n",
              "      <td>-22.25</td>\n",
              "      <td>-42.66</td>\n",
              "    </tr>\n",
              "    <tr>\n",
              "      <th>2</th>\n",
              "      <td>Jogo de tabuleiro</td>\n",
              "      <td>brinquedos</td>\n",
              "      <td>279.51</td>\n",
              "      <td>21.262681</td>\n",
              "      <td>15/03/2021</td>\n",
              "      <td>João Souza</td>\n",
              "      <td>DF</td>\n",
              "      <td>1</td>\n",
              "      <td>cartao_credito</td>\n",
              "      <td>1</td>\n",
              "      <td>-15.83</td>\n",
              "      <td>-47.86</td>\n",
              "    </tr>\n",
              "    <tr>\n",
              "      <th>3</th>\n",
              "      <td>Micro-ondas</td>\n",
              "      <td>eletrodomesticos</td>\n",
              "      <td>1009.99</td>\n",
              "      <td>54.667344</td>\n",
              "      <td>03/05/2022</td>\n",
              "      <td>João Souza</td>\n",
              "      <td>RS</td>\n",
              "      <td>4</td>\n",
              "      <td>boleto</td>\n",
              "      <td>1</td>\n",
              "      <td>-30.17</td>\n",
              "      <td>-53.50</td>\n",
              "    </tr>\n",
              "    <tr>\n",
              "      <th>4</th>\n",
              "      <td>Cadeira de escritório</td>\n",
              "      <td>moveis</td>\n",
              "      <td>446.99</td>\n",
              "      <td>26.964689</td>\n",
              "      <td>07/11/2020</td>\n",
              "      <td>Larissa Alves</td>\n",
              "      <td>MG</td>\n",
              "      <td>5</td>\n",
              "      <td>boleto</td>\n",
              "      <td>1</td>\n",
              "      <td>-18.10</td>\n",
              "      <td>-44.38</td>\n",
              "    </tr>\n",
              "  </tbody>\n",
              "</table>\n",
              "</div>\n",
              "    <div class=\"colab-df-buttons\">\n",
              "\n",
              "  <div class=\"colab-df-container\">\n",
              "    <button class=\"colab-df-convert\" onclick=\"convertToInteractive('df-77fbf9ec-4c43-4f36-8b82-d5d24dcc3b03')\"\n",
              "            title=\"Convert this dataframe to an interactive table.\"\n",
              "            style=\"display:none;\">\n",
              "\n",
              "  <svg xmlns=\"http://www.w3.org/2000/svg\" height=\"24px\" viewBox=\"0 -960 960 960\">\n",
              "    <path d=\"M120-120v-720h720v720H120Zm60-500h600v-160H180v160Zm220 220h160v-160H400v160Zm0 220h160v-160H400v160ZM180-400h160v-160H180v160Zm440 0h160v-160H620v160ZM180-180h160v-160H180v160Zm440 0h160v-160H620v160Z\"/>\n",
              "  </svg>\n",
              "    </button>\n",
              "\n",
              "  <style>\n",
              "    .colab-df-container {\n",
              "      display:flex;\n",
              "      gap: 12px;\n",
              "    }\n",
              "\n",
              "    .colab-df-convert {\n",
              "      background-color: #E8F0FE;\n",
              "      border: none;\n",
              "      border-radius: 50%;\n",
              "      cursor: pointer;\n",
              "      display: none;\n",
              "      fill: #1967D2;\n",
              "      height: 32px;\n",
              "      padding: 0 0 0 0;\n",
              "      width: 32px;\n",
              "    }\n",
              "\n",
              "    .colab-df-convert:hover {\n",
              "      background-color: #E2EBFA;\n",
              "      box-shadow: 0px 1px 2px rgba(60, 64, 67, 0.3), 0px 1px 3px 1px rgba(60, 64, 67, 0.15);\n",
              "      fill: #174EA6;\n",
              "    }\n",
              "\n",
              "    .colab-df-buttons div {\n",
              "      margin-bottom: 4px;\n",
              "    }\n",
              "\n",
              "    [theme=dark] .colab-df-convert {\n",
              "      background-color: #3B4455;\n",
              "      fill: #D2E3FC;\n",
              "    }\n",
              "\n",
              "    [theme=dark] .colab-df-convert:hover {\n",
              "      background-color: #434B5C;\n",
              "      box-shadow: 0px 1px 3px 1px rgba(0, 0, 0, 0.15);\n",
              "      filter: drop-shadow(0px 1px 2px rgba(0, 0, 0, 0.3));\n",
              "      fill: #FFFFFF;\n",
              "    }\n",
              "  </style>\n",
              "\n",
              "    <script>\n",
              "      const buttonEl =\n",
              "        document.querySelector('#df-77fbf9ec-4c43-4f36-8b82-d5d24dcc3b03 button.colab-df-convert');\n",
              "      buttonEl.style.display =\n",
              "        google.colab.kernel.accessAllowed ? 'block' : 'none';\n",
              "\n",
              "      async function convertToInteractive(key) {\n",
              "        const element = document.querySelector('#df-77fbf9ec-4c43-4f36-8b82-d5d24dcc3b03');\n",
              "        const dataTable =\n",
              "          await google.colab.kernel.invokeFunction('convertToInteractive',\n",
              "                                                    [key], {});\n",
              "        if (!dataTable) return;\n",
              "\n",
              "        const docLinkHtml = 'Like what you see? Visit the ' +\n",
              "          '<a target=\"_blank\" href=https://colab.research.google.com/notebooks/data_table.ipynb>data table notebook</a>'\n",
              "          + ' to learn more about interactive tables.';\n",
              "        element.innerHTML = '';\n",
              "        dataTable['output_type'] = 'display_data';\n",
              "        await google.colab.output.renderOutput(dataTable, element);\n",
              "        const docLink = document.createElement('div');\n",
              "        docLink.innerHTML = docLinkHtml;\n",
              "        element.appendChild(docLink);\n",
              "      }\n",
              "    </script>\n",
              "  </div>\n",
              "\n",
              "\n",
              "    <div id=\"df-12e8a2da-ddb1-474e-8076-fe6cf73ef160\">\n",
              "      <button class=\"colab-df-quickchart\" onclick=\"quickchart('df-12e8a2da-ddb1-474e-8076-fe6cf73ef160')\"\n",
              "                title=\"Suggest charts\"\n",
              "                style=\"display:none;\">\n",
              "\n",
              "<svg xmlns=\"http://www.w3.org/2000/svg\" height=\"24px\"viewBox=\"0 0 24 24\"\n",
              "     width=\"24px\">\n",
              "    <g>\n",
              "        <path d=\"M19 3H5c-1.1 0-2 .9-2 2v14c0 1.1.9 2 2 2h14c1.1 0 2-.9 2-2V5c0-1.1-.9-2-2-2zM9 17H7v-7h2v7zm4 0h-2V7h2v10zm4 0h-2v-4h2v4z\"/>\n",
              "    </g>\n",
              "</svg>\n",
              "      </button>\n",
              "\n",
              "<style>\n",
              "  .colab-df-quickchart {\n",
              "      --bg-color: #E8F0FE;\n",
              "      --fill-color: #1967D2;\n",
              "      --hover-bg-color: #E2EBFA;\n",
              "      --hover-fill-color: #174EA6;\n",
              "      --disabled-fill-color: #AAA;\n",
              "      --disabled-bg-color: #DDD;\n",
              "  }\n",
              "\n",
              "  [theme=dark] .colab-df-quickchart {\n",
              "      --bg-color: #3B4455;\n",
              "      --fill-color: #D2E3FC;\n",
              "      --hover-bg-color: #434B5C;\n",
              "      --hover-fill-color: #FFFFFF;\n",
              "      --disabled-bg-color: #3B4455;\n",
              "      --disabled-fill-color: #666;\n",
              "  }\n",
              "\n",
              "  .colab-df-quickchart {\n",
              "    background-color: var(--bg-color);\n",
              "    border: none;\n",
              "    border-radius: 50%;\n",
              "    cursor: pointer;\n",
              "    display: none;\n",
              "    fill: var(--fill-color);\n",
              "    height: 32px;\n",
              "    padding: 0;\n",
              "    width: 32px;\n",
              "  }\n",
              "\n",
              "  .colab-df-quickchart:hover {\n",
              "    background-color: var(--hover-bg-color);\n",
              "    box-shadow: 0 1px 2px rgba(60, 64, 67, 0.3), 0 1px 3px 1px rgba(60, 64, 67, 0.15);\n",
              "    fill: var(--button-hover-fill-color);\n",
              "  }\n",
              "\n",
              "  .colab-df-quickchart-complete:disabled,\n",
              "  .colab-df-quickchart-complete:disabled:hover {\n",
              "    background-color: var(--disabled-bg-color);\n",
              "    fill: var(--disabled-fill-color);\n",
              "    box-shadow: none;\n",
              "  }\n",
              "\n",
              "  .colab-df-spinner {\n",
              "    border: 2px solid var(--fill-color);\n",
              "    border-color: transparent;\n",
              "    border-bottom-color: var(--fill-color);\n",
              "    animation:\n",
              "      spin 1s steps(1) infinite;\n",
              "  }\n",
              "\n",
              "  @keyframes spin {\n",
              "    0% {\n",
              "      border-color: transparent;\n",
              "      border-bottom-color: var(--fill-color);\n",
              "      border-left-color: var(--fill-color);\n",
              "    }\n",
              "    20% {\n",
              "      border-color: transparent;\n",
              "      border-left-color: var(--fill-color);\n",
              "      border-top-color: var(--fill-color);\n",
              "    }\n",
              "    30% {\n",
              "      border-color: transparent;\n",
              "      border-left-color: var(--fill-color);\n",
              "      border-top-color: var(--fill-color);\n",
              "      border-right-color: var(--fill-color);\n",
              "    }\n",
              "    40% {\n",
              "      border-color: transparent;\n",
              "      border-right-color: var(--fill-color);\n",
              "      border-top-color: var(--fill-color);\n",
              "    }\n",
              "    60% {\n",
              "      border-color: transparent;\n",
              "      border-right-color: var(--fill-color);\n",
              "    }\n",
              "    80% {\n",
              "      border-color: transparent;\n",
              "      border-right-color: var(--fill-color);\n",
              "      border-bottom-color: var(--fill-color);\n",
              "    }\n",
              "    90% {\n",
              "      border-color: transparent;\n",
              "      border-bottom-color: var(--fill-color);\n",
              "    }\n",
              "  }\n",
              "</style>\n",
              "\n",
              "      <script>\n",
              "        async function quickchart(key) {\n",
              "          const quickchartButtonEl =\n",
              "            document.querySelector('#' + key + ' button');\n",
              "          quickchartButtonEl.disabled = true;  // To prevent multiple clicks.\n",
              "          quickchartButtonEl.classList.add('colab-df-spinner');\n",
              "          try {\n",
              "            const charts = await google.colab.kernel.invokeFunction(\n",
              "                'suggestCharts', [key], {});\n",
              "          } catch (error) {\n",
              "            console.error('Error during call to suggestCharts:', error);\n",
              "          }\n",
              "          quickchartButtonEl.classList.remove('colab-df-spinner');\n",
              "          quickchartButtonEl.classList.add('colab-df-quickchart-complete');\n",
              "        }\n",
              "        (() => {\n",
              "          let quickchartButtonEl =\n",
              "            document.querySelector('#df-12e8a2da-ddb1-474e-8076-fe6cf73ef160 button');\n",
              "          quickchartButtonEl.style.display =\n",
              "            google.colab.kernel.accessAllowed ? 'block' : 'none';\n",
              "        })();\n",
              "      </script>\n",
              "    </div>\n",
              "\n",
              "    </div>\n",
              "  </div>\n"
            ],
            "application/vnd.google.colaboratory.intrinsic+json": {
              "type": "dataframe",
              "variable_name": "loja",
              "summary": "{\n  \"name\": \"loja\",\n  \"rows\": 2359,\n  \"fields\": [\n    {\n      \"column\": \"Produto\",\n      \"properties\": {\n        \"dtype\": \"category\",\n        \"num_unique_values\": 51,\n        \"samples\": [\n          \"Viol\\u00e3o\",\n          \"Bola de basquete\",\n          \"Smartwatch\"\n        ],\n        \"semantic_type\": \"\",\n        \"description\": \"\"\n      }\n    },\n    {\n      \"column\": \"Categoria do Produto\",\n      \"properties\": {\n        \"dtype\": \"category\",\n        \"num_unique_values\": 8,\n        \"samples\": [\n          \"moveis\",\n          \"esporte e lazer\",\n          \"eletronicos\"\n        ],\n        \"semantic_type\": \"\",\n        \"description\": \"\"\n      }\n    },\n    {\n      \"column\": \"Pre\\u00e7o\",\n      \"properties\": {\n        \"dtype\": \"number\",\n        \"std\": 819.5827782539145,\n        \"min\": 10.07,\n        \"max\": 3969.38,\n        \"num_unique_values\": 2315,\n        \"samples\": [\n          446.11,\n          107.31,\n          65.86\n        ],\n        \"semantic_type\": \"\",\n        \"description\": \"\"\n      }\n    },\n    {\n      \"column\": \"Frete\",\n      \"properties\": {\n        \"dtype\": \"number\",\n        \"std\": 43.814183327408166,\n        \"min\": 0.0,\n        \"max\": 214.3770604781,\n        \"num_unique_values\": 2149,\n        \"samples\": [\n          83.815279607,\n          16.069664669,\n          14.0344876928\n        ],\n        \"semantic_type\": \"\",\n        \"description\": \"\"\n      }\n    },\n    {\n      \"column\": \"Data da Compra\",\n      \"properties\": {\n        \"dtype\": \"object\",\n        \"num_unique_values\": 1018,\n        \"samples\": [\n          \"15/09/2022\",\n          \"03/06/2020\",\n          \"06/11/2021\"\n        ],\n        \"semantic_type\": \"\",\n        \"description\": \"\"\n      }\n    },\n    {\n      \"column\": \"Vendedor\",\n      \"properties\": {\n        \"dtype\": \"category\",\n        \"num_unique_values\": 14,\n        \"samples\": [\n          \"Juliana Costa\",\n          \"Mariana Ferreira\",\n          \"Pedro Gomes\"\n        ],\n        \"semantic_type\": \"\",\n        \"description\": \"\"\n      }\n    },\n    {\n      \"column\": \"Local da compra\",\n      \"properties\": {\n        \"dtype\": \"category\",\n        \"num_unique_values\": 26,\n        \"samples\": [\n          \"TO\",\n          \"RN\",\n          \"SP\"\n        ],\n        \"semantic_type\": \"\",\n        \"description\": \"\"\n      }\n    },\n    {\n      \"column\": \"Avalia\\u00e7\\u00e3o da compra\",\n      \"properties\": {\n        \"dtype\": \"number\",\n        \"std\": 1,\n        \"min\": 1,\n        \"max\": 5,\n        \"num_unique_values\": 5,\n        \"samples\": [\n          1,\n          2,\n          5\n        ],\n        \"semantic_type\": \"\",\n        \"description\": \"\"\n      }\n    },\n    {\n      \"column\": \"Tipo de pagamento\",\n      \"properties\": {\n        \"dtype\": \"category\",\n        \"num_unique_values\": 4,\n        \"samples\": [\n          \"boleto\",\n          \"cartao_debito\",\n          \"cartao_credito\"\n        ],\n        \"semantic_type\": \"\",\n        \"description\": \"\"\n      }\n    },\n    {\n      \"column\": \"Quantidade de parcelas\",\n      \"properties\": {\n        \"dtype\": \"number\",\n        \"std\": 2,\n        \"min\": 1,\n        \"max\": 24,\n        \"num_unique_values\": 15,\n        \"samples\": [\n          7,\n          14,\n          8\n        ],\n        \"semantic_type\": \"\",\n        \"description\": \"\"\n      }\n    },\n    {\n      \"column\": \"lat\",\n      \"properties\": {\n        \"dtype\": \"number\",\n        \"std\": 5.372399916530833,\n        \"min\": -30.17,\n        \"max\": 1.41,\n        \"num_unique_values\": 26,\n        \"samples\": [\n          -9.46,\n          -5.81,\n          -22.19\n        ],\n        \"semantic_type\": \"\",\n        \"description\": \"\"\n      }\n    },\n    {\n      \"column\": \"lon\",\n      \"properties\": {\n        \"dtype\": \"number\",\n        \"std\": 4.183180020544179,\n        \"min\": -70.55,\n        \"max\": -36.59,\n        \"num_unique_values\": 26,\n        \"samples\": [\n          -48.26,\n          -36.59,\n          -48.79\n        ],\n        \"semantic_type\": \"\",\n        \"description\": \"\"\n      }\n    }\n  ]\n}"
            }
          },
          "metadata": {},
          "execution_count": 30
        }
      ],
      "source": [
        "import pandas as pd\n",
        "\n",
        "url = \"https://raw.githubusercontent.com/alura-es-cursos/challenge1-data-science/refs/heads/main/base-de-dados-challenge-1/loja_1.csv\"\n",
        "url2 = \"https://raw.githubusercontent.com/alura-es-cursos/challenge1-data-science/refs/heads/main/base-de-dados-challenge-1/loja_2.csv\"\n",
        "url3 = \"https://raw.githubusercontent.com/alura-es-cursos/challenge1-data-science/refs/heads/main/base-de-dados-challenge-1/loja_3.csv\"\n",
        "url4 = \"https://raw.githubusercontent.com/alura-es-cursos/challenge1-data-science/refs/heads/main/base-de-dados-challenge-1/loja_4.csv\"\n",
        "\n",
        "loja = pd.read_csv(url)\n",
        "loja2 = pd.read_csv(url2)\n",
        "loja3 = pd.read_csv(url3)\n",
        "loja4 = pd.read_csv(url4)\n",
        "\n",
        "loja.head()"
      ]
    },
    {
      "cell_type": "markdown",
      "source": [
        "#1. Análise do faturamento\n"
      ],
      "metadata": {
        "id": "X62IW3KFUIYm"
      }
    },
    {
      "cell_type": "code",
      "source": [
        "# Lista de DataFrames e nomes das lojas\n",
        "lojas = [loja, loja2, loja3, loja4]\n",
        "nomes_lojas = [\"Loja 1\", \"Loja 2\", \"Loja 3\", \"Loja 4\"]\n",
        "\n",
        "# Dicionário para armazenar os faturamentos\n",
        "faturamentos = {}\n",
        "\n",
        "# Calcula o faturamento para cada loja\n",
        "for i, df in enumerate(lojas):\n",
        "    faturamento = df[\"Preço\"].sum()\n",
        "    faturamentos[nomes_lojas[i]] = faturamento\n",
        "\n",
        "    print(f'{nomes_lojas[i]} tem um faturamento de R${faturamento:,.2f}')\n"
      ],
      "metadata": {
        "id": "xykobSftV64I",
        "colab": {
          "base_uri": "https://localhost:8080/"
        },
        "outputId": "ed2e6d10-ba03-4439-952e-d4bc358da645"
      },
      "execution_count": null,
      "outputs": [
        {
          "output_type": "stream",
          "name": "stdout",
          "text": [
            "Loja 1 tem um faturamento de R$1,534,509.12\n",
            "Loja 2 tem um faturamento de R$1,488,459.06\n",
            "Loja 3 tem um faturamento de R$1,464,025.03\n",
            "Loja 4 tem um faturamento de R$1,384,497.58\n"
          ]
        }
      ]
    },
    {
      "cell_type": "code",
      "source": [
        "# Calcula o número de vendas de cada loja\n",
        "\n",
        "for nome, df in zip(nomes_lojas, lojas):\n",
        "    vendas = df.shape[0]\n",
        "    print(f\"{nome}: {vendas} vendas realizadas\")"
      ],
      "metadata": {
        "colab": {
          "base_uri": "https://localhost:8080/"
        },
        "id": "jRkcdZk2yOBC",
        "outputId": "f02735a0-9bcb-4ed2-f250-40a4a4db6400"
      },
      "execution_count": null,
      "outputs": [
        {
          "output_type": "stream",
          "name": "stdout",
          "text": [
            "Loja 1: 2359 vendas realizadas\n",
            "Loja 2: 2359 vendas realizadas\n",
            "Loja 3: 2359 vendas realizadas\n",
            "Loja 4: 2358 vendas realizadas\n"
          ]
        }
      ]
    },
    {
      "cell_type": "code",
      "source": [
        "# Calcula o faturamento médio para cada loja\n",
        "\n",
        "for nome, df in zip(nomes_lojas, lojas):\n",
        "    media = df['Preço'].mean()\n",
        "\n",
        "    print(f\"{nome}: Faturamento médio por venda = R${media:,.2f}\")"
      ],
      "metadata": {
        "colab": {
          "base_uri": "https://localhost:8080/"
        },
        "id": "bMD8Ytthwgah",
        "outputId": "71428689-af95-43e4-de68-06e010d36bee"
      },
      "execution_count": null,
      "outputs": [
        {
          "output_type": "stream",
          "name": "stdout",
          "text": [
            "Loja 1: Faturamento médio por venda = R$650.49\n",
            "Loja 2: Faturamento médio por venda = R$630.97\n",
            "Loja 3: Faturamento médio por venda = R$620.61\n",
            "Loja 4: Faturamento médio por venda = R$587.15\n"
          ]
        }
      ]
    },
    {
      "cell_type": "code",
      "source": [
        "# Calcula o faturamento total das 4 lojas\n",
        "\n",
        "total = sum(df['Preço'].sum() for df in lojas)\n",
        "\n",
        "print(f\"Faturamento total das 4 lojas: R${total:,.2f}\")"
      ],
      "metadata": {
        "colab": {
          "base_uri": "https://localhost:8080/"
        },
        "id": "HkI16aXty-Tq",
        "outputId": "540797f0-6d63-47d7-c203-4d810223ccba"
      },
      "execution_count": null,
      "outputs": [
        {
          "output_type": "stream",
          "name": "stdout",
          "text": [
            "Faturamento total das 4 lojas: R$5,871,490.79\n"
          ]
        }
      ]
    },
    {
      "cell_type": "code",
      "source": [
        "# Calcula o ranking das lojas por faturamento\n",
        "\n",
        "df_faturamento = pd.DataFrame({\n",
        "    'Loja': nomes_lojas,\n",
        "    'Faturamento': [df['Preço'].sum() for df in lojas]\n",
        "}).sort_values('Faturamento', ascending=False)\n",
        "\n",
        "print(df_faturamento)"
      ],
      "metadata": {
        "colab": {
          "base_uri": "https://localhost:8080/"
        },
        "id": "sd_sxyJ_zdDO",
        "outputId": "cf9ca961-cb92-4b99-9f67-a30ab1e7bd7a"
      },
      "execution_count": null,
      "outputs": [
        {
          "output_type": "stream",
          "name": "stdout",
          "text": [
            "     Loja  Faturamento\n",
            "0  Loja 1   1534509.12\n",
            "1  Loja 2   1488459.06\n",
            "2  Loja 3   1464025.03\n",
            "3  Loja 4   1384497.58\n"
          ]
        }
      ]
    },
    {
      "cell_type": "code",
      "source": [
        "# Calcula a participação percentual de cada loja\n",
        "\n",
        "df_faturamento['Participação (%)'] = (df_faturamento['Faturamento'] / total * 100).round(2)\n",
        "\n",
        "print(df_faturamento)"
      ],
      "metadata": {
        "colab": {
          "base_uri": "https://localhost:8080/"
        },
        "id": "qbW9mNJ_z2rl",
        "outputId": "16f53610-6e97-472a-fae4-981b25738bdd"
      },
      "execution_count": null,
      "outputs": [
        {
          "output_type": "stream",
          "name": "stdout",
          "text": [
            "     Loja  Faturamento  Participação (%)\n",
            "0  Loja 1   1534509.12             26.13\n",
            "1  Loja 2   1488459.06             25.35\n",
            "2  Loja 3   1464025.03             24.93\n",
            "3  Loja 4   1384497.58             23.58\n"
          ]
        }
      ]
    },
    {
      "cell_type": "code",
      "source": [
        "# Calcula a diferença em relação a melhor loja\n",
        "\n",
        "melhor_faturamento = df_faturamento['Faturamento'].max()\n",
        "df_faturamento['Diferença para a Líder (R$)'] = melhor_faturamento - df_faturamento['Faturamento']\n",
        "\n",
        "print(df_faturamento)"
      ],
      "metadata": {
        "colab": {
          "base_uri": "https://localhost:8080/"
        },
        "id": "GgVs0Gqt3uy6",
        "outputId": "866f7f5b-9d71-4082-86a6-c47fb2c79649"
      },
      "execution_count": null,
      "outputs": [
        {
          "output_type": "stream",
          "name": "stdout",
          "text": [
            "     Loja  Faturamento  Participação (%)  Diferença para a Líder (R$)\n",
            "0  Loja 1   1534509.12             26.13                         0.00\n",
            "1  Loja 2   1488459.06             25.35                     46050.06\n",
            "2  Loja 3   1464025.03             24.93                     70484.09\n",
            "3  Loja 4   1384497.58             23.58                    150011.54\n"
          ]
        }
      ]
    },
    {
      "cell_type": "markdown",
      "source": [
        "# 2. Vendas por Categoria\n"
      ],
      "metadata": {
        "id": "2V_vcAPzWZmR"
      }
    },
    {
      "cell_type": "code",
      "source": [
        "# Calcula a quantidade de produtos vendidos por categoria\n",
        "\n",
        "resultados_por_loja = {}\n",
        "\n",
        "for nome, df in zip(nomes_lojas, lojas):\n",
        "    resultados_por_loja[nome] = df['Categoria do Produto'].value_counts().to_dict()\n",
        "\n",
        "df_resultados = pd.DataFrame(resultados_por_loja).fillna(0)\n",
        "df_resultados['TOTAL'] = df_resultados.sum(axis=1)\n",
        "df_resultados = df_resultados.sort_values('TOTAL', ascending=False)\n",
        "\n",
        "print(\"\\n📊 Vendas por Categoria + Total Geral:\\n\")\n",
        "print(df_resultados)"
      ],
      "metadata": {
        "id": "A34YupIuYhfF",
        "colab": {
          "base_uri": "https://localhost:8080/"
        },
        "outputId": "32243a94-c5d7-4ba7-9273-359d63859082"
      },
      "execution_count": null,
      "outputs": [
        {
          "output_type": "stream",
          "name": "stdout",
          "text": [
            "\n",
            "📊 Vendas por Categoria + Total Geral:\n",
            "\n",
            "                       Loja 1  Loja 2  Loja 3  Loja 4  TOTAL\n",
            "moveis                    465     442     499     480   1886\n",
            "eletronicos               448     422     451     451   1772\n",
            "brinquedos                324     313     315     338   1290\n",
            "eletrodomesticos          312     305     278     254   1149\n",
            "esporte e lazer           284     275     277     277   1113\n",
            "instrumentos musicais     182     224     177     170    753\n",
            "livros                    173     197     185     187    742\n",
            "utilidades domesticas     171     181     177     201    730\n"
          ]
        }
      ]
    },
    {
      "cell_type": "code",
      "source": [
        "#Calcula o valor total faturado por categoria por loja\n",
        "\n",
        "resultados_valor = {}\n",
        "\n",
        "for nome, df in zip(nomes_lojas, lojas):\n",
        "    valor_por_categoria = df.groupby('Categoria do Produto')['Preço'].sum().to_dict()\n",
        "    resultados_valor[nome] = valor_por_categoria\n",
        "\n",
        "df_valores = pd.DataFrame(resultados_valor).fillna(0)\n",
        "df_valores['TOTAL'] = df_valores.sum(axis=1)\n",
        "df_valores = df_valores.sort_values('TOTAL', ascending=False)\n",
        "\n",
        "def formatar_moeda(valor):\n",
        "    return f\"R${valor:,.2f}\".replace(\",\", \"X\").replace(\".\", \",\").replace(\"X\", \".\")\n",
        "\n",
        "df_valores_formatado = df_valores.map(formatar_moeda)\n",
        "\n",
        "print(\"\\n💰 VALOR FATURADO POR CATEGORIA (R$):\\n\")\n",
        "print(df_valores_formatado)"
      ],
      "metadata": {
        "colab": {
          "base_uri": "https://localhost:8080/"
        },
        "id": "jS3LlSeX0Qan",
        "outputId": "357dc0b6-aeab-4a4b-9cc9-36b5142e96b8"
      },
      "execution_count": null,
      "outputs": [
        {
          "output_type": "stream",
          "name": "stdout",
          "text": [
            "\n",
            "💰 VALOR FATURADO POR CATEGORIA (R$):\n",
            "\n",
            "                             Loja 1        Loja 2        Loja 3        Loja 4  \\\n",
            "eletronicos            R$572.659,23  R$547.773,71  R$547.699,92  R$545.966,86   \n",
            "eletrodomesticos       R$484.913,36  R$464.758,13  R$438.984,89  R$377.680,65   \n",
            "moveis                 R$250.178,11  R$235.234,68  R$268.095,56  R$256.705,65   \n",
            "instrumentos musicais  R$121.731,69  R$139.987,03  R$103.174,45  R$100.136,50   \n",
            "esporte e lazer         R$52.387,55   R$46.326,09   R$47.456,10   R$44.465,65   \n",
            "brinquedos              R$23.993,78   R$21.262,21   R$25.869,20   R$27.015,67   \n",
            "utilidades domesticas   R$16.931,48   R$19.662,86   R$20.080,21   R$20.098,83   \n",
            "livros                  R$11.713,92   R$13.454,35   R$12.664,70   R$12.427,77   \n",
            "\n",
            "                                TOTAL  \n",
            "eletronicos            R$2.214.099,72  \n",
            "eletrodomesticos       R$1.766.337,03  \n",
            "moveis                 R$1.010.214,00  \n",
            "instrumentos musicais    R$465.029,67  \n",
            "esporte e lazer          R$190.635,39  \n",
            "brinquedos                R$98.140,86  \n",
            "utilidades domesticas     R$76.773,38  \n",
            "livros                    R$50.260,74  \n"
          ]
        }
      ]
    },
    {
      "cell_type": "code",
      "source": [
        "#Calcula a participação percentual por valor em cada loja.\n",
        "\n",
        "print(\"\\n📊 Participação Percentual por VALOR (R$) em Cada Loja:\\n\")\n",
        "\n",
        "for loja in df_valores.columns.drop('TOTAL'):\n",
        "    total_loja = df_valores[loja].sum()\n",
        "    print(f\"\\n-----------------------------\\n\")\n",
        "    print(f\"🔹 {loja} (Faturamento Total: R${total_loja:,.2f})\\n\")\n",
        "\n",
        "    for categoria in df_valores.sort_values(loja, ascending=False).index:\n",
        "        valor = df_valores.loc[categoria, loja]\n",
        "        percentual = (valor / total_loja) * 100\n",
        "        print(f\"  {categoria.ljust(25)}: {percentual:.1f}% (R${valor:,.2f})\")\n"
      ],
      "metadata": {
        "id": "yZR6cOjXYSk1",
        "colab": {
          "base_uri": "https://localhost:8080/"
        },
        "outputId": "932efb60-94d6-4636-b14f-3764c031247e"
      },
      "execution_count": null,
      "outputs": [
        {
          "output_type": "stream",
          "name": "stdout",
          "text": [
            "\n",
            "📊 Participação Percentual por VALOR (R$) em Cada Loja:\n",
            "\n",
            "\n",
            "-----------------------------\n",
            "\n",
            "🔹 Loja 1 (Faturamento Total: R$1,534,509.12)\n",
            "\n",
            "  eletronicos              : 37.3% (R$572,659.23)\n",
            "  eletrodomesticos         : 31.6% (R$484,913.36)\n",
            "  moveis                   : 16.3% (R$250,178.11)\n",
            "  instrumentos musicais    : 7.9% (R$121,731.69)\n",
            "  esporte e lazer          : 3.4% (R$52,387.55)\n",
            "  brinquedos               : 1.6% (R$23,993.78)\n",
            "  utilidades domesticas    : 1.1% (R$16,931.48)\n",
            "  livros                   : 0.8% (R$11,713.92)\n",
            "\n",
            "-----------------------------\n",
            "\n",
            "🔹 Loja 2 (Faturamento Total: R$1,488,459.06)\n",
            "\n",
            "  eletronicos              : 36.8% (R$547,773.71)\n",
            "  eletrodomesticos         : 31.2% (R$464,758.13)\n",
            "  moveis                   : 15.8% (R$235,234.68)\n",
            "  instrumentos musicais    : 9.4% (R$139,987.03)\n",
            "  esporte e lazer          : 3.1% (R$46,326.09)\n",
            "  brinquedos               : 1.4% (R$21,262.21)\n",
            "  utilidades domesticas    : 1.3% (R$19,662.86)\n",
            "  livros                   : 0.9% (R$13,454.35)\n",
            "\n",
            "-----------------------------\n",
            "\n",
            "🔹 Loja 3 (Faturamento Total: R$1,464,025.03)\n",
            "\n",
            "  eletronicos              : 37.4% (R$547,699.92)\n",
            "  eletrodomesticos         : 30.0% (R$438,984.89)\n",
            "  moveis                   : 18.3% (R$268,095.56)\n",
            "  instrumentos musicais    : 7.0% (R$103,174.45)\n",
            "  esporte e lazer          : 3.2% (R$47,456.10)\n",
            "  brinquedos               : 1.8% (R$25,869.20)\n",
            "  utilidades domesticas    : 1.4% (R$20,080.21)\n",
            "  livros                   : 0.9% (R$12,664.70)\n",
            "\n",
            "-----------------------------\n",
            "\n",
            "🔹 Loja 4 (Faturamento Total: R$1,384,497.58)\n",
            "\n",
            "  eletronicos              : 39.4% (R$545,966.86)\n",
            "  eletrodomesticos         : 27.3% (R$377,680.65)\n",
            "  moveis                   : 18.5% (R$256,705.65)\n",
            "  instrumentos musicais    : 7.2% (R$100,136.50)\n",
            "  esporte e lazer          : 3.2% (R$44,465.65)\n",
            "  brinquedos               : 2.0% (R$27,015.67)\n",
            "  utilidades domesticas    : 1.5% (R$20,098.83)\n",
            "  livros                   : 0.9% (R$12,427.77)\n"
          ]
        }
      ]
    },
    {
      "cell_type": "markdown",
      "source": [
        "# 3. Média de Avaliação das Lojas"
      ],
      "metadata": {
        "id": "Rq6tU_xSY3jk"
      }
    },
    {
      "cell_type": "code",
      "source": [
        "# Calcula a média de avaliação por lojas\n",
        "\n",
        "medias_avaliacoes = {}\n",
        "\n",
        "for nome, df in zip(nomes_lojas, lojas):\n",
        "    media = df['Avaliação da compra'].mean()\n",
        "    medias_avaliacoes[nome] = media\n",
        "\n",
        "print(\"\\n📊 Média das avaliações por loja:\")\n",
        "print(\"-----------------------------\\n\")\n",
        "for nome, media in medias_avaliacoes.items():\n",
        "    if media >= 4.5:\n",
        "        feedback = \"⭐ Excelente\"\n",
        "    elif media >= 4.0:\n",
        "        feedback = \"👍 Bom\"\n",
        "    else:\n",
        "        feedback = \"💡 Pode melhorar\"\n",
        "    print(f\"  {nome.ljust(30)} _ {media:.2f} {feedback}\")"
      ],
      "metadata": {
        "id": "bh3jjjJwY5MU",
        "colab": {
          "base_uri": "https://localhost:8080/"
        },
        "outputId": "63419b86-360f-489a-fb3a-b1f50535a106"
      },
      "execution_count": null,
      "outputs": [
        {
          "output_type": "stream",
          "name": "stdout",
          "text": [
            "\n",
            "📊 Média das avaliações por loja:\n",
            "-----------------------------\n",
            "\n",
            "  Loja 1                         _ 3.98 💡 Pode melhorar\n",
            "  Loja 2                         _ 4.04 👍 Bom\n",
            "  Loja 3                         _ 4.05 👍 Bom\n",
            "  Loja 4                         _ 4.00 💡 Pode melhorar\n"
          ]
        }
      ]
    },
    {
      "cell_type": "code",
      "source": [
        "#Calcula a média percentual das avaliações por categoria e por loja de forma consolidada\n",
        "\n",
        "df_completo = pd.concat([df.assign(Loja=nome) for df, nome in zip(lojas, nomes_lojas)])\n",
        "\n",
        "media_por_categoria_loja = df_completo.groupby(['Categoria do Produto', 'Loja'])['Avaliação da compra'].mean().unstack(fill_value=0)\n",
        "media_percentual_por_categoria_loja = media_por_categoria_loja * 20\n",
        "media_percentual_consolidada = df_completo.groupby('Categoria do Produto')['Avaliação da compra'].mean() * 20\n",
        "\n",
        "df_resultados_percentual = media_percentual_por_categoria_loja.copy()\n",
        "df_resultados_percentual['Média Consolidada (%)'] = media_percentual_consolidada\n",
        "df_resultados_percentual = df_resultados_percentual.round(1)\n",
        "df_resultados_percentual.index.name = 'Categoria do Produto'\n",
        "\n",
        "\n",
        "\n",
        "print(\"\\n📊 Média percentual das avaliações por categoria:\")\n",
        "print(\"-------------------------------------------------------------------------------\\n\")\n",
        "print(df_resultados_percentual)"
      ],
      "metadata": {
        "id": "s1ZIuNl1LH-X",
        "colab": {
          "base_uri": "https://localhost:8080/"
        },
        "outputId": "6f24097b-d34a-471c-95e7-80793cab9b68"
      },
      "execution_count": null,
      "outputs": [
        {
          "output_type": "stream",
          "name": "stdout",
          "text": [
            "\n",
            "📊 Média percentual das avaliações por categoria:\n",
            "-------------------------------------------------------------------------------\n",
            "\n",
            "Loja                   Loja 1  Loja 2  Loja 3  Loja 4  Média Consolidada (%)\n",
            "Categoria do Produto                                                        \n",
            "brinquedos               81.5    80.5    83.9    79.8                   81.4\n",
            "eletrodomesticos         80.6    81.4    80.2    78.6                   80.3\n",
            "eletronicos              80.1    79.4    79.7    80.1                   79.9\n",
            "esporte e lazer          78.0    81.3    78.8    81.1                   79.8\n",
            "instrumentos musicais    81.0    80.7    80.1    78.2                   80.1\n",
            "livros                   79.5    79.0    81.0    80.9                   80.1\n",
            "moveis                   78.9    81.9    82.0    80.0                   80.7\n",
            "utilidades domesticas    75.0    81.4    81.5    80.2                   79.6\n"
          ]
        }
      ]
    },
    {
      "cell_type": "markdown",
      "source": [
        "# 4. Produtos Mais e Menos Vendidos"
      ],
      "metadata": {
        "id": "DmNp1KPBZCm-"
      }
    },
    {
      "cell_type": "code",
      "source": [
        "# Calcula os produtos de cada loja que tem mais e menos venda.\n",
        "\n",
        "\n",
        "def analisar_produtos_destaque(lojas, nomes_lojas):\n",
        "    df_completo = pd.concat([df.assign(Loja=nome) for df, nome in zip(lojas, nomes_lojas)])\n",
        "\n",
        "    # 2. Calcular produtos destaque (quantidade)\n",
        "    vendas_por_produto = df_completo.groupby(['Loja', 'Produto']).size().unstack(fill_value=0)\n",
        "    df_resultados = pd.DataFrame({\n",
        "        'Produto Mais Vendido': vendas_por_produto.idxmax(axis=1),\n",
        "        'Quantidade (Mais)': vendas_por_produto.max(axis=1),\n",
        "        'Produto Menos Vendido': vendas_por_produto.idxmin(axis=1),\n",
        "        'Quantidade (Menos)': vendas_por_produto.min(axis=1)\n",
        "    })\n",
        "\n",
        "    # 3. Adicionar valores e percentuais\n",
        "    valor_por_produto = df_completo.groupby(['Loja', 'Produto'])['Preço'].sum().unstack(fill_value=0)\n",
        "    total_por_loja = df_completo.groupby('Loja')['Preço'].sum()\n",
        "\n",
        "    for loja in df_resultados.index:\n",
        "        for tipo in ['Mais', 'Menos']:\n",
        "            produto = df_resultados.loc[loja, f'Produto {tipo} Vendido']\n",
        "            valor = valor_por_produto.loc[loja, produto]\n",
        "            df_resultados.loc[loja, f'Valor ({tipo})'] = f\"R${valor:,.2f}\"\n",
        "            df_resultados.loc[loja, f'% ({tipo})'] = f\"{(valor / total_por_loja[loja]) * 100:.2f}%\"\n",
        "\n",
        "    return df_resultados[['Produto Mais Vendido', 'Quantidade (Mais)', 'Valor (Mais)', '% (Mais)',\n",
        "                         'Produto Menos Vendido', 'Quantidade (Menos)', 'Valor (Menos)', '% (Menos)']]\n",
        "\n",
        "if __name__ == \"__main__\":\n",
        "    df_resultados = analisar_produtos_destaque(lojas, nomes_lojas)\n",
        "    print(\"\\n📊 Resultado Consolidado:\")\n",
        "    print(df_resultados.to_markdown(tablefmt=\"grid\", stralign=\"center\"))"
      ],
      "metadata": {
        "id": "0Sw3sd4IZIGW",
        "colab": {
          "base_uri": "https://localhost:8080/"
        },
        "outputId": "97a2443b-6a12-4a12-b688-f5e3b3cff5f4"
      },
      "execution_count": null,
      "outputs": [
        {
          "output_type": "stream",
          "name": "stdout",
          "text": [
            "\n",
            "📊 Resultado Consolidado:\n",
            "+--------+--------------------------+---------------------+----------------+------------+-------------------------+----------------------+-----------------+-------------+\n",
            "|  Loja  |   Produto Mais Vendido   |   Quantidade (Mais) |  Valor (Mais)  |  % (Mais)  |  Produto Menos Vendido  |   Quantidade (Menos) |  Valor (Menos)  |  % (Menos)  |\n",
            "+========+==========================+=====================+================+============+=========================+======================+=================+=============+\n",
            "| Loja 1 |      Guarda roupas       |                  60 |  R$39,282.78   |   2.56%    |      Celular ABXY       |                   33 |   R$43,534.47   |    2.84%    |\n",
            "+--------+--------------------------+---------------------+----------------+------------+-------------------------+----------------------+-----------------+-------------+\n",
            "| Loja 2 | Iniciando em programação |                  65 |   R$4,169.96   |   0.28%    |    Jogo de tabuleiro    |                   32 |   R$7,749.58    |    0.52%    |\n",
            "+--------+--------------------------+---------------------+----------------+------------+-------------------------+----------------------+-----------------+-------------+\n",
            "| Loja 3 |      Kit banquetas       |                  57 |  R$22,265.96   |   1.52%    |    Blocos de montar     |                   35 |   R$1,649.81    |    0.11%    |\n",
            "+--------+--------------------------+---------------------+----------------+------------+-------------------------+----------------------+-----------------+-------------+\n",
            "| Loja 4 |         Cama box         |                  62 |  R$43,928.57   |   3.17%    |        Guitarra         |                   33 |   R$34,430.67   |    2.49%    |\n",
            "+--------+--------------------------+---------------------+----------------+------------+-------------------------+----------------------+-----------------+-------------+\n"
          ]
        }
      ]
    },
    {
      "cell_type": "markdown",
      "source": [
        "# 5. Frete Médio por Loja\n"
      ],
      "metadata": {
        "id": "Fl0cGi3bZKqU"
      }
    },
    {
      "cell_type": "code",
      "source": [
        "#Calcula o frete médio por loja\n",
        "\n",
        "frete_medio_por_loja = {}\n",
        "for i in range(len(lojas)):\n",
        "    nome = nomes_lojas[i]\n",
        "    df = lojas[i]\n",
        "    frete_medio = df['Frete'].mean()\n",
        "    frete_medio_por_loja[nome] = round(frete_medio, 2)\n",
        "\n",
        "df_frete_medio = pd.DataFrame({\n",
        "    'Loja': frete_medio_por_loja.keys(),\n",
        "    'Frete Médio (R$)': frete_medio_por_loja.values()\n",
        "})\n",
        "\n",
        "print(\"\\n📦 Custo Médio de Frete por Loja:\")\n",
        "print(\"=\" * 35)\n",
        "print(df_frete_medio.to_markdown(tablefmt=\"grid\", index=False))"
      ],
      "metadata": {
        "id": "S2JeaCykZNy9",
        "colab": {
          "base_uri": "https://localhost:8080/"
        },
        "outputId": "456963c4-c48a-48fd-adae-63c2f8aaf0fa"
      },
      "execution_count": null,
      "outputs": [
        {
          "output_type": "stream",
          "name": "stdout",
          "text": [
            "\n",
            "📦 Custo Médio de Frete por Loja:\n",
            "===================================\n",
            "+--------+--------------------+\n",
            "| Loja   |   Frete Médio (R$) |\n",
            "+========+====================+\n",
            "| Loja 1 |              34.69 |\n",
            "+--------+--------------------+\n",
            "| Loja 2 |              33.62 |\n",
            "+--------+--------------------+\n",
            "| Loja 3 |              33.07 |\n",
            "+--------+--------------------+\n",
            "| Loja 4 |              31.28 |\n",
            "+--------+--------------------+\n"
          ]
        }
      ]
    },
    {
      "cell_type": "markdown",
      "source": [
        "\n",
        "\n",
        "# 6. Gráficos\n"
      ],
      "metadata": {
        "id": "a2-6aPKbLgiv"
      }
    },
    {
      "cell_type": "code",
      "source": [
        "import matplotlib.pyplot as plt\n",
        "\n",
        "# Gráfico de barras do Faturamento por Loja\n",
        "plt.figure(figsize=(10, 5))\n",
        "bars = plt.bar(df_faturamento['Loja'], df_faturamento['Faturamento'], color=['blue', 'green', 'yellow', 'orange'])\n",
        "plt.ylabel(\"Faturamento (R$)\")\n",
        "plt.title(\"Faturamento por Loja\")\n",
        "\n",
        "for bar in bars:\n",
        "    yval = bar.get_height()\n",
        "    plt.text(bar.get_x() + bar.get_width()/2, yval + 0.1, f'{yval:,.2f}', ha='center', va='bottom')\n",
        "\n",
        "plt.savefig(\"faturamento_por_loja.png\")\n",
        "plt.close()\n",
        "plt.show()\n",
        "\n",
        "# Gráfico de pizza da Participação no Faturamento Total\n",
        "plt.figure(figsize=(8, 8))\n",
        "plt.pie(df_faturamento['Participação (%)'], labels=df_faturamento['Loja'], autopct='%1.1f%%', startangle=90)\n",
        "plt.title(\"\\nParticipação no Faturamento Total por Loja\")\n",
        "plt.savefig(\"participacao_no_faturamento_por_loja.png\")\n",
        "plt.close()\n",
        "plt.show()\n",
        "\n",
        "# Gráfico  de barra da Médias de Avaliacões da Loja\n",
        "lojas = list(medias_avaliacoes.keys())\n",
        "avaliacoes = list(medias_avaliacoes.values())\n",
        "plt.figure(figsize=(8, 6))\n",
        "plt.bar(lojas, avaliacoes, color='skyblue')\n",
        "plt.xlabel(\"Loja\")\n",
        "plt.ylabel(\"Avaliação Média\")\n",
        "plt.title(\"Avaliação das Lojas\")\n",
        "plt.ylim(0, 5)\n",
        "for i, v in enumerate(avaliacoes):\n",
        "    plt.text(i, v + 0.1, f'{v:.3f}', ha='center', va='bottom', color='black', fontsize=10)\n",
        "plt.savefig(\"media_de_avaliacao_por_loja.png\")\n",
        "plt.close()\n",
        "plt.show()\n",
        "\n",
        "# Gráfico de linhas do Frete Médio por Loja\n",
        "plt.figure(figsize=(10, 6))\n",
        "plt.plot(df_frete_medio['Loja'], df_frete_medio['Frete Médio (R$)'], marker='o')\n",
        "plt.xlabel(\"Loja\")\n",
        "plt.ylabel(\"Frete Médio (R$)\")\n",
        "plt.title(\"Frete Médio por Loja\")\n",
        "plt.savefig(\"frete_medio_por_loja.png\")\n",
        "plt.close()\n",
        "plt.show()\n"
      ],
      "metadata": {
        "id": "RiMh6SM5RJz6"
      },
      "execution_count": 74,
      "outputs": []
    },
    {
      "cell_type": "markdown",
      "source": [
        "# 7. Relatório\n"
      ],
      "metadata": {
        "id": "xy_JBtvfYyN9"
      }
    },
    {
      "cell_type": "markdown",
      "source": [
        "## Análise de Desempenho das Lojas\n",
        "\n",
        "Este relatório apresenta uma análise detalhada do desempenho das quatro lojas pertencentes ao Senhor João, com o objetivo de identificar qual estabelecimento seria mais estratégico para venda. A análise baseia-se em indicadores como: **faturamento total**, **categorias de produtos**, **avaliações de clientes**, **produtos mais e menos vendidos** e **frete médio**, fundamentada para auxiliar na tomada de decisão.\n",
        "\n",
        "## 1. Faturamento Total\n",
        "\n",
        "O faturamento total das quatro lojas apresenta a seguinte distribuição:\n",
        "\n",
        "- **Loja 1**: R\\$1.534.509,12 (26,13% de participação)\n",
        "- **Loja 2**: R\\$1.488.459,06 (25,35% de participação)\n",
        "- **Loja 3**: R\\$1.464.025,03 (24,93% de participação)\n",
        "- **Loja 4**: R\\$1.384.497,58 (23,58% de participação)\n",
        "\n",
        "A **Loja 1** lidera com uma vantagem de R\\$46.050,06 sobre a **Loja 2**. Todas as lojas apresentam desempenho equilibrado, com participações de mercado variando entre 23,58% e 26,13%.\n",
        "\n",
        "## 2. Avaliações de Clientes\n",
        "\n",
        "As médias de avaliações das lojas são:\n",
        "\n",
        "- **Loja 1**: 3,997\n",
        "- **Loja 2**: 4,037\n",
        "- **Loja 3**: 4,048\n",
        "- **Loja 4**: 3,996\n",
        "\n",
        "A **Loja 1**, apesar do maior faturamento, tem a **menor média de avaliação**. Todas as lojas mantêm avaliações próximas a 4 em uma escala de 5, indicando boa satisfação geral.\n",
        "\n",
        "## 3. Vendas e Faturamento por Categoria\n",
        "\n",
        "A categoria **Móveis** lidera em volume de vendas em todas as lojas, seguida por **Eletrônicos**. Destaques:\n",
        "\n",
        "- **Loja 3**: Maior volume de vendas de **Móveis** (499 unidades).\n",
        "- **Loja 4**: Destaque em **Brinquedos** (338 unidades) e **Utilidades Domésticas** (201 unidades).\n",
        "\n",
        "A categoria mais lucrativa é **Eletrônicos**, com mais de R\\$2,2 milhões de faturamento total, seguida por **Eletrodomésticos** (R\\$1,7 milhão).\n",
        "\n",
        "Desempenho por loja:\n",
        "\n",
        "- **Loja 1**: Lidera em **Eletrônicos** (R\\$572.659,23) e **Eletrodomésticos** (R\\$484.913,36).\n",
        "- **Loja 2**: Melhor desempenho em **Instrumentos Musicais** (R\\$139.987,03) e **Livros** (R\\$13.454,35).\n",
        "- **Loja 3**: Destaque em **Móveis**, em volume (499 unidades) e faturamento (R\\$268.095,56).\n",
        "- **Loja 4**: Maior equilíbrio na distribuição de vendas entre categorias.\n",
        "\n",
        "**Eletrônicos** e **Eletrodomésticos** têm ticket médio mais alto, enquanto **Livros** e **Utilidades Domésticas** contribuem menos para o faturamento.\n",
        "\n",
        "## 4. Produtos Mais e Menos Vendidos\n",
        "\n",
        "- **Loja 4**: Produto mais vendido (**Cama box**) com maior impacto percentual (3,17%).\n",
        "- **Loja 1**: Produto menos vendido (**Celular ABXY**, 2,84%) gera mais receita que o mais vendido (**Guarda-roupas**, 2,56%).\n",
        "- **Loja 2**: Produto mais vendido em volume (65 unidades), mas com menor percentual (0,28%).\n",
        "- **Loja 3**: Produto menos vendido com menor percentual (0,11%).\n",
        "\n",
        "## 5. Frete Médio\n",
        "\n",
        "- **Loja 4**: Menor frete médio (R\\$31,28), um diferencial competitivo.\n",
        "- **Loja 1**: Maior frete médio (R\\$34,69), podendo impactar negativamente a experiência de compra.\n",
        "\n",
        "## Análise dos Pontos Fortes e Fracos\n",
        "\n",
        "### Pontos Fortes\n",
        "\n",
        "- **Loja 1**:\n",
        "  - Maior faturamento total (R\\$1.534.509,12).\n",
        "  - Maior participação de mercado (26,13%).\n",
        "\n",
        "- **Loja 2**:\n",
        "  - Segunda melhor avaliação média (4,037).\n",
        "  - Segundo maior faturamento (R\\$1.488.459,06).\n",
        "\n",
        "- **Loja 3**:\n",
        "  - Melhor avaliação média (4,048).\n",
        "  - Terceiro maior faturamento (R\\$1.464.025,03).\n",
        "\n",
        "- **Loja 4**:\n",
        "  - Menor frete médio (R\\$31,28).\n",
        "  - Produto mais vendido com maior impacto percentual (3,17%).\n",
        "\n",
        "### Pontos Fracos\n",
        "\n",
        "- **Loja 1**:\n",
        "  - Menor média de avaliação (3,997).\n",
        "  - Maior frete médio (R\\$34,69).\n",
        "\n",
        "- **Loja 2**:\n",
        "  - Produto mais vendido com baixo valor e impacto (0,28%).\n",
        "\n",
        "- **Loja 3**:\n",
        "  - Produto menos vendido com valor muito baixo (0,11%).\n",
        "\n",
        "- **Loja 4**:\n",
        "  - Menor faturamento total (R\\$1.384.497,58).\n",
        "  - Maior diferença para a loja líder (R\\$150.011,54).\n",
        "---\n",
        "## Recomendação\n",
        "\n",
        "Recomendo a venda da **Loja 4** pelos seguintes motivos:\n",
        "\n",
        "- **Desempenho financeiro inferior**: Menor faturamento (R\\$1.384.497,58), com diferença de R\\$150.011,54 para a **Loja 1**.\n",
        "- **Potencial limitado de crescimento**: O menor frete médio não se traduziu em maior volume de vendas ou faturamento.\n",
        "- **Preservação do negócio principal**: Lojas 1, 2 e 3 formam um conjunto mais coeso e complementar.\n",
        "- **Avaliações de clientes**: A **Loja 4** tem avaliação inferior às Lojas 2 e 3.\n",
        "- **Maximização do valor do negócio**: Vender a **Loja 4** permite focar em operações mais rentáveis, reinvestindo recursos nas demais lojas por exemplo.\n",
        "\n",
        "Os recursos da venda podem ser usados para melhorar a **Loja 1** (avaliações e frete) ou ampliar a **Loja 3** (melhor avaliação). Após a venda, recomendo uma análise aprofundada do mix de produtos das lojas remanescentes para otimizar estoque e rentabilidade.\n",
        "\n",
        "Esta recomendação considera uma visão estratégica de longo prazo para o crescimento sustentável e a maximização do valor do negócio."
      ],
      "metadata": {
        "id": "_BbTZ_gyUgZd"
      }
    },
    {
      "cell_type": "markdown",
      "source": [
        "# 8. Análise de Desempenho Geográfico\n",
        "\n"
      ],
      "metadata": {
        "id": "ZRG254QPZnIu"
      }
    },
    {
      "cell_type": "code",
      "source": [
        "import folium\n",
        "from folium.plugins import HeatMap\n",
        "\n",
        "# Criar um mapa centralizado no Brasil\n",
        "mapa = folium.Map(location=[-15, -50], zoom_start=4)\n",
        "\n",
        "# Preparar os dados para o Heatmap\n",
        "dados_heatmap = []\n",
        "for index, row in df_completo.iterrows():\n",
        "    if pd.notna(row['lat']) and pd.notna(row['lon']):\n",
        "        dados_heatmap.append([row['lat'], row['lon']])  # Adicionar lat/lon à lista\n",
        "\n",
        "# Adicionar o Heatmap ao mapa\n",
        "HeatMap(dados_heatmap).add_to(mapa)\n",
        "\n",
        "# Salvar o mapa como um arquivo HTML\n",
        "mapa.save(\"mapa_de_calor.html\")\n",
        "\n",
        "# Exibir o mapa\n",
        "mapa"
      ],
      "metadata": {
        "colab": {
          "base_uri": "https://localhost:8080/",
          "height": 914
        },
        "id": "7NyA4Lgjhgmb",
        "outputId": "67d2363e-eef9-42c9-b6c5-8288cdaf7887"
      },
      "execution_count": 75,
      "outputs": [
        {
          "output_type": "execute_result",
          "data": {
            "text/plain": [
              "<folium.folium.Map at 0x7aef54fb1890>"
            ],
            "text/html": [
              "<div style=\"width:100%;\"><div style=\"position:relative;width:100%;height:0;padding-bottom:60%;\"><span style=\"color:#565656\">Make this Notebook Trusted to load map: File -> Trust Notebook</span><iframe srcdoc=\"&lt;!DOCTYPE html&gt;\n",
              "&lt;html&gt;\n",
              "&lt;head&gt;\n",
              "    \n",
              "    &lt;meta http-equiv=&quot;content-type&quot; content=&quot;text/html; charset=UTF-8&quot; /&gt;\n",
              "    \n",
              "        &lt;script&gt;\n",
              "            L_NO_TOUCH = false;\n",
              "            L_DISABLE_3D = false;\n",
              "        &lt;/script&gt;\n",
              "    \n",
              "    &lt;style&gt;html, body {width: 100%;height: 100%;margin: 0;padding: 0;}&lt;/style&gt;\n",
              "    &lt;style&gt;#map {position:absolute;top:0;bottom:0;right:0;left:0;}&lt;/style&gt;\n",
              "    &lt;script src=&quot;https://cdn.jsdelivr.net/npm/leaflet@1.9.3/dist/leaflet.js&quot;&gt;&lt;/script&gt;\n",
              "    &lt;script src=&quot;https://code.jquery.com/jquery-3.7.1.min.js&quot;&gt;&lt;/script&gt;\n",
              "    &lt;script src=&quot;https://cdn.jsdelivr.net/npm/bootstrap@5.2.2/dist/js/bootstrap.bundle.min.js&quot;&gt;&lt;/script&gt;\n",
              "    &lt;script src=&quot;https://cdnjs.cloudflare.com/ajax/libs/Leaflet.awesome-markers/2.0.2/leaflet.awesome-markers.js&quot;&gt;&lt;/script&gt;\n",
              "    &lt;link rel=&quot;stylesheet&quot; href=&quot;https://cdn.jsdelivr.net/npm/leaflet@1.9.3/dist/leaflet.css&quot;/&gt;\n",
              "    &lt;link rel=&quot;stylesheet&quot; href=&quot;https://cdn.jsdelivr.net/npm/bootstrap@5.2.2/dist/css/bootstrap.min.css&quot;/&gt;\n",
              "    &lt;link rel=&quot;stylesheet&quot; href=&quot;https://netdna.bootstrapcdn.com/bootstrap/3.0.0/css/bootstrap-glyphicons.css&quot;/&gt;\n",
              "    &lt;link rel=&quot;stylesheet&quot; href=&quot;https://cdn.jsdelivr.net/npm/@fortawesome/fontawesome-free@6.2.0/css/all.min.css&quot;/&gt;\n",
              "    &lt;link rel=&quot;stylesheet&quot; href=&quot;https://cdnjs.cloudflare.com/ajax/libs/Leaflet.awesome-markers/2.0.2/leaflet.awesome-markers.css&quot;/&gt;\n",
              "    &lt;link rel=&quot;stylesheet&quot; href=&quot;https://cdn.jsdelivr.net/gh/python-visualization/folium/folium/templates/leaflet.awesome.rotate.min.css&quot;/&gt;\n",
              "    \n",
              "            &lt;meta name=&quot;viewport&quot; content=&quot;width=device-width,\n",
              "                initial-scale=1.0, maximum-scale=1.0, user-scalable=no&quot; /&gt;\n",
              "            &lt;style&gt;\n",
              "                #map_38fd1a62f44601c20dbd193725a2034d {\n",
              "                    position: relative;\n",
              "                    width: 100.0%;\n",
              "                    height: 100.0%;\n",
              "                    left: 0.0%;\n",
              "                    top: 0.0%;\n",
              "                }\n",
              "                .leaflet-container { font-size: 1rem; }\n",
              "            &lt;/style&gt;\n",
              "        \n",
              "    &lt;script src=&quot;https://cdn.jsdelivr.net/gh/python-visualization/folium@main/folium/templates/leaflet_heat.min.js&quot;&gt;&lt;/script&gt;\n",
              "&lt;/head&gt;\n",
              "&lt;body&gt;\n",
              "    \n",
              "    \n",
              "            &lt;div class=&quot;folium-map&quot; id=&quot;map_38fd1a62f44601c20dbd193725a2034d&quot; &gt;&lt;/div&gt;\n",
              "        \n",
              "&lt;/body&gt;\n",
              "&lt;script&gt;\n",
              "    \n",
              "    \n",
              "            var map_38fd1a62f44601c20dbd193725a2034d = L.map(\n",
              "                &quot;map_38fd1a62f44601c20dbd193725a2034d&quot;,\n",
              "                {\n",
              "                    center: [-15.0, -50.0],\n",
              "                    crs: L.CRS.EPSG3857,\n",
              "                    ...{\n",
              "  &quot;zoom&quot;: 4,\n",
              "  &quot;zoomControl&quot;: true,\n",
              "  &quot;preferCanvas&quot;: false,\n",
              "}\n",
              "\n",
              "                }\n",
              "            );\n",
              "\n",
              "            \n",
              "\n",
              "        \n",
              "    \n",
              "            var tile_layer_614ea3d3e6df00b0c6a7c326c3aa165e = L.tileLayer(\n",
              "                &quot;https://tile.openstreetmap.org/{z}/{x}/{y}.png&quot;,\n",
              "                {\n",
              "  &quot;minZoom&quot;: 0,\n",
              "  &quot;maxZoom&quot;: 19,\n",
              "  &quot;maxNativeZoom&quot;: 19,\n",
              "  &quot;noWrap&quot;: false,\n",
              "  &quot;attribution&quot;: &quot;\\u0026copy; \\u003ca href=\\&quot;https://www.openstreetmap.org/copyright\\&quot;\\u003eOpenStreetMap\\u003c/a\\u003e contributors&quot;,\n",
              "  &quot;subdomains&quot;: &quot;abc&quot;,\n",
              "  &quot;detectRetina&quot;: false,\n",
              "  &quot;tms&quot;: false,\n",
              "  &quot;opacity&quot;: 1,\n",
              "}\n",
              "\n",
              "            );\n",
              "        \n",
              "    \n",
              "            tile_layer_614ea3d3e6df00b0c6a7c326c3aa165e.addTo(map_38fd1a62f44601c20dbd193725a2034d);\n",
              "        \n",
              "    \n",
              "            var heat_map_70d4dea9ef0ff670d2afa277b5ee8c5d = L.heatLayer(\n",
              "                [[-22.19, -48.79], [-22.25, -42.66], [-15.83, -47.86], [-30.17, -53.5], [-18.1, -44.38], [-30.17, -53.5], [-22.19, -48.79], [-5.2, -39.53], [-22.19, -48.79], [-22.19, -48.79], [-22.19, -48.79], [-15.83, -47.86], [-22.25, -42.66], [-19.19, -40.34], [-22.19, -48.79], [-30.17, -53.5], [-22.25, -42.66], [-5.2, -39.53], [-22.19, -48.79], [-18.1, -44.38], [-30.17, -53.5], [-22.19, -48.79], [-22.25, -42.66], [-22.19, -48.79], [-18.1, -44.38], [-22.19, -48.79], [-18.1, -44.38], [-22.19, -48.79], [-13.29, -41.71], [-22.19, -48.79], [-22.25, -42.66], [-18.1, -44.38], [-22.25, -42.66], [-22.19, -48.79], [-22.19, -48.79], [-18.1, -44.38], [-22.19, -48.79], [-30.17, -53.5], [-22.19, -48.79], [-9.46, -48.26], [-24.89, -51.55], [-30.17, -53.5], [-22.25, -42.66], [-22.19, -48.79], [-22.19, -48.79], [-22.25, -42.66], [1.41, -51.77], [-18.1, -44.38], [-30.17, -53.5], [-15.98, -49.86], [-24.89, -51.55], [-18.1, -44.38], [-22.19, -48.79], [-30.17, -53.5], [-22.25, -42.66], [-22.19, -48.79], [-15.98, -49.86], [-22.19, -48.79], [-22.19, -48.79], [-18.1, -44.38], [-9.62, -36.82], [-22.19, -48.79], [-18.1, -44.38], [-22.19, -48.79], [-22.19, -48.79], [-22.25, -42.66], [-18.1, -44.38], [-30.17, -53.5], [-6.6, -42.28], [-22.19, -48.79], [-22.19, -48.79], [-18.1, -44.38], [-8.38, -37.86], [-30.17, -53.5], [-22.19, -48.79], [-22.19, -48.79], [-3.47, -65.1], [-22.25, -42.66], [-18.1, -44.38], [-22.19, -48.79], [-13.29, -41.71], [-22.19, -48.79], [-18.1, -44.38], [-18.1, -44.38], [-15.83, -47.86], [-5.81, -36.59], [-22.19, -48.79], [-18.1, -44.38], [-22.19, -48.79], [-22.19, -48.79], [-30.17, -53.5], [-22.19, -48.79], [-22.19, -48.79], [-3.47, -65.1], [-22.25, -42.66], [-15.98, -49.86], [-24.89, -51.55], [-22.19, -48.79], [-18.1, -44.38], [-18.1, -44.38], [-22.19, -48.79], [-18.1, -44.38], [-22.19, -48.79], [-22.19, -48.79], [-22.19, -48.79], [-22.25, -42.66], [-22.19, -48.79], [-3.79, -52.48], [-22.19, -48.79], [-22.19, -48.79], [-22.19, -48.79], [-22.19, -48.79], [-22.19, -48.79], [-22.19, -48.79], [-22.19, -48.79], [-22.19, -48.79], [-15.83, -47.86], [-9.46, -48.26], [-7.28, -36.72], [-22.19, -48.79], [-30.17, -53.5], [-22.19, -48.79], [-22.25, -42.66], [-22.25, -42.66], [-22.19, -48.79], [-22.19, -48.79], [-7.28, -36.72], [-8.38, -37.86], [-24.89, -51.55], [-18.1, -44.38], [-18.1, -44.38], [-22.19, -48.79], [-22.25, -42.66], [-15.83, -47.86], [-22.19, -48.79], [-8.38, -37.86], [-22.25, -42.66], [-22.25, -42.66], [-22.19, -48.79], [-22.19, -48.79], [-27.45, -50.95], [-22.19, -48.79], [-24.89, -51.55], [-19.19, -40.34], [-22.25, -42.66], [-30.17, -53.5], [-8.38, -37.86], [-27.45, -50.95], [-10.57, -37.45], [-22.25, -42.66], [-27.45, -50.95], [-22.19, -48.79], [-30.17, -53.5], [-22.25, -42.66], [-24.89, -51.55], [-24.89, -51.55], [-24.89, -51.55], [-22.19, -48.79], [-22.19, -48.79], [-13.29, -41.71], [-22.25, -42.66], [-22.19, -48.79], [-22.19, -48.79], [-22.19, -48.79], [-22.19, -48.79], [-15.83, -47.86], [-27.45, -50.95], [-22.25, -42.66], [-18.1, -44.38], [-18.1, -44.38], [-22.19, -48.79], [-5.2, -39.53], [-22.19, -48.79], [-24.89, -51.55], [-15.83, -47.86], [-22.25, -42.66], [-22.19, -48.79], [-22.19, -48.79], [-27.45, -50.95], [-22.19, -48.79], [-22.25, -42.66], [-22.19, -48.79], [-18.1, -44.38], [-22.19, -48.79], [-12.64, -55.42], [-27.45, -50.95], [-19.19, -40.34], [-22.19, -48.79], [-22.19, -48.79], [-15.98, -49.86], [-22.19, -48.79], [-18.1, -44.38], [-22.19, -48.79], [-22.19, -48.79], [-30.17, -53.5], [-22.19, -48.79], [-22.19, -48.79], [-22.19, -48.79], [-22.25, -42.66], [-8.38, -37.86], [-22.19, -48.79], [-22.19, -48.79], [-22.25, -42.66], [-18.1, -44.38], [-22.19, -48.79], [-22.19, -48.79], [-22.19, -48.79], [-22.19, -48.79], [-24.89, -51.55], [-22.25, -42.66], [-22.19, -48.79], [-22.19, -48.79], [-22.19, -48.79], [-22.19, -48.79], [-22.19, -48.79], [-22.19, -48.79], [-22.19, -48.79], [-22.19, -48.79], [-24.89, -51.55], [-22.19, -48.79], [-22.19, -48.79], [-22.19, -48.79], [-22.19, -48.79], [-13.29, -41.71], [-22.19, -48.79], [-5.2, -39.53], [-24.89, -51.55], [-22.25, -42.66], [-24.89, -51.55], [-22.19, -48.79], [-22.25, -42.66], [-9.62, -36.82], [-15.83, -47.86], [-15.83, -47.86], [-22.19, -48.79], [-22.19, -48.79], [-22.19, -48.79], [-24.89, -51.55], [-22.19, -48.79], [-22.19, -48.79], [-24.89, -51.55], [-18.1, -44.38], [-22.19, -48.79], [-24.89, -51.55], [-18.1, -44.38], [-22.25, -42.66], [-13.29, -41.71], [-22.19, -48.79], [-22.19, -48.79], [-22.19, -48.79], [-18.1, -44.38], [-22.19, -48.79], [-22.19, -48.79], [-18.1, -44.38], [-19.19, -40.34], [-24.89, -51.55], [-22.19, -48.79], [-22.19, -48.79], [-13.29, -41.71], [-22.19, -48.79], [-22.19, -48.79], [-18.1, -44.38], [-22.19, -48.79], [-22.19, -48.79], [-8.38, -37.86], [-22.19, -48.79], [-22.19, -48.79], [-22.19, -48.79], [-15.83, -47.86], [-22.19, -48.79], [-22.19, -48.79], [-22.19, -48.79], [-22.25, -42.66], [-22.19, -48.79], [-18.1, -44.38], [-20.51, -54.54], [-27.45, -50.95], [-15.83, -47.86], [-22.25, -42.66], [-18.1, -44.38], [-30.17, -53.5], [-22.19, -48.79], [-22.19, -48.79], [-22.25, -42.66], [-22.19, -48.79], [-3.79, -52.48], [-22.19, -48.79], [-22.19, -48.79], [-19.19, -40.34], [-22.19, -48.79], [-22.19, -48.79], [-30.17, -53.5], [-24.89, -51.55], [-8.38, -37.86], [-20.51, -54.54], [-30.17, -53.5], [-22.19, -48.79], [-15.98, -49.86], [-30.17, -53.5], [-22.19, -48.79], [-22.19, -48.79], [-22.25, -42.66], [-18.1, -44.38], [-22.25, -42.66], [-13.29, -41.71], [-22.19, -48.79], [-5.2, -39.53], [-22.19, -48.79], [-22.19, -48.79], [-22.19, -48.79], [-18.1, -44.38], [-15.98, -49.86], [-22.19, -48.79], [-22.19, -48.79], [-27.45, -50.95], [-22.25, -42.66], [-5.2, -39.53], [-22.19, -48.79], [-22.19, -48.79], [-10.57, -37.45], [-22.19, -48.79], [-22.19, -48.79], [-15.98, -49.86], [-10.83, -63.34], [-22.19, -48.79], [-8.38, -37.86], [-27.45, -50.95], [-24.89, -51.55], [-5.2, -39.53], [-22.19, -48.79], [-13.29, -41.71], [-30.17, -53.5], [-22.19, -48.79], [-22.19, -48.79], [-27.45, -50.95], [-22.25, -42.66], [-22.19, -48.79], [-18.1, -44.38], [-22.19, -48.79], [-6.6, -42.28], [-27.45, -50.95], [-22.25, -42.66], [-18.1, -44.38], [-22.19, -48.79], [-22.19, -48.79], [-22.19, -48.79], [-22.19, -48.79], [-13.29, -41.71], [-22.19, -48.79], [-22.19, -48.79], [-30.17, -53.5], [-18.1, -44.38], [-9.62, -36.82], [-15.83, -47.86], [-27.45, -50.95], [-13.29, -41.71], [-22.19, -48.79], [-22.19, -48.79], [-22.19, -48.79], [-22.19, -48.79], [-22.25, -42.66], [-22.19, -48.79], [-18.1, -44.38], [-30.17, -53.5], [-22.19, -48.79], [-22.25, -42.66], [-22.19, -48.79], [-22.19, -48.79], [-7.28, -36.72], [-24.89, -51.55], [-22.25, -42.66], [-27.45, -50.95], [-19.19, -40.34], [-30.17, -53.5], [-18.1, -44.38], [-22.19, -48.79], [-22.19, -48.79], [-22.19, -48.79], [-22.19, -48.79], [-22.19, -48.79], [-18.1, -44.38], [-24.89, -51.55], [-22.19, -48.79], [-30.17, -53.5], [-22.19, -48.79], [-5.2, -39.53], [-18.1, -44.38], [-22.19, -48.79], [-13.29, -41.71], [-22.19, -48.79], [-22.19, -48.79], [-18.1, -44.38], [-22.19, -48.79], [-22.19, -48.79], [-18.1, -44.38], [-22.25, -42.66], [-22.25, -42.66], [-22.19, -48.79], [-24.89, -51.55], [-9.62, -36.82], [-22.19, -48.79], [-22.19, -48.79], [-5.2, -39.53], [-22.19, -48.79], [-22.19, -48.79], [-15.83, -47.86], [-22.25, -42.66], [-15.83, -47.86], [-18.1, -44.38], [-30.17, -53.5], [-5.2, -39.53], [-24.89, -51.55], [-22.19, -48.79], [-22.19, -48.79], [-18.1, -44.38], [-18.1, -44.38], [-22.19, -48.79], [-22.19, -48.79], [-27.45, -50.95], [-22.25, -42.66], [-18.1, -44.38], [-22.19, -48.79], [-22.19, -48.79], [-22.25, -42.66], [-22.19, -48.79], [-3.79, -52.48], [-18.1, -44.38], [-18.1, -44.38], [-22.19, -48.79], [-22.19, -48.79], [-15.83, -47.86], [-15.98, -49.86], [-22.19, -48.79], [-18.1, -44.38], [-22.19, -48.79], [-22.19, -48.79], [-22.19, -48.79], [-22.25, -42.66], [-30.17, -53.5], [-22.19, -48.79], [-22.19, -48.79], [-22.19, -48.79], [-22.19, -48.79], [-8.38, -37.86], [-22.19, -48.79], [-30.17, -53.5], [-18.1, -44.38], [-9.46, -48.26], [-22.25, -42.66], [-30.17, -53.5], [-30.17, -53.5], [-18.1, -44.38], [-22.19, -48.79], [-30.17, -53.5], [-18.1, -44.38], [-22.25, -42.66], [-22.19, -48.79], [-22.25, -42.66], [-12.64, -55.42], [-22.19, -48.79], [-22.19, -48.79], [-22.19, -48.79], [-22.19, -48.79], [-18.1, -44.38], [-22.19, -48.79], [-22.19, -48.79], [-22.19, -48.79], [-22.19, -48.79], [-24.89, -51.55], [-30.17, -53.5], [-24.89, -51.55], [-22.25, -42.66], [-30.17, -53.5], [-22.19, -48.79], [-30.17, -53.5], [-10.57, -37.45], [-22.19, -48.79], [-24.89, -51.55], [-15.83, -47.86], [-22.25, -42.66], [-22.25, -42.66], [-22.25, -42.66], [-22.19, -48.79], [-22.19, -48.79], [-22.19, -48.79], [-22.19, -48.79], [-24.89, -51.55], [-22.25, -42.66], [-22.19, -48.79], [-30.17, -53.5], [-22.19, -48.79], [-18.1, -44.38], [-18.1, -44.38], [-18.1, -44.38], [-22.19, -48.79], [-22.19, -48.79], [-22.19, -48.79], [-13.29, -41.71], [-15.83, -47.86], [-22.19, -48.79], [-22.19, -48.79], [-24.89, -51.55], [-22.19, -48.79], [-22.25, -42.66], [-22.25, -42.66], [-22.25, -42.66], [-18.1, -44.38], [-22.19, -48.79], [-12.64, -55.42], [-13.29, -41.71], [-18.1, -44.38], [-27.45, -50.95], [-27.45, -50.95], [-22.19, -48.79], [-8.38, -37.86], [-22.19, -48.79], [-30.17, -53.5], [-22.19, -48.79], [-18.1, -44.38], [-22.19, -48.79], [-22.19, -48.79], [-24.89, -51.55], [-18.1, -44.38], [-22.19, -48.79], [-19.19, -40.34], [-22.19, -48.79], [-15.98, -49.86], [-7.28, -36.72], [-22.19, -48.79], [-22.19, -48.79], [-13.29, -41.71], [-9.62, -36.82], [-18.1, -44.38], [-22.19, -48.79], [-22.19, -48.79], [-13.29, -41.71], [-10.57, -37.45], [-15.98, -49.86], [-30.17, -53.5], [-22.19, -48.79], [-22.25, -42.66], [-15.83, -47.86], [-22.19, -48.79], [-22.25, -42.66], [-22.19, -48.79], [-22.19, -48.79], [-18.1, -44.38], [-22.19, -48.79], [-18.1, -44.38], [-10.83, -63.34], [-22.19, -48.79], [-24.89, -51.55], [-18.1, -44.38], [-22.19, -48.79], [-22.19, -48.79], [-18.1, -44.38], [-22.19, -48.79], [-15.98, -49.86], [-22.19, -48.79], [-3.79, -52.48], [-8.38, -37.86], [-22.25, -42.66], [-22.25, -42.66], [-22.25, -42.66], [-5.81, -36.59], [-22.19, -48.79], [-22.25, -42.66], [-6.6, -42.28], [-9.62, -36.82], [-10.57, -37.45], [-22.25, -42.66], [-22.19, -48.79], [-22.19, -48.79], [-30.17, -53.5], [-7.28, -36.72], [-18.1, -44.38], [-13.29, -41.71], [-27.45, -50.95], [-22.19, -48.79], [-15.98, -49.86], [-22.19, -48.79], [-22.19, -48.79], [-22.25, -42.66], [-22.25, -42.66], [-22.25, -42.66], [-22.25, -42.66], [-22.19, -48.79], [-22.19, -48.79], [-22.19, -48.79], [-22.25, -42.66], [-22.19, -48.79], [-22.25, -42.66], [-18.1, -44.38], [-18.1, -44.38], [-9.62, -36.82], [-15.83, -47.86], [-22.19, -48.79], [-18.1, -44.38], [-22.25, -42.66], [-30.17, -53.5], [-22.19, -48.79], [-22.25, -42.66], [-22.19, -48.79], [-22.19, -48.79], [-18.1, -44.38], [-18.1, -44.38], [-22.25, -42.66], [-22.19, -48.79], [-18.1, -44.38], [-22.19, -48.79], [-27.45, -50.95], [-13.29, -41.71], [-22.19, -48.79], [-22.25, -42.66], [-22.19, -48.79], [-22.25, -42.66], [-24.89, -51.55], [-18.1, -44.38], [-22.19, -48.79], [-27.45, -50.95], [-19.19, -40.34], [-13.29, -41.71], [-22.19, -48.79], [-22.19, -48.79], [-15.83, -47.86], [-22.19, -48.79], [-22.19, -48.79], [-30.17, -53.5], [-27.45, -50.95], [-22.19, -48.79], [-13.29, -41.71], [-22.19, -48.79], [-24.89, -51.55], [-22.19, -48.79], [-22.19, -48.79], [-30.17, -53.5], [-22.19, -48.79], [-22.19, -48.79], [-7.28, -36.72], [-12.64, -55.42], [-20.51, -54.54], [-22.19, -48.79], [-20.51, -54.54], [-22.19, -48.79], [-13.29, -41.71], [-22.19, -48.79], [-30.17, -53.5], [-22.19, -48.79], [-30.17, -53.5], [-22.19, -48.79], [-19.19, -40.34], [-22.19, -48.79], [-18.1, -44.38], [-18.1, -44.38], [-22.25, -42.66], [-15.98, -49.86], [-22.19, -48.79], [-22.19, -48.79], [-22.19, -48.79], [-22.19, -48.79], [-22.25, -42.66], [-15.98, -49.86], [-22.25, -42.66], [-22.19, -48.79], [-22.19, -48.79], [-18.1, -44.38], [-18.1, -44.38], [-30.17, -53.5], [-22.19, -48.79], [-18.1, -44.38], [-18.1, -44.38], [-30.17, -53.5], [-22.19, -48.79], [-22.25, -42.66], [-30.17, -53.5], [-18.1, -44.38], [-22.19, -48.79], [-18.1, -44.38], [-27.45, -50.95], [-22.19, -48.79], [-13.29, -41.71], [-15.98, -49.86], [-18.1, -44.38], [-22.19, -48.79], [-10.57, -37.45], [-22.19, -48.79], [-18.1, -44.38], [-15.83, -47.86], [-22.19, -48.79], [-22.25, -42.66], [-22.19, -48.79], [-22.19, -48.79], [-22.19, -48.79], [-18.1, -44.38], [-24.89, -51.55], [-30.17, -53.5], [-22.19, -48.79], [-22.19, -48.79], [-19.19, -40.34], [-22.19, -48.79], [-22.19, -48.79], [-22.19, -48.79], [-8.38, -37.86], [-30.17, -53.5], [-22.19, -48.79], [-30.17, -53.5], [-22.19, -48.79], [-18.1, -44.38], [-22.19, -48.79], [-22.19, -48.79], [-22.19, -48.79], [-15.98, -49.86], [-22.19, -48.79], [-22.19, -48.79], [-22.19, -48.79], [-22.19, -48.79], [-18.1, -44.38], [-27.45, -50.95], [-20.51, -54.54], [-22.19, -48.79], [-24.89, -51.55], [-30.17, -53.5], [-22.19, -48.79], [-22.25, -42.66], [-22.19, -48.79], [-18.1, -44.38], [-22.19, -48.79], [-22.25, -42.66], [-18.1, -44.38], [-22.19, -48.79], [-22.19, -48.79], [-18.1, -44.38], [-22.19, -48.79], [-15.83, -47.86], [-18.1, -44.38], [-7.28, -36.72], [-15.83, -47.86], [-22.19, -48.79], [-22.19, -48.79], [-18.1, -44.38], [-13.29, -41.71], [-22.19, -48.79], [-22.19, -48.79], [-27.45, -50.95], [-13.29, -41.71], [-22.19, -48.79], [-22.19, -48.79], [-22.25, -42.66], [-30.17, -53.5], [-22.19, -48.79], [-22.25, -42.66], [-22.19, -48.79], [-22.19, -48.79], [-22.25, -42.66], [-27.45, -50.95], [-8.38, -37.86], [-27.45, -50.95], [-22.25, -42.66], [-22.19, -48.79], [-18.1, -44.38], [-18.1, -44.38], [-24.89, -51.55], [-22.25, -42.66], [-22.19, -48.79], [-22.19, -48.79], [-22.19, -48.79], [-22.25, -42.66], [-18.1, -44.38], [-30.17, -53.5], [-22.25, -42.66], [-18.1, -44.38], [-22.19, -48.79], [-22.19, -48.79], [-22.19, -48.79], [-22.19, -48.79], [-30.17, -53.5], [-18.1, -44.38], [-24.89, -51.55], [-5.42, -45.44], [-18.1, -44.38], [-22.19, -48.79], [-10.57, -37.45], [-30.17, -53.5], [-20.51, -54.54], [-22.19, -48.79], [-24.89, -51.55], [-5.2, -39.53], [-18.1, -44.38], [-22.19, -48.79], [-22.19, -48.79], [-24.89, -51.55], [-13.29, -41.71], [-18.1, -44.38], [-15.98, -49.86], [-22.25, -42.66], [-22.19, -48.79], [-12.64, -55.42], [-22.19, -48.79], [-22.25, -42.66], [-22.25, -42.66], [-30.17, -53.5], [-22.19, -48.79], [-18.1, -44.38], [-22.19, -48.79], [-22.19, -48.79], [-22.19, -48.79], [-15.83, -47.86], [-22.25, -42.66], [-18.1, -44.38], [-27.45, -50.95], [-22.19, -48.79], [-24.89, -51.55], [-22.19, -48.79], [-22.19, -48.79], [-22.19, -48.79], [-22.25, -42.66], [-22.19, -48.79], [-22.25, -42.66], [-24.89, -51.55], [-22.25, -42.66], [-22.19, -48.79], [-24.89, -51.55], [-22.25, -42.66], [-22.19, -48.79], [-22.25, -42.66], [-15.83, -47.86], [-22.19, -48.79], [-22.19, -48.79], [-15.98, -49.86], [-22.25, -42.66], [-22.19, -48.79], [-22.19, -48.79], [-22.19, -48.79], [-24.89, -51.55], [-22.25, -42.66], [-22.19, -48.79], [-22.19, -48.79], [-22.19, -48.79], [-24.89, -51.55], [-22.19, -48.79], [-22.19, -48.79], [-30.17, -53.5], [-19.19, -40.34], [-15.83, -47.86], [-22.19, -48.79], [-27.45, -50.95], [-22.19, -48.79], [-22.19, -48.79], [-22.19, -48.79], [-22.25, -42.66], [-22.25, -42.66], [-22.19, -48.79], [-27.45, -50.95], [-22.19, -48.79], [-22.19, -48.79], [-13.29, -41.71], [-30.17, -53.5], [-24.89, -51.55], [-22.19, -48.79], [-15.83, -47.86], [-18.1, -44.38], [-19.19, -40.34], [-22.19, -48.79], [-24.89, -51.55], [-15.83, -47.86], [-18.1, -44.38], [-22.19, -48.79], [-30.17, -53.5], [-12.64, -55.42], [-27.45, -50.95], [-7.28, -36.72], [-22.19, -48.79], [-30.17, -53.5], [-22.19, -48.79], [-22.19, -48.79], [-27.45, -50.95], [-22.19, -48.79], [-9.46, -48.26], [-22.19, -48.79], [-22.19, -48.79], [-22.19, -48.79], [-22.19, -48.79], [-18.1, -44.38], [-22.19, -48.79], [-30.17, -53.5], [-22.25, -42.66], [1.41, -51.77], [-30.17, -53.5], [-22.25, -42.66], [-13.29, -41.71], [-22.25, -42.66], [-22.19, -48.79], [-22.19, -48.79], [-8.38, -37.86], [-3.79, -52.48], [-13.29, -41.71], [-27.45, -50.95], [-22.25, -42.66], [-22.19, -48.79], [-5.42, -45.44], [-22.19, -48.79], [-5.2, -39.53], [-22.25, -42.66], [-22.19, -48.79], [-22.19, -48.79], [-22.19, -48.79], [-15.98, -49.86], [-27.45, -50.95], [-18.1, -44.38], [-22.19, -48.79], [-30.17, -53.5], [-22.19, -48.79], [-22.19, -48.79], [-24.89, -51.55], [-22.19, -48.79], [-22.19, -48.79], [-30.17, -53.5], [-22.19, -48.79], [-22.19, -48.79], [-22.19, -48.79], [-22.19, -48.79], [-22.19, -48.79], [-22.19, -48.79], [-22.19, -48.79], [-22.25, -42.66], [-18.1, -44.38], [-22.19, -48.79], [-22.19, -48.79], [-24.89, -51.55], [-22.19, -48.79], [-18.1, -44.38], [-22.19, -48.79], [-24.89, -51.55], [-22.19, -48.79], [-8.38, -37.86], [-22.19, -48.79], [-22.19, -48.79], [-22.25, -42.66], [-27.45, -50.95], [-22.19, -48.79], [-22.19, -48.79], [-22.19, -48.79], [-22.19, -48.79], [-30.17, -53.5], [-27.45, -50.95], [-22.25, -42.66], [-18.1, -44.38], [-22.19, -48.79], [-22.19, -48.79], [-22.25, -42.66], [-22.19, -48.79], [-22.25, -42.66], [-27.45, -50.95], [-22.19, -48.79], [-22.19, -48.79], [-15.98, -49.86], [-18.1, -44.38], [-9.46, -48.26], [-30.17, -53.5], [-22.19, -48.79], [-22.25, -42.66], [-22.19, -48.79], [-22.25, -42.66], [-22.19, -48.79], [-22.19, -48.79], [-22.25, -42.66], [-20.51, -54.54], [-22.25, -42.66], [-22.19, -48.79], [-22.25, -42.66], [-5.2, -39.53], [-24.89, -51.55], [-18.1, -44.38], [-18.1, -44.38], [-18.1, -44.38], [-10.57, -37.45], [-22.25, -42.66], [-13.29, -41.71], [-30.17, -53.5], [-13.29, -41.71], [-22.19, -48.79], [-22.19, -48.79], [-22.19, -48.79], [-18.1, -44.38], [-13.29, -41.71], [-22.19, -48.79], [-8.38, -37.86], [-22.19, -48.79], [-22.19, -48.79], [-22.19, -48.79], [-22.25, -42.66], [-19.19, -40.34], [-5.42, -45.44], [-22.19, -48.79], [-22.19, -48.79], [-22.19, -48.79], [-22.19, -48.79], [-13.29, -41.71], [-22.25, -42.66], [-9.62, -36.82], [-22.19, -48.79], [-22.19, -48.79], [-22.19, -48.79], [-19.19, -40.34], [-22.19, -48.79], [-22.25, -42.66], [-18.1, -44.38], [-22.19, -48.79], [-15.83, -47.86], [-22.19, -48.79], [-18.1, -44.38], [-22.19, -48.79], [-22.25, -42.66], [-22.19, -48.79], [-20.51, -54.54], [-24.89, -51.55], [-22.25, -42.66], [-22.19, -48.79], [-22.19, -48.79], [-30.17, -53.5], [-24.89, -51.55], [-22.19, -48.79], [-22.19, -48.79], [-22.19, -48.79], [-22.25, -42.66], [-15.98, -49.86], [-30.17, -53.5], [-15.98, -49.86], [-22.19, -48.79], [-22.25, -42.66], [-22.19, -48.79], [-22.19, -48.79], [-22.25, -42.66], [-22.19, -48.79], [-15.83, -47.86], [-22.19, -48.79], [-19.19, -40.34], [-22.25, -42.66], [-22.19, -48.79], [-3.79, -52.48], [-22.25, -42.66], [-24.89, -51.55], [-5.42, -45.44], [-3.79, -52.48], [-30.17, -53.5], [-18.1, -44.38], [-19.19, -40.34], [-19.19, -40.34], [-22.19, -48.79], [-22.19, -48.79], [-13.29, -41.71], [-13.29, -41.71], [-22.19, -48.79], [-24.89, -51.55], [-22.19, -48.79], [-15.83, -47.86], [-22.19, -48.79], [-22.19, -48.79], [-22.19, -48.79], [-24.89, -51.55], [-22.25, -42.66], [-13.29, -41.71], [-30.17, -53.5], [-22.19, -48.79], [-22.19, -48.79], [-22.19, -48.79], [-22.19, -48.79], [-22.25, -42.66], [-24.89, -51.55], [-27.45, -50.95], [-18.1, -44.38], [-19.19, -40.34], [-22.25, -42.66], [-30.17, -53.5], [-22.19, -48.79], [-22.19, -48.79], [-22.19, -48.79], [-22.19, -48.79], [-30.17, -53.5], [-18.1, -44.38], [-22.19, -48.79], [-22.25, -42.66], [-24.89, -51.55], [-18.1, -44.38], [-22.19, -48.79], [-18.1, -44.38], [-18.1, -44.38], [-30.17, -53.5], [-22.25, -42.66], [-22.19, -48.79], [-22.19, -48.79], [-22.19, -48.79], [-10.83, -63.34], [-22.19, -48.79], [-22.19, -48.79], [-22.19, -48.79], [-22.19, -48.79], [-22.19, -48.79], [-22.19, -48.79], [-13.29, -41.71], [-24.89, -51.55], [-15.98, -49.86], [-22.25, -42.66], [-18.1, -44.38], [-22.19, -48.79], [-18.1, -44.38], [-22.19, -48.79], [-22.19, -48.79], [-22.19, -48.79], [-22.19, -48.79], [-22.25, -42.66], [-22.25, -42.66], [-22.19, -48.79], [-27.45, -50.95], [-22.25, -42.66], [-12.64, -55.42], [-27.45, -50.95], [-22.19, -48.79], [-22.25, -42.66], [-30.17, -53.5], [-18.1, -44.38], [1.41, -51.77], [-22.19, -48.79], [-22.19, -48.79], [-22.25, -42.66], [-22.19, -48.79], [-30.17, -53.5], [-22.25, -42.66], [-18.1, -44.38], [-22.19, -48.79], [-22.19, -48.79], [-22.19, -48.79], [-18.1, -44.38], [-22.25, -42.66], [-22.25, -42.66], [-5.2, -39.53], [-20.51, -54.54], [-15.98, -49.86], [-30.17, -53.5], [-24.89, -51.55], [-22.19, -48.79], [-18.1, -44.38], [-22.19, -48.79], [-30.17, -53.5], [-22.19, -48.79], [-22.19, -48.79], [-22.19, -48.79], [-22.19, -48.79], [-8.38, -37.86], [-22.19, -48.79], [-13.29, -41.71], [-22.25, -42.66], [-22.19, -48.79], [-9.46, -48.26], [-15.83, -47.86], [-9.46, -48.26], [-22.25, -42.66], [-22.19, -48.79], [-18.1, -44.38], [-18.1, -44.38], [-8.38, -37.86], [-22.25, -42.66], [-22.19, -48.79], [-22.19, -48.79], [-27.45, -50.95], [-24.89, -51.55], [-22.19, -48.79], [-22.19, -48.79], [-22.25, -42.66], [-22.25, -42.66], [-5.81, -36.59], [-18.1, -44.38], [-22.19, -48.79], [-22.25, -42.66], [-22.19, -48.79], [-22.19, -48.79], [-18.1, -44.38], [-13.29, -41.71], [-18.1, -44.38], [-20.51, -54.54], [-24.89, -51.55], [-27.45, -50.95], [-22.19, -48.79], [-22.19, -48.79], [-27.45, -50.95], [-22.25, -42.66], [-30.17, -53.5], [-22.19, -48.79], [-7.28, -36.72], [-10.57, -37.45], [-22.25, -42.66], [-22.19, -48.79], [-22.19, -48.79], [-18.1, -44.38], [-22.25, -42.66], [-13.29, -41.71], [-24.89, -51.55], [-22.19, -48.79], [-22.25, -42.66], [-22.19, -48.79], [-18.1, -44.38], [-18.1, -44.38], [-27.45, -50.95], [-27.45, -50.95], [-24.89, -51.55], [-30.17, -53.5], [-22.19, -48.79], [-27.45, -50.95], [-22.19, -48.79], [-22.19, -48.79], [-5.2, -39.53], [-22.25, -42.66], [-22.19, -48.79], [-30.17, -53.5], [-22.19, -48.79], [-30.17, -53.5], [-22.19, -48.79], [-22.19, -48.79], [-27.45, -50.95], [-27.45, -50.95], [-9.62, -36.82], [-27.45, -50.95], [-22.25, -42.66], [-22.25, -42.66], [-24.89, -51.55], [-18.1, -44.38], [-22.19, -48.79], [-22.19, -48.79], [-24.89, -51.55], [-15.98, -49.86], [-22.19, -48.79], [-22.25, -42.66], [-22.19, -48.79], [-22.19, -48.79], [-22.19, -48.79], [-15.98, -49.86], [-19.19, -40.34], [-22.19, -48.79], [-22.19, -48.79], [-22.25, -42.66], [-22.19, -48.79], [-8.38, -37.86], [-22.25, -42.66], [-22.19, -48.79], [-24.89, -51.55], [-22.19, -48.79], [-18.1, -44.38], [-13.29, -41.71], [-24.89, -51.55], [-22.19, -48.79], [-22.19, -48.79], [-22.19, -48.79], [-5.42, -45.44], [-3.79, -52.48], [-22.19, -48.79], [-22.25, -42.66], [-24.89, -51.55], [-19.19, -40.34], [-22.25, -42.66], [-22.19, -48.79], [-30.17, -53.5], [-5.2, -39.53], [-22.19, -48.79], [-22.25, -42.66], [-22.19, -48.79], [-22.25, -42.66], [-18.1, -44.38], [-22.19, -48.79], [-13.29, -41.71], [-22.19, -48.79], [-22.19, -48.79], [-24.89, -51.55], [-22.25, -42.66], [-22.19, -48.79], [-15.83, -47.86], [-22.19, -48.79], [-22.19, -48.79], [-22.19, -48.79], [-15.83, -47.86], [-22.19, -48.79], [-24.89, -51.55], [-22.19, -48.79], [-22.19, -48.79], [-18.1, -44.38], [-22.25, -42.66], [-22.25, -42.66], [-15.98, -49.86], [-24.89, -51.55], [-27.45, -50.95], [-24.89, -51.55], [-22.19, -48.79], [-5.81, -36.59], [-22.19, -48.79], [-22.19, -48.79], [-30.17, -53.5], [-18.1, -44.38], [-22.19, -48.79], [-22.19, -48.79], [-22.19, -48.79], [-22.19, -48.79], [-22.25, -42.66], [-22.25, -42.66], [-27.45, -50.95], [-5.42, -45.44], [-22.19, -48.79], [-30.17, -53.5], [-22.19, -48.79], [-24.89, -51.55], [-30.17, -53.5], [-5.2, -39.53], [-30.17, -53.5], [-22.19, -48.79], [-18.1, -44.38], [-24.89, -51.55], [-22.19, -48.79], [-5.42, -45.44], [-22.19, -48.79], [-22.25, -42.66], [-24.89, -51.55], [-22.19, -48.79], [-22.19, -48.79], [-22.19, -48.79], [-22.19, -48.79], [-22.19, -48.79], [-22.19, -48.79], [-22.19, -48.79], [-18.1, -44.38], [-18.1, -44.38], [-19.19, -40.34], [-27.45, -50.95], [-22.19, -48.79], [-22.19, -48.79], [-18.1, -44.38], [-24.89, -51.55], [-18.1, -44.38], [-22.19, -48.79], [-5.2, -39.53], [-22.19, -48.79], [-22.19, -48.79], [-22.19, -48.79], [-5.2, -39.53], [-22.19, -48.79], [-15.83, -47.86], [-8.38, -37.86], [-24.89, -51.55], [-22.19, -48.79], [-22.19, -48.79], [-24.89, -51.55], [-22.19, -48.79], [-15.98, -49.86], [-30.17, -53.5], [-15.98, -49.86], [-30.17, -53.5], [-22.19, -48.79], [-18.1, -44.38], [-22.19, -48.79], [-22.19, -48.79], [-22.19, -48.79], [-18.1, -44.38], [-24.89, -51.55], [-22.25, -42.66], [-27.45, -50.95], [-18.1, -44.38], [-22.25, -42.66], [-24.89, -51.55], [-13.29, -41.71], [-22.19, -48.79], [-22.19, -48.79], [-22.25, -42.66], [-30.17, -53.5], [-22.19, -48.79], [-22.19, -48.79], [-18.1, -44.38], [-30.17, -53.5], [-18.1, -44.38], [-22.19, -48.79], [-22.19, -48.79], [-22.19, -48.79], [-22.19, -48.79], [-22.25, -42.66], [-19.19, -40.34], [-3.79, -52.48], [-24.89, -51.55], [-22.19, -48.79], [-22.19, -48.79], [-22.25, -42.66], [-13.29, -41.71], [-30.17, -53.5], [-22.19, -48.79], [-13.29, -41.71], [-22.19, -48.79], [-22.25, -42.66], [-18.1, -44.38], [-12.64, -55.42], [-18.1, -44.38], [-18.1, -44.38], [-22.25, -42.66], [-22.25, -42.66], [-22.25, -42.66], [-18.1, -44.38], [-22.19, -48.79], [-22.19, -48.79], [-22.19, -48.79], [-22.19, -48.79], [-22.19, -48.79], [-24.89, -51.55], [-30.17, -53.5], [-12.64, -55.42], [-24.89, -51.55], [-18.1, -44.38], [-22.19, -48.79], [-22.19, -48.79], [-22.19, -48.79], [-15.98, -49.86], [-19.19, -40.34], [-22.19, -48.79], [-22.19, -48.79], [-22.19, -48.79], [-22.19, -48.79], [-30.17, -53.5], [-13.29, -41.71], [-22.19, -48.79], [-22.19, -48.79], [-24.89, -51.55], [-15.83, -47.86], [-22.19, -48.79], [-22.19, -48.79], [-30.17, -53.5], [-22.25, -42.66], [-18.1, -44.38], [-22.19, -48.79], [-18.1, -44.38], [-18.1, -44.38], [-22.19, -48.79], [-30.17, -53.5], [-30.17, -53.5], [-22.19, -48.79], [-22.19, -48.79], [-22.19, -48.79], [-22.25, -42.66], [-22.19, -48.79], [-27.45, -50.95], [-22.25, -42.66], [-30.17, -53.5], [-22.19, -48.79], [-22.25, -42.66], [-22.19, -48.79], [-22.19, -48.79], [-22.19, -48.79], [-30.17, -53.5], [-18.1, -44.38], [-15.83, -47.86], [-22.19, -48.79], [-18.1, -44.38], [-24.89, -51.55], [-22.19, -48.79], [-13.29, -41.71], [-22.19, -48.79], [-15.98, -49.86], [-27.45, -50.95], [-22.19, -48.79], [-22.19, -48.79], [-22.19, -48.79], [-22.19, -48.79], [-22.19, -48.79], [-22.19, -48.79], [-22.19, -48.79], [-24.89, -51.55], [-22.19, -48.79], [-30.17, -53.5], [-22.19, -48.79], [-22.19, -48.79], [-19.19, -40.34], [-20.51, -54.54], [-3.79, -52.48], [-22.25, -42.66], [-18.1, -44.38], [-22.19, -48.79], [-18.1, -44.38], [-22.19, -48.79], [-22.19, -48.79], [-18.1, -44.38], [-9.62, -36.82], [-22.19, -48.79], [-19.19, -40.34], [-22.25, -42.66], [-22.19, -48.79], [-22.19, -48.79], [-22.19, -48.79], [-22.19, -48.79], [-30.17, -53.5], [-9.62, -36.82], [-19.19, -40.34], [-22.19, -48.79], [-13.29, -41.71], [-22.19, -48.79], [-19.19, -40.34], [-18.1, -44.38], [-22.25, -42.66], [-15.83, -47.86], [-22.19, -48.79], [-30.17, -53.5], [-12.64, -55.42], [-22.19, -48.79], [-22.25, -42.66], [-22.19, -48.79], [-18.1, -44.38], [-9.46, -48.26], [-22.19, -48.79], [-22.19, -48.79], [-22.19, -48.79], [-22.19, -48.79], [-22.19, -48.79], [-8.38, -37.86], [-30.17, -53.5], [-22.19, -48.79], [-22.19, -48.79], [-22.25, -42.66], [-22.25, -42.66], [-22.19, -48.79], [-22.19, -48.79], [-18.1, -44.38], [1.41, -51.77], [-22.19, -48.79], [-18.1, -44.38], [-22.19, -48.79], [-15.98, -49.86], [-22.19, -48.79], [-12.64, -55.42], [-19.19, -40.34], [-22.19, -48.79], [-18.1, -44.38], [-22.19, -48.79], [-22.19, -48.79], [-22.25, -42.66], [-27.45, -50.95], [-22.19, -48.79], [-15.83, -47.86], [-30.17, -53.5], [-22.25, -42.66], [-22.25, -42.66], [-22.25, -42.66], [-18.1, -44.38], [-22.19, -48.79], [-22.19, -48.79], [-22.19, -48.79], [-18.1, -44.38], [-18.1, -44.38], [-18.1, -44.38], [-15.83, -47.86], [-22.19, -48.79], [-8.38, -37.86], [-22.19, -48.79], [-30.17, -53.5], [-22.19, -48.79], [-22.19, -48.79], [-27.45, -50.95], [-18.1, -44.38], [-22.25, -42.66], [-5.2, -39.53], [-9.62, -36.82], [-22.19, -48.79], [-18.1, -44.38], [-22.25, -42.66], [-22.19, -48.79], [-18.1, -44.38], [-22.25, -42.66], [-27.45, -50.95], [-22.19, -48.79], [-27.45, -50.95], [-22.19, -48.79], [-22.19, -48.79], [-27.45, -50.95], [-22.19, -48.79], [-18.1, -44.38], [-22.19, -48.79], [-22.19, -48.79], [-19.19, -40.34], [-22.19, -48.79], [-22.19, -48.79], [-13.29, -41.71], [-24.89, -51.55], [-30.17, -53.5], [-22.19, -48.79], [-22.19, -48.79], [-22.19, -48.79], [-27.45, -50.95], [-22.25, -42.66], [-22.25, -42.66], [-22.19, -48.79], [-22.19, -48.79], [-30.17, -53.5], [-22.19, -48.79], [-22.19, -48.79], [-22.19, -48.79], [-18.1, -44.38], [-9.62, -36.82], [-18.1, -44.38], [-22.19, -48.79], [-24.89, -51.55], [-12.64, -55.42], [-22.25, -42.66], [-22.19, -48.79], [-18.1, -44.38], [-22.19, -48.79], [-8.38, -37.86], [-18.1, -44.38], [-22.19, -48.79], [-24.89, -51.55], [-22.19, -48.79], [-27.45, -50.95], [-15.83, -47.86], [-22.19, -48.79], [-27.45, -50.95], [-22.25, -42.66], [-8.77, -70.55], [-22.19, -48.79], [-22.19, -48.79], [-30.17, -53.5], [-22.25, -42.66], [-22.19, -48.79], [-24.89, -51.55], [-22.25, -42.66], [-22.25, -42.66], [-22.19, -48.79], [-22.19, -48.79], [-5.42, -45.44], [-22.25, -42.66], [-8.38, -37.86], [-22.19, -48.79], [-22.19, -48.79], [-22.19, -48.79], [-27.45, -50.95], [-22.25, -42.66], [-22.19, -48.79], [-22.25, -42.66], [-27.45, -50.95], [-18.1, -44.38], [-15.98, -49.86], [-15.83, -47.86], [-22.19, -48.79], [-22.25, -42.66], [-18.1, -44.38], [-22.25, -42.66], [-22.19, -48.79], [-22.19, -48.79], [-22.19, -48.79], [-22.19, -48.79], [-15.98, -49.86], [-22.19, -48.79], [-22.19, -48.79], [-22.19, -48.79], [-22.19, -48.79], [-24.89, -51.55], [-30.17, -53.5], [-24.89, -51.55], [-22.19, -48.79], [-18.1, -44.38], [-22.25, -42.66], [-22.19, -48.79], [-22.25, -42.66], [-15.98, -49.86], [-22.19, -48.79], [-18.1, -44.38], [-22.19, -48.79], [-27.45, -50.95], [-22.19, -48.79], [-15.83, -47.86], [-22.19, -48.79], [-22.25, -42.66], [-22.19, -48.79], [-22.19, -48.79], [-22.19, -48.79], [-22.19, -48.79], [-22.19, -48.79], [-22.19, -48.79], [-12.64, -55.42], [-18.1, -44.38], [-22.25, -42.66], [-22.19, -48.79], [-22.19, -48.79], [-22.19, -48.79], [-22.19, -48.79], [-18.1, -44.38], [-30.17, -53.5], [-7.28, -36.72], [-22.25, -42.66], [-19.19, -40.34], [-22.25, -42.66], [-22.19, -48.79], [-22.19, -48.79], [-15.98, -49.86], [-13.29, -41.71], [-22.19, -48.79], [-5.2, -39.53], [-5.2, -39.53], [-8.38, -37.86], [-15.98, -49.86], [-27.45, -50.95], [-22.19, -48.79], [-30.17, -53.5], [-22.19, -48.79], [-22.19, -48.79], [-22.19, -48.79], [-22.19, -48.79], [-18.1, -44.38], [-30.17, -53.5], [-22.19, -48.79], [-22.19, -48.79], [-22.19, -48.79], [-22.25, -42.66], [-22.19, -48.79], [-22.19, -48.79], [-22.19, -48.79], [-22.19, -48.79], [-30.17, -53.5], [-22.25, -42.66], [-27.45, -50.95], [-22.25, -42.66], [-22.19, -48.79], [-22.25, -42.66], [-3.79, -52.48], [-18.1, -44.38], [-27.45, -50.95], [-30.17, -53.5], [-24.89, -51.55], [-12.64, -55.42], [-18.1, -44.38], [-10.57, -37.45], [-22.25, -42.66], [-22.19, -48.79], [-22.19, -48.79], [-22.19, -48.79], [-22.25, -42.66], [-24.89, -51.55], [-3.79, -52.48], [-18.1, -44.38], [-27.45, -50.95], [-22.19, -48.79], [-30.17, -53.5], [-22.19, -48.79], [-22.19, -48.79], [-24.89, -51.55], [-22.19, -48.79], [-8.38, -37.86], [-18.1, -44.38], [-22.25, -42.66], [-22.19, -48.79], [-24.89, -51.55], [-22.19, -48.79], [-22.19, -48.79], [-12.64, -55.42], [-18.1, -44.38], [-13.29, -41.71], [-22.19, -48.79], [-22.19, -48.79], [-22.19, -48.79], [-22.19, -48.79], [-22.25, -42.66], [-22.19, -48.79], [-22.25, -42.66], [-30.17, -53.5], [-24.89, -51.55], [-18.1, -44.38], [-15.98, -49.86], [-22.25, -42.66], [-22.19, -48.79], [-13.29, -41.71], [-22.19, -48.79], [-18.1, -44.38], [-22.19, -48.79], [-22.19, -48.79], [-22.19, -48.79], [-22.19, -48.79], [-27.45, -50.95], [-15.98, -49.86], [-18.1, -44.38], [-3.79, -52.48], [-24.89, -51.55], [-30.17, -53.5], [-22.19, -48.79], [-22.19, -48.79], [-24.89, -51.55], [-22.19, -48.79], [-22.19, -48.79], [-22.19, -48.79], [-22.19, -48.79], [-22.19, -48.79], [-15.98, -49.86], [-22.19, -48.79], [-22.19, -48.79], [-22.25, -42.66], [-22.19, -48.79], [-5.2, -39.53], [-22.19, -48.79], [-27.45, -50.95], [-22.19, -48.79], [-22.19, -48.79], [-20.51, -54.54], [-30.17, -53.5], [-22.19, -48.79], [-22.19, -48.79], [-22.19, -48.79], [-10.83, -63.34], [-13.29, -41.71], [-22.19, -48.79], [-30.17, -53.5], [-30.17, -53.5], [-22.19, -48.79], [-22.19, -48.79], [-22.19, -48.79], [-27.45, -50.95], [-18.1, -44.38], [-18.1, -44.38], [-22.19, -48.79], [-22.19, -48.79], [-22.19, -48.79], [-22.19, -48.79], [-22.19, -48.79], [-27.45, -50.95], [-8.38, -37.86], [-22.19, -48.79], [-18.1, -44.38], [-22.25, -42.66], [-22.19, -48.79], [-22.19, -48.79], [-19.19, -40.34], [-13.29, -41.71], [-27.45, -50.95], [-22.19, -48.79], [-22.19, -48.79], [-5.2, -39.53], [-13.29, -41.71], [-30.17, -53.5], [-22.19, -48.79], [-15.98, -49.86], [-22.19, -48.79], [-3.79, -52.48], [-22.19, -48.79], [-30.17, -53.5], [-13.29, -41.71], [-22.25, -42.66], [-27.45, -50.95], [-30.17, -53.5], [-22.19, -48.79], [-27.45, -50.95], [-22.19, -48.79], [-22.25, -42.66], [-22.19, -48.79], [-27.45, -50.95], [-5.81, -36.59], [-22.25, -42.66], [-22.25, -42.66], [-18.1, -44.38], [-13.29, -41.71], [-22.19, -48.79], [-18.1, -44.38], [-22.25, -42.66], [-9.46, -48.26], [-22.19, -48.79], [-18.1, -44.38], [-18.1, -44.38], [-22.19, -48.79], [-18.1, -44.38], [-22.19, -48.79], [-22.25, -42.66], [-22.19, -48.79], [-22.19, -48.79], [-22.19, -48.79], [-18.1, -44.38], [-18.1, -44.38], [-22.25, -42.66], [-22.19, -48.79], [-22.19, -48.79], [-22.19, -48.79], [-30.17, -53.5], [-22.25, -42.66], [-18.1, -44.38], [-22.19, -48.79], [-7.28, -36.72], [-22.19, -48.79], [-22.19, -48.79], [-22.25, -42.66], [-22.19, -48.79], [-5.2, -39.53], [-22.19, -48.79], [-22.19, -48.79], [-27.45, -50.95], [-6.6, -42.28], [-22.19, -48.79], [-22.19, -48.79], [-15.98, -49.86], [-22.19, -48.79], [-15.83, -47.86], [-22.25, -42.66], [-30.17, -53.5], [-18.1, -44.38], [-18.1, -44.38], [-30.17, -53.5], [-22.19, -48.79], [-22.19, -48.79], [-22.25, -42.66], [-3.79, -52.48], [-24.89, -51.55], [-22.19, -48.79], [-22.19, -48.79], [-22.19, -48.79], [-30.17, -53.5], [-12.64, -55.42], [-18.1, -44.38], [-27.45, -50.95], [-22.19, -48.79], [-22.25, -42.66], [-22.19, -48.79], [-22.25, -42.66], [-13.29, -41.71], [-22.25, -42.66], [-24.89, -51.55], [-24.89, -51.55], [-30.17, -53.5], [-22.19, -48.79], [-22.19, -48.79], [-22.25, -42.66], [-27.45, -50.95], [-15.83, -47.86], [-27.45, -50.95], [-18.1, -44.38], [-22.19, -48.79], [-22.19, -48.79], [-27.45, -50.95], [-5.42, -45.44], [-22.19, -48.79], [-27.45, -50.95], [-18.1, -44.38], [-30.17, -53.5], [-22.19, -48.79], [-27.45, -50.95], [-22.19, -48.79], [-13.29, -41.71], [-22.19, -48.79], [-22.19, -48.79], [-22.19, -48.79], [-22.19, -48.79], [-22.19, -48.79], [-22.19, -48.79], [-22.25, -42.66], [-22.19, -48.79], [-22.25, -42.66], [-30.17, -53.5], [-18.1, -44.38], [-24.89, -51.55], [-22.19, -48.79], [-18.1, -44.38], [-22.19, -48.79], [-22.19, -48.79], [-13.29, -41.71], [-5.2, -39.53], [-22.25, -42.66], [-22.19, -48.79], [-19.19, -40.34], [-24.89, -51.55], [-13.29, -41.71], [-22.25, -42.66], [-24.89, -51.55], [-15.83, -47.86], [-22.25, -42.66], [-13.29, -41.71], [-30.17, -53.5], [-5.2, -39.53], [-6.6, -42.28], [-22.19, -48.79], [-30.17, -53.5], [-24.89, -51.55], [-18.1, -44.38], [-15.83, -47.86], [-10.83, -63.34], [-22.19, -48.79], [-30.17, -53.5], [-22.19, -48.79], [-13.29, -41.71], [-15.98, -49.86], [-22.19, -48.79], [-22.25, -42.66], [-22.19, -48.79], [-22.19, -48.79], [-18.1, -44.38], [-15.98, -49.86], [-18.1, -44.38], [-22.19, -48.79], [-13.29, -41.71], [-22.25, -42.66], [-30.17, -53.5], [-15.98, -49.86], [-5.81, -36.59], [-22.25, -42.66], [-18.1, -44.38], [-22.19, -48.79], [-24.89, -51.55], [-22.25, -42.66], [-22.19, -48.79], [-22.19, -48.79], [-3.79, -52.48], [-5.2, -39.53], [-22.25, -42.66], [-22.19, -48.79], [-24.89, -51.55], [-22.25, -42.66], [-22.25, -42.66], [-8.38, -37.86], [-22.19, -48.79], [-30.17, -53.5], [-30.17, -53.5], [-18.1, -44.38], [-18.1, -44.38], [-22.19, -48.79], [-10.57, -37.45], [-27.45, -50.95], [-30.17, -53.5], [-22.19, -48.79], [-22.19, -48.79], [-22.19, -48.79], [-22.19, -48.79], [-12.64, -55.42], [-20.51, -54.54], [-30.17, -53.5], [-13.29, -41.71], [-22.25, -42.66], [-22.19, -48.79], [-22.19, -48.79], [-18.1, -44.38], [-22.19, -48.79], [-22.19, -48.79], [-22.19, -48.79], [-24.89, -51.55], [-22.19, -48.79], [-30.17, -53.5], [-19.19, -40.34], [-10.57, -37.45], [-18.1, -44.38], [-22.19, -48.79], [-24.89, -51.55], [-22.25, -42.66], [-22.19, -48.79], [-10.57, -37.45], [-12.64, -55.42], [-22.19, -48.79], [-30.17, -53.5], [-18.1, -44.38], [-22.25, -42.66], [-22.19, -48.79], [-30.17, -53.5], [-18.1, -44.38], [-13.29, -41.71], [-24.89, -51.55], [-22.25, -42.66], [-15.83, -47.86], [-18.1, -44.38], [-15.98, -49.86], [-22.19, -48.79], [-19.19, -40.34], [-18.1, -44.38], [-22.19, -48.79], [-3.79, -52.48], [-3.79, -52.48], [-22.19, -48.79], [-18.1, -44.38], [-18.1, -44.38], [-18.1, -44.38], [-22.25, -42.66], [-22.19, -48.79], [-22.19, -48.79], [-13.29, -41.71], [-8.38, -37.86], [-22.19, -48.79], [-22.19, -48.79], [-3.79, -52.48], [-22.19, -48.79], [-22.19, -48.79], [-15.98, -49.86], [-30.17, -53.5], [-22.19, -48.79], [-18.1, -44.38], [-24.89, -51.55], [-18.1, -44.38], [-3.79, -52.48], [-5.81, -36.59], [-8.38, -37.86], [-22.25, -42.66], [-22.19, -48.79], [-24.89, -51.55], [-30.17, -53.5], [-22.19, -48.79], [-12.64, -55.42], [-27.45, -50.95], [-8.38, -37.86], [-22.19, -48.79], [-18.1, -44.38], [-22.19, -48.79], [-18.1, -44.38], [-22.19, -48.79], [-22.19, -48.79], [-22.25, -42.66], [-13.29, -41.71], [-22.19, -48.79], [-22.25, -42.66], [-22.19, -48.79], [-22.19, -48.79], [-22.19, -48.79], [-15.83, -47.86], [-27.45, -50.95], [-12.64, -55.42], [-27.45, -50.95], [-18.1, -44.38], [-30.17, -53.5], [-22.19, -48.79], [-18.1, -44.38], [-22.19, -48.79], [-5.2, -39.53], [-20.51, -54.54], [-24.89, -51.55], [-22.19, -48.79], [-13.29, -41.71], [-15.98, -49.86], [-20.51, -54.54], [-22.25, -42.66], [-24.89, -51.55], [-22.25, -42.66], [-13.29, -41.71], [-22.19, -48.79], [-22.25, -42.66], [-6.6, -42.28], [-22.19, -48.79], [-22.19, -48.79], [-22.19, -48.79], [-22.19, -48.79], [-22.19, -48.79], [-22.25, -42.66], [-18.1, -44.38], [-27.45, -50.95], [-22.25, -42.66], [-22.19, -48.79], [-9.62, -36.82], [-22.19, -48.79], [-18.1, -44.38], [-22.19, -48.79], [-24.89, -51.55], [-30.17, -53.5], [-22.19, -48.79], [-3.47, -65.1], [-22.19, -48.79], [-27.45, -50.95], [-19.19, -40.34], [-22.25, -42.66], [-22.25, -42.66], [-19.19, -40.34], [-22.19, -48.79], [-22.25, -42.66], [-7.28, -36.72], [-24.89, -51.55], [-22.25, -42.66], [-30.17, -53.5], [-5.2, -39.53], [-30.17, -53.5], [-7.28, -36.72], [-22.25, -42.66], [-22.25, -42.66], [-13.29, -41.71], [-13.29, -41.71], [-22.25, -42.66], [-30.17, -53.5], [-22.19, -48.79], [-22.19, -48.79], [-22.19, -48.79], [-12.64, -55.42], [-15.83, -47.86], [-22.19, -48.79], [-22.19, -48.79], [-15.98, -49.86], [-22.19, -48.79], [-5.2, -39.53], [-18.1, -44.38], [-13.29, -41.71], [-22.19, -48.79], [-3.79, -52.48], [-22.19, -48.79], [-22.19, -48.79], [-12.64, -55.42], [-15.83, -47.86], [-22.25, -42.66], [-22.25, -42.66], [-22.19, -48.79], [-18.1, -44.38], [-9.62, -36.82], [-24.89, -51.55], [-22.19, -48.79], [-22.19, -48.79], [-18.1, -44.38], [-22.19, -48.79], [-22.19, -48.79], [-22.19, -48.79], [-22.25, -42.66], [-20.51, -54.54], [-22.25, -42.66], [-18.1, -44.38], [-18.1, -44.38], [-22.19, -48.79], [-22.19, -48.79], [-22.19, -48.79], [-22.25, -42.66], [-22.25, -42.66], [-18.1, -44.38], [-22.19, -48.79], [-24.89, -51.55], [-22.19, -48.79], [-22.19, -48.79], [-24.89, -51.55], [-22.19, -48.79], [-24.89, -51.55], [-22.25, -42.66], [-22.19, -48.79], [-18.1, -44.38], [-22.19, -48.79], [-24.89, -51.55], [-30.17, -53.5], [-22.19, -48.79], [-18.1, -44.38], [-22.25, -42.66], [-22.25, -42.66], [-24.89, -51.55], [-15.83, -47.86], [-22.19, -48.79], [-19.19, -40.34], [-22.25, -42.66], [-22.19, -48.79], [-5.81, -36.59], [-22.19, -48.79], [-15.98, -49.86], [-30.17, -53.5], [-3.79, -52.48], [-22.19, -48.79], [-15.98, -49.86], [-22.25, -42.66], [-18.1, -44.38], [-18.1, -44.38], [-18.1, -44.38], [-22.19, -48.79], [-18.1, -44.38], [-22.19, -48.79], [-22.19, -48.79], [-18.1, -44.38], [-22.25, -42.66], [-30.17, -53.5], [-22.19, -48.79], [-22.19, -48.79], [-22.25, -42.66], [-22.19, -48.79], [-22.19, -48.79], [-18.1, -44.38], [-30.17, -53.5], [-22.25, -42.66], [-18.1, -44.38], [-18.1, -44.38], [-22.19, -48.79], [-24.89, -51.55], [-13.29, -41.71], [-27.45, -50.95], [-27.45, -50.95], [-22.25, -42.66], [-22.19, -48.79], [-22.25, -42.66], [-22.19, -48.79], [-9.46, -48.26], [-22.19, -48.79], [-22.19, -48.79], [-22.19, -48.79], [-22.19, -48.79], [-24.89, -51.55], [-15.83, -47.86], [-22.19, -48.79], [-22.19, -48.79], [-22.19, -48.79], [-13.29, -41.71], [-27.45, -50.95], [-30.17, -53.5], [-22.19, -48.79], [-22.19, -48.79], [-20.51, -54.54], [-22.19, -48.79], [-22.19, -48.79], [-30.17, -53.5], [-22.19, -48.79], [-22.19, -48.79], [-18.1, -44.38], [-22.19, -48.79], [-22.19, -48.79], [-30.17, -53.5], [-22.19, -48.79], [-13.29, -41.71], [-24.89, -51.55], [-22.19, -48.79], [-22.19, -48.79], [-22.19, -48.79], [-22.19, -48.79], [-22.19, -48.79], [-18.1, -44.38], [-22.19, -48.79], [-19.19, -40.34], [-22.19, -48.79], [-20.51, -54.54], [-18.1, -44.38], [-22.19, -48.79], [-22.19, -48.79], [-22.19, -48.79], [-18.1, -44.38], [-22.19, -48.79], [-24.89, -51.55], [-10.57, -37.45], [-9.46, -48.26], [-30.17, -53.5], [-18.1, -44.38], [-18.1, -44.38], [-18.1, -44.38], [-24.89, -51.55], [-22.19, -48.79], [-22.25, -42.66], [-22.25, -42.66], [-13.29, -41.71], [-7.28, -36.72], [-22.25, -42.66], [-5.42, -45.44], [-22.19, -48.79], [-18.1, -44.38], [-27.45, -50.95], [-22.19, -48.79], [-5.2, -39.53], [-22.25, -42.66], [-18.1, -44.38], [-27.45, -50.95], [-22.19, -48.79], [-22.19, -48.79], [-22.19, -48.79], [-22.19, -48.79], [-27.45, -50.95], [-22.19, -48.79], [-22.25, -42.66], [-18.1, -44.38], [-22.25, -42.66], [-22.19, -48.79], [-22.19, -48.79], [-18.1, -44.38], [-22.25, -42.66], [-22.19, -48.79], [-22.25, -42.66], [-22.19, -48.79], [-22.25, -42.66], [-22.19, -48.79], [-24.89, -51.55], [-5.81, -36.59], [-30.17, -53.5], [-18.1, -44.38], [-22.25, -42.66], [-27.45, -50.95], [-30.17, -53.5], [-22.19, -48.79], [-12.64, -55.42], [-22.19, -48.79], [-22.25, -42.66], [-13.29, -41.71], [-22.19, -48.79], [-18.1, -44.38], [-13.29, -41.71], [-15.98, -49.86], [-18.1, -44.38], [-30.17, -53.5], [-22.19, -48.79], [-18.1, -44.38], [-22.19, -48.79], [-18.1, -44.38], [-22.25, -42.66], [-30.17, -53.5], [-3.79, -52.48], [-22.19, -48.79], [-22.19, -48.79], [-22.25, -42.66], [-18.1, -44.38], [-22.25, -42.66], [-13.29, -41.71], [-22.19, -48.79], [-22.19, -48.79], [-30.17, -53.5], [-27.45, -50.95], [-22.19, -48.79], [-22.19, -48.79], [-18.1, -44.38], [-22.25, -42.66], [-30.17, -53.5], [-13.29, -41.71], [-22.19, -48.79], [-30.17, -53.5], [-22.19, -48.79], [-22.19, -48.79], [-19.19, -40.34], [-30.17, -53.5], [-22.19, -48.79], [-22.19, -48.79], [-15.98, -49.86], [-22.19, -48.79], [-22.19, -48.79], [-22.19, -48.79], [-27.45, -50.95], [-24.89, -51.55], [-22.19, -48.79], [-22.25, -42.66], [-22.19, -48.79], [-13.29, -41.71], [-22.25, -42.66], [-18.1, -44.38], [-22.19, -48.79], [-22.19, -48.79], [-15.98, -49.86], [-5.2, -39.53], [-18.1, -44.38], [-22.19, -48.79], [-3.47, -65.1], [-22.25, -42.66], [-22.19, -48.79], [-18.1, -44.38], [-18.1, -44.38], [-22.25, -42.66], [-22.19, -48.79], [-18.1, -44.38], [-30.17, -53.5], [-22.19, -48.79], [-18.1, -44.38], [-18.1, -44.38], [-18.1, -44.38], [-22.19, -48.79], [-27.45, -50.95], [-22.19, -48.79], [-15.98, -49.86], [-22.19, -48.79], [-18.1, -44.38], [-18.1, -44.38], [-22.19, -48.79], [-22.19, -48.79], [-22.19, -48.79], [-22.19, -48.79], [-22.19, -48.79], [-30.17, -53.5], [-22.25, -42.66], [-22.19, -48.79], [-19.19, -40.34], [-22.19, -48.79], [-22.19, -48.79], [-22.19, -48.79], [-22.19, -48.79], [-22.19, -48.79], [-15.98, -49.86], [-22.19, -48.79], [-18.1, -44.38], [-8.38, -37.86], [-22.19, -48.79], [-22.19, -48.79], [-22.19, -48.79], [-22.19, -48.79], [-9.62, -36.82], [-3.79, -52.48], [-18.1, -44.38], [-19.19, -40.34], [-27.45, -50.95], [-8.38, -37.86], [-22.25, -42.66], [-24.89, -51.55], [-30.17, -53.5], [-22.19, -48.79], [-24.89, -51.55], [-22.25, -42.66], [-22.25, -42.66], [-27.45, -50.95], [-22.19, -48.79], [-22.25, -42.66], [-22.19, -48.79], [-13.29, -41.71], [-22.25, -42.66], [-15.98, -49.86], [-18.1, -44.38], [-22.19, -48.79], [-22.19, -48.79], [-22.25, -42.66], [-30.17, -53.5], [-19.19, -40.34], [-27.45, -50.95], [-5.2, -39.53], [-30.17, -53.5], [-27.45, -50.95], [-22.19, -48.79], [-22.25, -42.66], [-8.38, -37.86], [-5.2, -39.53], [-18.1, -44.38], [-22.19, -48.79], [-8.38, -37.86], [-22.19, -48.79], [-15.83, -47.86], [-13.29, -41.71], [-24.89, -51.55], [-27.45, -50.95], [-24.89, -51.55], [-30.17, -53.5], [-18.1, -44.38], [-22.19, -48.79], [-19.19, -40.34], [-18.1, -44.38], [-15.98, -49.86], [-22.19, -48.79], [-22.19, -48.79], [-22.25, -42.66], [-5.2, -39.53], [-8.38, -37.86], [-9.62, -36.82], [-22.19, -48.79], [-27.45, -50.95], [-22.19, -48.79], [-22.19, -48.79], [-22.19, -48.79], [-22.19, -48.79], [-22.25, -42.66], [-19.19, -40.34], [-22.19, -48.79], [-12.64, -55.42], [-9.62, -36.82], [-8.38, -37.86], [-22.19, -48.79], [-22.19, -48.79], [-24.89, -51.55], [-22.25, -42.66], [-22.25, -42.66], [-22.25, -42.66], [-18.1, -44.38], [-22.19, -48.79], [-15.98, -49.86], [-30.17, -53.5], [-22.25, -42.66], [-27.45, -50.95], [-22.19, -48.79], [-22.19, -48.79], [-22.19, -48.79], [-22.25, -42.66], [-24.89, -51.55], [-27.45, -50.95], [-24.89, -51.55], [-5.81, -36.59], [-22.19, -48.79], [-22.25, -42.66], [-22.25, -42.66], [-5.2, -39.53], [-20.51, -54.54], [-22.19, -48.79], [-22.19, -48.79], [-22.25, -42.66], [-22.19, -48.79], [-22.19, -48.79], [-18.1, -44.38], [-22.19, -48.79], [-22.19, -48.79], [-22.19, -48.79], [-24.89, -51.55], [-22.25, -42.66], [-22.19, -48.79], [-15.83, -47.86], [-22.25, -42.66], [-22.25, -42.66], [-15.83, -47.86], [-22.25, -42.66], [-24.89, -51.55], [-22.19, -48.79], [-30.17, -53.5], [-18.1, -44.38], [-24.89, -51.55], [-22.19, -48.79], [-13.29, -41.71], [-13.29, -41.71], [-22.25, -42.66], [-18.1, -44.38], [-24.89, -51.55], [-24.89, -51.55], [-22.25, -42.66], [-18.1, -44.38], [-18.1, -44.38], [-30.17, -53.5], [-22.19, -48.79], [-22.19, -48.79], [-9.62, -36.82], [-18.1, -44.38], [-22.25, -42.66], [-24.89, -51.55], [-27.45, -50.95], [-22.19, -48.79], [-18.1, -44.38], [-24.89, -51.55], [-22.19, -48.79], [-22.19, -48.79], [-22.19, -48.79], [-22.19, -48.79], [-22.19, -48.79], [-22.19, -48.79], [-8.38, -37.86], [-10.57, -37.45], [-13.29, -41.71], [-18.1, -44.38], [-22.19, -48.79], [-18.1, -44.38], [-22.19, -48.79], [-22.25, -42.66], [-22.19, -48.79], [-15.83, -47.86], [-18.1, -44.38], [-22.19, -48.79], [-22.19, -48.79], [-22.19, -48.79], [-15.98, -49.86], [-13.29, -41.71], [-22.25, -42.66], [-22.19, -48.79], [-22.19, -48.79], [-22.25, -42.66], [-22.19, -48.79], [-19.19, -40.34], [-22.19, -48.79], [-15.98, -49.86], [-22.19, -48.79], [-13.29, -41.71], [-5.42, -45.44], [-7.28, -36.72], [-22.19, -48.79], [-13.29, -41.71], [-5.81, -36.59], [-15.83, -47.86], [-22.25, -42.66], [-22.19, -48.79], [-22.19, -48.79], [-18.1, -44.38], [-22.19, -48.79], [-22.19, -48.79], [-22.19, -48.79], [-22.19, -48.79], [-5.2, -39.53], [-8.38, -37.86], [-22.19, -48.79], [-22.25, -42.66], [-24.89, -51.55], [-22.19, -48.79], [-3.79, -52.48], [-22.19, -48.79], [-13.29, -41.71], [-24.89, -51.55], [-22.19, -48.79], [-22.19, -48.79], [-24.89, -51.55], [-22.19, -48.79], [-12.64, -55.42], [-8.38, -37.86], [-22.19, -48.79], [-22.25, -42.66], [-22.19, -48.79], [-22.19, -48.79], [-22.19, -48.79], [-22.25, -42.66], [-8.38, -37.86], [-18.1, -44.38], [-22.19, -48.79], [-18.1, -44.38], [-22.19, -48.79], [-18.1, -44.38], [-22.19, -48.79], [-22.25, -42.66], [-15.98, -49.86], [-22.19, -48.79], [-18.1, -44.38], [-18.1, -44.38], [-30.17, -53.5], [-22.19, -48.79], [-22.19, -48.79], [-18.1, -44.38], [-24.89, -51.55], [-22.19, -48.79], [-24.89, -51.55], [-22.19, -48.79], [-24.89, -51.55], [-18.1, -44.38], [-22.19, -48.79], [-18.1, -44.38], [-22.19, -48.79], [-22.19, -48.79], [-6.6, -42.28], [-18.1, -44.38], [-30.17, -53.5], [-24.89, -51.55], [-22.25, -42.66], [-24.89, -51.55], [-18.1, -44.38], [-22.19, -48.79], [-22.19, -48.79], [-15.83, -47.86], [-13.29, -41.71], [-8.38, -37.86], [-22.19, -48.79], [-22.19, -48.79], [-22.19, -48.79], [-22.19, -48.79], [-22.25, -42.66], [-22.19, -48.79], [-27.45, -50.95], [-22.25, -42.66], [-22.19, -48.79], [-18.1, -44.38], [-18.1, -44.38], [-15.98, -49.86], [-22.19, -48.79], [-30.17, -53.5], [-18.1, -44.38], [-5.81, -36.59], [-12.64, -55.42], [-22.19, -48.79], [-22.19, -48.79], [-22.19, -48.79], [-24.89, -51.55], [-20.51, -54.54], [-22.19, -48.79], [-22.19, -48.79], [-22.19, -48.79], [-13.29, -41.71], [-27.45, -50.95], [-24.89, -51.55], [-22.19, -48.79], [-8.38, -37.86], [-22.19, -48.79], [-8.38, -37.86], [-18.1, -44.38], [-5.42, -45.44], [-22.19, -48.79], [-22.25, -42.66], [-22.19, -48.79], [-22.19, -48.79], [-30.17, -53.5], [-10.57, -37.45], [-22.19, -48.79], [-22.19, -48.79], [-15.98, -49.86], [-22.19, -48.79], [-22.19, -48.79], [-12.64, -55.42], [-22.19, -48.79], [-22.25, -42.66], [-22.25, -42.66], [-18.1, -44.38], [-30.17, -53.5], [-22.19, -48.79], [-22.25, -42.66], [-5.81, -36.59], [-22.19, -48.79], [-22.19, -48.79], [-22.19, -48.79], [-22.25, -42.66], [-22.19, -48.79], [-30.17, -53.5], [-22.19, -48.79], [-5.81, -36.59], [-18.1, -44.38], [-22.25, -42.66], [-15.98, -49.86], [-18.1, -44.38], [-22.19, -48.79], [-10.57, -37.45], [-22.25, -42.66], [-22.19, -48.79], [-30.17, -53.5], [-22.19, -48.79], [-22.19, -48.79], [-22.19, -48.79], [-22.19, -48.79], [-30.17, -53.5], [-30.17, -53.5], [-22.19, -48.79], [-22.19, -48.79], [-18.1, -44.38], [-18.1, -44.38], [-5.81, -36.59], [-22.19, -48.79], [-22.25, -42.66], [-22.19, -48.79], [-22.19, -48.79], [-22.25, -42.66], [-22.25, -42.66], [-15.98, -49.86], [-22.19, -48.79], [-22.25, -42.66], [-22.19, -48.79], [-27.45, -50.95], [-30.17, -53.5], [-18.1, -44.38], [-22.19, -48.79], [-18.1, -44.38], [-22.19, -48.79], [-22.19, -48.79], [-22.25, -42.66], [-18.1, -44.38], [-22.25, -42.66], [-15.83, -47.86], [-18.1, -44.38], [-22.19, -48.79], [-22.25, -42.66], [-15.98, -49.86], [-22.19, -48.79], [-27.45, -50.95], [-22.25, -42.66], [-22.19, -48.79], [-20.51, -54.54], [-22.19, -48.79], [-15.83, -47.86], [-22.19, -48.79], [-22.19, -48.79], [-22.19, -48.79], [-8.38, -37.86], [-22.19, -48.79], [-18.1, -44.38], [-18.1, -44.38], [-22.19, -48.79], [-22.25, -42.66], [-15.83, -47.86], [-18.1, -44.38], [-22.19, -48.79], [-22.19, -48.79], [-22.19, -48.79], [-15.83, -47.86], [-20.51, -54.54], [-22.19, -48.79], [-22.19, -48.79], [-22.25, -42.66], [-22.19, -48.79], [-22.19, -48.79], [-22.19, -48.79], [-18.1, -44.38], [-18.1, -44.38], [-15.83, -47.86], [-27.45, -50.95], [-13.29, -41.71], [-22.19, -48.79], [-7.28, -36.72], [-22.19, -48.79], [-18.1, -44.38], [-22.19, -48.79], [-22.19, -48.79], [-15.98, -49.86], [-22.19, -48.79], [-30.17, -53.5], [-6.6, -42.28], [-22.19, -48.79], [-22.19, -48.79], [-22.25, -42.66], [-22.25, -42.66], [-22.19, -48.79], [-22.19, -48.79], [-22.19, -48.79], [-22.19, -48.79], [-24.89, -51.55], [-22.25, -42.66], [-27.45, -50.95], [-18.1, -44.38], [-27.45, -50.95], [-18.1, -44.38], [-24.89, -51.55], [-18.1, -44.38], [-22.19, -48.79], [-27.45, -50.95], [-22.19, -48.79], [-13.29, -41.71], [-24.89, -51.55], [-22.25, -42.66], [-18.1, -44.38], [-22.19, -48.79], [-18.1, -44.38], [-8.38, -37.86], [-22.19, -48.79], [-24.89, -51.55], [-22.25, -42.66], [-22.19, -48.79], [-22.19, -48.79], [-9.46, -48.26], [-22.25, -42.66], [-22.19, -48.79], [-22.25, -42.66], [-22.19, -48.79], [-22.19, -48.79], [-15.98, -49.86], [-30.17, -53.5], [-18.1, -44.38], [-22.19, -48.79], [-22.25, -42.66], [-22.19, -48.79], [-22.19, -48.79], [-18.1, -44.38], [-22.19, -48.79], [-22.19, -48.79], [-22.25, -42.66], [-30.17, -53.5], [-22.25, -42.66], [-22.19, -48.79], [-22.19, -48.79], [-22.25, -42.66], [-22.19, -48.79], [-22.19, -48.79], [-18.1, -44.38], [-30.17, -53.5], [-22.19, -48.79], [-5.2, -39.53], [-22.25, -42.66], [-22.19, -48.79], [-22.19, -48.79], [-22.19, -48.79], [-22.19, -48.79], [-22.19, -48.79], [-22.25, -42.66], [-27.45, -50.95], [-22.19, -48.79], [-18.1, -44.38], [-22.25, -42.66], [-24.89, -51.55], [-22.19, -48.79], [-19.19, -40.34], [-18.1, -44.38], [-13.29, -41.71], [-15.83, -47.86], [-22.25, -42.66], [-22.19, -48.79], [-22.25, -42.66], [-22.19, -48.79], [-18.1, -44.38], [-22.19, -48.79], [-22.19, -48.79], [-30.17, -53.5], [-27.45, -50.95], [-22.19, -48.79], [-30.17, -53.5], [-22.19, -48.79], [-27.45, -50.95], [-18.1, -44.38], [-13.29, -41.71], [-24.89, -51.55], [-22.19, -48.79], [-22.25, -42.66], [-24.89, -51.55], [-22.19, -48.79], [-18.1, -44.38], [-22.19, -48.79], [-22.25, -42.66], [-22.25, -42.66], [-22.19, -48.79], [-22.25, -42.66], [-22.19, -48.79], [-22.19, -48.79], [-22.19, -48.79], [-18.1, -44.38], [-22.19, -48.79], [-22.19, -48.79], [-15.98, -49.86], [-18.1, -44.38], [-24.89, -51.55], [-22.19, -48.79], [-18.1, -44.38], [-18.1, -44.38], [-18.1, -44.38], [-18.1, -44.38], [-13.29, -41.71], [-22.19, -48.79], [-22.19, -48.79], [-30.17, -53.5], [-22.19, -48.79], [-22.19, -48.79], [-22.25, -42.66], [-24.89, -51.55], [-5.2, -39.53], [-22.25, -42.66], [-18.1, -44.38], [-22.19, -48.79], [-22.19, -48.79], [-27.45, -50.95], [-22.19, -48.79], [-15.83, -47.86], [-15.83, -47.86], [-22.19, -48.79], [-22.19, -48.79], [-22.19, -48.79], [-22.25, -42.66], [-13.29, -41.71], [-18.1, -44.38], [-18.1, -44.38], [-10.83, -63.34], [-22.19, -48.79], [-22.19, -48.79], [-22.19, -48.79], [-13.29, -41.71], [-27.45, -50.95], [-22.19, -48.79], [-5.2, -39.53], [-22.19, -48.79], [-22.19, -48.79], [-13.29, -41.71], [-22.19, -48.79], [-22.19, -48.79], [-30.17, -53.5], [-22.19, -48.79], [-22.19, -48.79], [-22.25, -42.66], [-15.98, -49.86], [-12.64, -55.42], [-22.19, -48.79], [-22.19, -48.79], [-13.29, -41.71], [-22.19, -48.79], [-15.98, -49.86], [-15.83, -47.86], [-22.19, -48.79], [-22.25, -42.66], [-22.19, -48.79], [-22.19, -48.79], [-27.45, -50.95], [-22.19, -48.79], [-22.19, -48.79], [-15.98, -49.86], [-22.19, -48.79], [-8.38, -37.86], [-22.19, -48.79], [-22.19, -48.79], [-22.19, -48.79], [-22.25, -42.66], [-22.19, -48.79], [-30.17, -53.5], [-22.19, -48.79], [-5.2, -39.53], [-22.19, -48.79], [-22.19, -48.79], [-22.25, -42.66], [-22.19, -48.79], [-22.25, -42.66], [-7.28, -36.72], [-22.19, -48.79], [-22.25, -42.66], [-22.25, -42.66], [-22.25, -42.66], [-22.19, -48.79], [-8.38, -37.86], [-22.19, -48.79], [-22.19, -48.79], [-22.19, -48.79], [-22.25, -42.66], [-18.1, -44.38], [-15.83, -47.86], [-22.19, -48.79], [-22.19, -48.79], [-22.19, -48.79], [-19.19, -40.34], [-22.19, -48.79], [-22.19, -48.79], [-22.19, -48.79], [-24.89, -51.55], [-22.19, -48.79], [-30.17, -53.5], [-22.19, -48.79], [-22.19, -48.79], [-22.19, -48.79], [-15.83, -47.86], [-22.19, -48.79], [-22.19, -48.79], [-22.19, -48.79], [-18.1, -44.38], [-22.19, -48.79], [-22.19, -48.79], [-22.19, -48.79], [-5.42, -45.44], [-22.19, -48.79], [-22.25, -42.66], [-30.17, -53.5], [-22.25, -42.66], [-22.25, -42.66], [-30.17, -53.5], [-30.17, -53.5], [-5.81, -36.59], [-30.17, -53.5], [-8.38, -37.86], [-22.19, -48.79], [-22.19, -48.79], [-22.19, -48.79], [-22.19, -48.79], [-22.19, -48.79], [-22.19, -48.79], [-22.19, -48.79], [-22.19, -48.79], [-13.29, -41.71], [-5.81, -36.59], [-22.19, -48.79], [-22.19, -48.79], [-18.1, -44.38], [-30.17, -53.5], [-18.1, -44.38], [-24.89, -51.55], [-22.19, -48.79], [-22.19, -48.79], [-22.19, -48.79], [-18.1, -44.38], [-22.19, -48.79], [-22.25, -42.66], [-24.89, -51.55], [-22.19, -48.79], [-5.81, -36.59], [-22.25, -42.66], [-22.19, -48.79], [-22.19, -48.79], [-27.45, -50.95], [-22.19, -48.79], [-22.19, -48.79], [-8.38, -37.86], [-9.62, -36.82], [-22.19, -48.79], [-22.19, -48.79], [-22.25, -42.66], [-22.19, -48.79], [-27.45, -50.95], [-22.19, -48.79], [-22.25, -42.66], [-22.19, -48.79], [-5.2, -39.53], [-8.38, -37.86], [-15.83, -47.86], [-22.19, -48.79], [-22.19, -48.79], [-30.17, -53.5], [-22.19, -48.79], [-12.64, -55.42], [-18.1, -44.38], [-22.19, -48.79], [-22.19, -48.79], [-22.19, -48.79], [-22.19, -48.79], [-22.25, -42.66], [-7.28, -36.72], [-20.51, -54.54], [-18.1, -44.38], [-22.19, -48.79], [-22.19, -48.79], [-22.25, -42.66], [-12.64, -55.42], [-22.19, -48.79], [-13.29, -41.71], [-22.19, -48.79], [-30.17, -53.5], [-22.19, -48.79], [-13.29, -41.71], [-22.19, -48.79], [-30.17, -53.5], [-19.19, -40.34], [-30.17, -53.5], [-22.19, -48.79], [-22.25, -42.66], [-22.19, -48.79], [-15.83, -47.86], [-22.19, -48.79], [-5.2, -39.53], [-22.25, -42.66], [-27.45, -50.95], [-22.19, -48.79], [-18.1, -44.38], [-30.17, -53.5], [-22.19, -48.79], [-22.25, -42.66], [-22.19, -48.79], [-22.19, -48.79], [-22.19, -48.79], [-22.19, -48.79], [-30.17, -53.5], [-22.19, -48.79], [-20.51, -54.54], [-18.1, -44.38], [-22.19, -48.79], [-27.45, -50.95], [-22.25, -42.66], [-13.29, -41.71], [-15.83, -47.86], [-22.19, -48.79], [-22.19, -48.79], [-18.1, -44.38], [-18.1, -44.38], [-22.19, -48.79], [-13.29, -41.71], [-22.19, -48.79], [-22.25, -42.66], [-22.25, -42.66], [-22.25, -42.66], [-22.19, -48.79], [-24.89, -51.55], [-22.19, -48.79], [-30.17, -53.5], [-22.25, -42.66], [-22.19, -48.79], [-22.19, -48.79], [-22.25, -42.66], [-18.1, -44.38], [-22.19, -48.79], [-22.19, -48.79], [-19.19, -40.34], [-15.98, -49.86], [-22.19, -48.79], [-5.42, -45.44], [-22.19, -48.79], [-22.19, -48.79], [-18.1, -44.38], [-18.1, -44.38], [-18.1, -44.38], [-22.25, -42.66], [-22.19, -48.79], [-15.98, -49.86], [-13.29, -41.71], [-22.19, -48.79], [-22.19, -48.79], [-27.45, -50.95], [-12.64, -55.42], [-18.1, -44.38], [-30.17, -53.5], [-22.19, -48.79], [-15.83, -47.86], [-22.25, -42.66], [-22.25, -42.66], [-22.19, -48.79], [-22.19, -48.79], [-22.19, -48.79], [-22.19, -48.79], [-22.19, -48.79], [-18.1, -44.38], [-22.19, -48.79], [-22.19, -48.79], [-22.19, -48.79], [-22.19, -48.79], [-22.25, -42.66], [-30.17, -53.5], [-8.38, -37.86], [-15.83, -47.86], [-13.29, -41.71], [-22.25, -42.66], [-22.19, -48.79], [-22.25, -42.66], [-22.19, -48.79], [-24.89, -51.55], [-30.17, -53.5], [-18.1, -44.38], [-15.83, -47.86], [-22.25, -42.66], [-24.89, -51.55], [-22.25, -42.66], [-27.45, -50.95], [-22.19, -48.79], [-24.89, -51.55], [-24.89, -51.55], [-22.19, -48.79], [-22.25, -42.66], [-22.19, -48.79], [-15.83, -47.86], [-22.25, -42.66], [-22.19, -48.79], [-22.25, -42.66], [-3.79, -52.48], [-22.19, -48.79], [-15.83, -47.86], [-8.38, -37.86], [-18.1, -44.38], [-18.1, -44.38], [-13.29, -41.71], [-13.29, -41.71], [-5.2, -39.53], [-22.25, -42.66], [-22.19, -48.79], [-22.19, -48.79], [-22.19, -48.79], [-22.19, -48.79], [-27.45, -50.95], [-18.1, -44.38], [-22.19, -48.79], [-22.25, -42.66], [-15.83, -47.86], [-13.29, -41.71], [-18.1, -44.38], [-24.89, -51.55], [-22.19, -48.79], [-22.25, -42.66], [-18.1, -44.38], [-22.19, -48.79], [-27.45, -50.95], [-22.19, -48.79], [-20.51, -54.54], [-22.19, -48.79], [-18.1, -44.38], [-3.79, -52.48], [-15.83, -47.86], [-22.25, -42.66], [-22.19, -48.79], [-8.38, -37.86], [-18.1, -44.38], [-22.19, -48.79], [-15.83, -47.86], [-24.89, -51.55], [-22.19, -48.79], [-30.17, -53.5], [-22.19, -48.79], [-18.1, -44.38], [-5.2, -39.53], [-10.83, -63.34], [-22.19, -48.79], [-22.25, -42.66], [-22.19, -48.79], [-18.1, -44.38], [-22.19, -48.79], [-22.19, -48.79], [-22.25, -42.66], [-22.25, -42.66], [-19.19, -40.34], [-5.2, -39.53], [-22.19, -48.79], [-27.45, -50.95], [-22.19, -48.79], [-22.19, -48.79], [-22.19, -48.79], [-6.6, -42.28], [-22.19, -48.79], [-22.19, -48.79], [-24.89, -51.55], [-22.19, -48.79], [-18.1, -44.38], [-27.45, -50.95], [-15.98, -49.86], [-18.1, -44.38], [-8.38, -37.86], [-22.25, -42.66], [-22.19, -48.79], [-22.19, -48.79], [-22.25, -42.66], [-22.19, -48.79], [-5.42, -45.44], [-22.25, -42.66], [-18.1, -44.38], [-22.25, -42.66], [-24.89, -51.55], [-30.17, -53.5], [-3.47, -65.1], [-22.19, -48.79], [-22.19, -48.79], [-22.19, -48.79], [-3.79, -52.48], [-13.29, -41.71], [-22.19, -48.79], [-18.1, -44.38], [-18.1, -44.38], [-22.19, -48.79], [-13.29, -41.71], [-22.25, -42.66], [-22.19, -48.79], [-22.25, -42.66], [-22.19, -48.79], [-22.19, -48.79], [-22.19, -48.79], [-13.29, -41.71], [-30.17, -53.5], [-8.38, -37.86], [-18.1, -44.38], [-18.1, -44.38], [-22.25, -42.66], [-22.19, -48.79], [-22.19, -48.79], [-22.19, -48.79], [-22.19, -48.79], [-22.19, -48.79], [-20.51, -54.54], [-22.25, -42.66], [-15.83, -47.86], [-22.25, -42.66], [-22.25, -42.66], [-22.19, -48.79], [-22.19, -48.79], [-8.38, -37.86], [-22.19, -48.79], [-22.25, -42.66], [-22.19, -48.79], [-30.17, -53.5], [-18.1, -44.38], [-22.19, -48.79], [-8.38, -37.86], [-5.2, -39.53], [-18.1, -44.38], [-27.45, -50.95], [-19.19, -40.34], [-22.19, -48.79], [-22.19, -48.79], [-22.19, -48.79], [-22.19, -48.79], [-22.25, -42.66], [-22.19, -48.79], [-22.19, -48.79], [-22.25, -42.66], [-18.1, -44.38], [-15.83, -47.86], [-22.19, -48.79], [-22.19, -48.79], [-22.25, -42.66], [-18.1, -44.38], [-22.19, -48.79], [-15.98, -49.86], [-15.83, -47.86], [-15.83, -47.86], [-22.19, -48.79], [-27.45, -50.95], [-18.1, -44.38], [-13.29, -41.71], [-22.19, -48.79], [-9.46, -48.26], [-22.25, -42.66], [-18.1, -44.38], [-22.19, -48.79], [-27.45, -50.95], [-22.19, -48.79], [-12.64, -55.42], [-15.98, -49.86], [-24.89, -51.55], [-18.1, -44.38], [-5.2, -39.53], [-22.19, -48.79], [-22.19, -48.79], [-22.19, -48.79], [-18.1, -44.38], [-22.19, -48.79], [-22.19, -48.79], [-22.19, -48.79], [-15.83, -47.86], [-22.19, -48.79], [-18.1, -44.38], [-18.1, -44.38], [-22.25, -42.66], [-30.17, -53.5], [-8.38, -37.86], [-13.29, -41.71], [-5.2, -39.53], [-13.29, -41.71], [-8.38, -37.86], [-22.19, -48.79], [-22.19, -48.79], [-22.19, -48.79], [-22.19, -48.79], [-22.19, -48.79], [-22.19, -48.79], [-20.51, -54.54], [-24.89, -51.55], [-22.19, -48.79], [-8.38, -37.86], [-22.19, -48.79], [-6.6, -42.28], [-22.19, -48.79], [-22.19, -48.79], [-18.1, -44.38], [-27.45, -50.95], [-8.38, -37.86], [-24.89, -51.55], [-15.83, -47.86], [-22.19, -48.79], [-22.19, -48.79], [-13.29, -41.71], [-24.89, -51.55], [-22.19, -48.79], [-22.25, -42.66], [-22.19, -48.79], [-22.25, -42.66], [-22.25, -42.66], [-30.17, -53.5], [-22.25, -42.66], [-27.45, -50.95], [-22.19, -48.79], [-22.19, -48.79], [-18.1, -44.38], [-22.19, -48.79], [-18.1, -44.38], [-22.19, -48.79], [-5.42, -45.44], [-24.89, -51.55], [-22.19, -48.79], [-22.19, -48.79], [-22.25, -42.66], [-22.19, -48.79], [-18.1, -44.38], [-22.19, -48.79], [-22.25, -42.66], [-22.19, -48.79], [-18.1, -44.38], [-22.19, -48.79], [-22.19, -48.79], [-22.19, -48.79], [-30.17, -53.5], [-22.19, -48.79], [-22.19, -48.79], [-22.19, -48.79], [-22.19, -48.79], [-22.19, -48.79], [-22.19, -48.79], [-15.98, -49.86], [-22.19, -48.79], [-15.98, -49.86], [-22.19, -48.79], [-22.25, -42.66], [-22.19, -48.79], [-22.25, -42.66], [-10.83, -63.34], [-22.19, -48.79], [-22.19, -48.79], [-15.98, -49.86], [-5.2, -39.53], [-27.45, -50.95], [-5.2, -39.53], [-27.45, -50.95], [-18.1, -44.38], [-24.89, -51.55], [-22.19, -48.79], [-22.19, -48.79], [-22.25, -42.66], [-22.19, -48.79], [-8.38, -37.86], [-15.98, -49.86], [-22.19, -48.79], [-27.45, -50.95], [-22.19, -48.79], [-22.25, -42.66], [-9.62, -36.82], [-22.19, -48.79], [-22.19, -48.79], [-15.83, -47.86], [-15.98, -49.86], [-18.1, -44.38], [-18.1, -44.38], [-15.98, -49.86], [-22.19, -48.79], [-27.45, -50.95], [-22.19, -48.79], [-22.25, -42.66], [-18.1, -44.38], [-30.17, -53.5], [-22.19, -48.79], [-22.19, -48.79], [-22.19, -48.79], [-22.19, -48.79], [-22.19, -48.79], [-22.19, -48.79], [-22.19, -48.79], [-22.19, -48.79], [-22.25, -42.66], [-22.25, -42.66], [-22.19, -48.79], [-24.89, -51.55], [-18.1, -44.38], [-18.1, -44.38], [-22.19, -48.79], [-22.19, -48.79], [-22.19, -48.79], [-18.1, -44.38], [-18.1, -44.38], [-22.19, -48.79], [-22.19, -48.79], [-30.17, -53.5], [-22.19, -48.79], [-22.19, -48.79], [-22.19, -48.79], [-24.89, -51.55], [-22.19, -48.79], [-15.83, -47.86], [-22.19, -48.79], [-15.83, -47.86], [-15.83, -47.86], [-5.2, -39.53], [-27.45, -50.95], [-12.64, -55.42], [-22.19, -48.79], [-24.89, -51.55], [-22.19, -48.79], [-22.25, -42.66], [-15.98, -49.86], [-12.64, -55.42], [-19.19, -40.34], [-18.1, -44.38], [-22.25, -42.66], [-13.29, -41.71], [-15.83, -47.86], [-13.29, -41.71], [-22.19, -48.79], [-18.1, -44.38], [-22.19, -48.79], [-3.79, -52.48], [-22.25, -42.66], [-22.19, -48.79], [-18.1, -44.38], [-22.19, -48.79], [-30.17, -53.5], [-22.19, -48.79], [-22.19, -48.79], [-22.19, -48.79], [-22.19, -48.79], [-22.19, -48.79], [-18.1, -44.38], [-22.19, -48.79], [-22.25, -42.66], [-15.98, -49.86], [-22.25, -42.66], [-30.17, -53.5], [-22.25, -42.66], [-5.2, -39.53], [-15.98, -49.86], [-18.1, -44.38], [-22.19, -48.79], [-22.19, -48.79], [-22.19, -48.79], [-22.25, -42.66], [-22.19, -48.79], [-22.25, -42.66], [-22.19, -48.79], [-22.25, -42.66], [-13.29, -41.71], [-18.1, -44.38], [-22.25, -42.66], [-22.19, -48.79], [-22.19, -48.79], [-3.79, -52.48], [-22.25, -42.66], [-22.19, -48.79], [-22.19, -48.79], [-18.1, -44.38], [-22.19, -48.79], [-22.19, -48.79], [-22.19, -48.79], [-18.1, -44.38], [-18.1, -44.38], [-18.1, -44.38], [-22.19, -48.79], [-30.17, -53.5], [-15.83, -47.86], [-8.38, -37.86], [-22.19, -48.79], [-13.29, -41.71], [-22.25, -42.66], [-24.89, -51.55], [-22.25, -42.66], [-22.19, -48.79], [-22.19, -48.79], [-22.25, -42.66], [-18.1, -44.38], [-22.19, -48.79], [-22.19, -48.79], [-27.45, -50.95], [-5.2, -39.53], [-18.1, -44.38], [-22.19, -48.79], [-22.25, -42.66], [-30.17, -53.5], [-27.45, -50.95], [-22.19, -48.79], [-22.19, -48.79], [-22.19, -48.79], [-22.19, -48.79], [-18.1, -44.38], [-18.1, -44.38], [-22.19, -48.79], [-18.1, -44.38], [-22.19, -48.79], [-18.1, -44.38], [-30.17, -53.5], [-6.6, -42.28], [-22.19, -48.79], [-19.19, -40.34], [-22.19, -48.79], [-22.25, -42.66], [-30.17, -53.5], [-22.19, -48.79], [-22.25, -42.66], [-22.19, -48.79], [-24.89, -51.55], [-12.64, -55.42], [-22.19, -48.79], [-22.19, -48.79], [-22.19, -48.79], [-22.19, -48.79], [-8.38, -37.86], [-27.45, -50.95], [-22.19, -48.79], [-22.19, -48.79], [-22.25, -42.66], [-24.89, -51.55], [-15.83, -47.86], [-24.89, -51.55], [-5.42, -45.44], [-15.83, -47.86], [-18.1, -44.38], [-22.25, -42.66], [-22.19, -48.79], [-30.17, -53.5], [-22.19, -48.79], [-22.25, -42.66], [-22.19, -48.79], [-8.38, -37.86], [-22.19, -48.79], [-22.19, -48.79], [-22.25, -42.66], [-22.25, -42.66], [-8.38, -37.86], [-22.19, -48.79], [-27.45, -50.95], [-18.1, -44.38], [-30.17, -53.5], [-22.19, -48.79], [-22.19, -48.79], [-22.19, -48.79], [-30.17, -53.5], [-22.19, -48.79], [-18.1, -44.38], [-13.29, -41.71], [-18.1, -44.38], [-13.29, -41.71], [-30.17, -53.5], [-22.19, -48.79], [-22.19, -48.79], [-30.17, -53.5], [-22.19, -48.79], [-22.25, -42.66], [-22.19, -48.79], [-22.25, -42.66], [-22.19, -48.79], [-22.19, -48.79], [-22.19, -48.79], [-22.19, -48.79], [-22.19, -48.79], [-22.19, -48.79], [-5.2, -39.53], [-22.19, -48.79], [-22.19, -48.79], [-22.19, -48.79], [-30.17, -53.5], [-18.1, -44.38], [-22.25, -42.66], [-22.25, -42.66], [-18.1, -44.38], [-18.1, -44.38], [-13.29, -41.71], [-22.19, -48.79], [-30.17, -53.5], [-22.19, -48.79], [-18.1, -44.38], [-15.98, -49.86], [-8.38, -37.86], [-22.25, -42.66], [-15.83, -47.86], [-22.19, -48.79], [-22.19, -48.79], [-22.19, -48.79], [-18.1, -44.38], [-22.19, -48.79], [-18.1, -44.38], [-22.19, -48.79], [-22.25, -42.66], [-22.25, -42.66], [-30.17, -53.5], [-22.25, -42.66], [-22.19, -48.79], [-22.25, -42.66], [-15.98, -49.86], [-27.45, -50.95], [-24.89, -51.55], [-19.19, -40.34], [-18.1, -44.38], [-22.19, -48.79], [-22.19, -48.79], [-22.19, -48.79], [-27.45, -50.95], [-22.19, -48.79], [-30.17, -53.5], [-13.29, -41.71], [-5.2, -39.53], [-22.19, -48.79], [-3.79, -52.48], [-15.83, -47.86], [-22.19, -48.79], [-22.25, -42.66], [-30.17, -53.5], [-22.19, -48.79], [-19.19, -40.34], [-22.19, -48.79], [-18.1, -44.38], [-18.1, -44.38], [-5.81, -36.59], [-22.25, -42.66], [-22.19, -48.79], [-22.25, -42.66], [-9.46, -48.26], [-22.19, -48.79], [-22.19, -48.79], [-15.83, -47.86], [-22.25, -42.66], [-22.19, -48.79], [-22.19, -48.79], [-5.2, -39.53], [-22.19, -48.79], [-30.17, -53.5], [-22.19, -48.79], [-22.19, -48.79], [-22.25, -42.66], [-27.45, -50.95], [-22.19, -48.79], [-18.1, -44.38], [-27.45, -50.95], [-22.19, -48.79], [-22.25, -42.66], [-22.19, -48.79], [-15.83, -47.86], [-22.19, -48.79], [-20.51, -54.54], [-22.19, -48.79], [-22.19, -48.79], [-22.19, -48.79], [-27.45, -50.95], [-15.98, -49.86], [-22.25, -42.66], [-30.17, -53.5], [-8.38, -37.86], [-13.29, -41.71], [-22.19, -48.79], [-22.19, -48.79], [-22.25, -42.66], [-22.19, -48.79], [-22.19, -48.79], [-20.51, -54.54], [-9.46, -48.26], [-22.19, -48.79], [-22.19, -48.79], [-27.45, -50.95], [-22.19, -48.79], [-27.45, -50.95], [-22.25, -42.66], [-24.89, -51.55], [-22.19, -48.79], [-13.29, -41.71], [-8.38, -37.86], [-22.25, -42.66], [-22.19, -48.79], [-22.19, -48.79], [-18.1, -44.38], [-22.19, -48.79], [-24.89, -51.55], [-22.19, -48.79], [-30.17, -53.5], [-22.25, -42.66], [-22.25, -42.66], [-9.62, -36.82], [-18.1, -44.38], [-18.1, -44.38], [-30.17, -53.5], [-22.19, -48.79], [-18.1, -44.38], [-22.19, -48.79], [-7.28, -36.72], [-15.83, -47.86], [-15.98, -49.86], [-22.19, -48.79], [-18.1, -44.38], [-8.38, -37.86], [-22.19, -48.79], [-20.51, -54.54], [-18.1, -44.38], [-22.19, -48.79], [-18.1, -44.38], [-22.19, -48.79], [-22.19, -48.79], [-5.81, -36.59], [-22.19, -48.79], [-22.25, -42.66], [-30.17, -53.5], [-22.19, -48.79], [-22.19, -48.79], [-22.19, -48.79], [-18.1, -44.38], [-30.17, -53.5], [-13.29, -41.71], [-18.1, -44.38], [-22.19, -48.79], [-13.29, -41.71], [-22.25, -42.66], [-22.19, -48.79], [-27.45, -50.95], [-22.19, -48.79], [-24.89, -51.55], [-15.98, -49.86], [-22.19, -48.79], [-22.19, -48.79], [-22.19, -48.79], [-22.19, -48.79], [-22.25, -42.66], [-30.17, -53.5], [-22.19, -48.79], [-22.19, -48.79], [-22.19, -48.79], [-18.1, -44.38], [-22.19, -48.79], [-18.1, -44.38], [-15.98, -49.86], [-22.19, -48.79], [-27.45, -50.95], [-22.19, -48.79], [-22.19, -48.79], [-18.1, -44.38], [-19.19, -40.34], [-22.19, -48.79], [-24.89, -51.55], [-22.19, -48.79], [-22.19, -48.79], [-22.19, -48.79], [-22.19, -48.79], [-22.19, -48.79], [-24.89, -51.55], [-22.19, -48.79], [-22.19, -48.79], [-22.25, -42.66], [-20.51, -54.54], [-22.25, -42.66], [-13.29, -41.71], [-30.17, -53.5], [-19.19, -40.34], [-22.19, -48.79], [-7.28, -36.72], [-22.19, -48.79], [-22.25, -42.66], [-22.19, -48.79], [-22.19, -48.79], [-22.19, -48.79], [-22.19, -48.79], [-27.45, -50.95], [-22.25, -42.66], [-22.19, -48.79], [-18.1, -44.38], [-27.45, -50.95], [-22.19, -48.79], [-22.19, -48.79], [-18.1, -44.38], [-22.19, -48.79], [-18.1, -44.38], [-22.19, -48.79], [-22.19, -48.79], [-24.89, -51.55], [-22.19, -48.79], [-22.19, -48.79], [-22.19, -48.79], [-22.25, -42.66], [-22.25, -42.66], [-15.98, -49.86], [-22.25, -42.66], [-18.1, -44.38], [-22.19, -48.79], [-22.25, -42.66], [-5.42, -45.44], [-22.25, -42.66], [-22.25, -42.66], [-18.1, -44.38], [-22.19, -48.79], [-30.17, -53.5], [-18.1, -44.38], [-18.1, -44.38], [-22.25, -42.66], [-22.25, -42.66], [-22.19, -48.79], [-18.1, -44.38], [-15.98, -49.86], [-15.83, -47.86], [-24.89, -51.55], [-22.19, -48.79], [-22.25, -42.66], [-22.25, -42.66], [-22.19, -48.79], [-22.19, -48.79], [-22.19, -48.79], [-22.25, -42.66], [-22.25, -42.66], [-7.28, -36.72], [-22.19, -48.79], [-22.19, -48.79], [-27.45, -50.95], [-24.89, -51.55], [-22.19, -48.79], [-22.19, -48.79], [-22.19, -48.79], [-18.1, -44.38], [-22.19, -48.79], [-22.19, -48.79], [-22.19, -48.79], [-18.1, -44.38], [-24.89, -51.55], [-27.45, -50.95], [-18.1, -44.38], [-22.19, -48.79], [-18.1, -44.38], [-24.89, -51.55], [-15.83, -47.86], [-22.19, -48.79], [-12.64, -55.42], [-20.51, -54.54], [-22.25, -42.66], [-22.19, -48.79], [-22.19, -48.79], [-22.25, -42.66], [-18.1, -44.38], [-30.17, -53.5], [-24.89, -51.55], [-15.98, -49.86], [-18.1, -44.38], [-18.1, -44.38], [-22.19, -48.79], [-22.19, -48.79], [-18.1, -44.38], [-22.19, -48.79], [-22.25, -42.66], [-15.98, -49.86], [-9.62, -36.82], [-18.1, -44.38], [-22.19, -48.79], [-22.19, -48.79], [-18.1, -44.38], [-22.19, -48.79], [-22.19, -48.79], [-15.98, -49.86], [-20.51, -54.54], [-30.17, -53.5], [-22.19, -48.79], [-22.19, -48.79], [-30.17, -53.5], [-22.19, -48.79], [-15.98, -49.86], [-27.45, -50.95], [-22.19, -48.79], [-24.89, -51.55], [-3.79, -52.48], [-18.1, -44.38], [-9.62, -36.82], [-18.1, -44.38], [-22.25, -42.66], [-18.1, -44.38], [-19.19, -40.34], [-22.19, -48.79], [-7.28, -36.72], [-13.29, -41.71], [-22.25, -42.66], [-18.1, -44.38], [-13.29, -41.71], [-8.38, -37.86], [-22.19, -48.79], [-20.51, -54.54], [-22.19, -48.79], [-22.25, -42.66], [-22.19, -48.79], [-22.19, -48.79], [-22.19, -48.79], [-30.17, -53.5], [-22.19, -48.79], [-5.42, -45.44], [-22.25, -42.66], [-22.19, -48.79], [-18.1, -44.38], [-15.83, -47.86], [-27.45, -50.95], [-15.83, -47.86], [-22.19, -48.79], [-22.19, -48.79], [-30.17, -53.5], [-22.19, -48.79], [-19.19, -40.34], [-18.1, -44.38], [-22.19, -48.79], [-24.89, -51.55], [-22.19, -48.79], [-15.83, -47.86], [-30.17, -53.5], [-22.19, -48.79], [-22.19, -48.79], [-19.19, -40.34], [-18.1, -44.38], [-22.19, -48.79], [-22.19, -48.79], [-22.19, -48.79], [-22.19, -48.79], [-22.25, -42.66], [-22.19, -48.79], [-22.19, -48.79], [-22.19, -48.79], [-22.19, -48.79], [-22.19, -48.79], [-22.25, -42.66], [-22.25, -42.66], [-22.25, -42.66], [-22.19, -48.79], [-19.19, -40.34], [-13.29, -41.71], [-15.98, -49.86], [-5.2, -39.53], [-5.2, -39.53], [-27.45, -50.95], [-22.19, -48.79], [-22.19, -48.79], [-22.19, -48.79], [-22.19, -48.79], [-24.89, -51.55], [-15.83, -47.86], [-18.1, -44.38], [-22.19, -48.79], [-22.25, -42.66], [-22.19, -48.79], [-30.17, -53.5], [-22.19, -48.79], [-5.2, -39.53], [-22.19, -48.79], [-15.83, -47.86], [-22.19, -48.79], [-3.79, -52.48], [-30.17, -53.5], [-18.1, -44.38], [-22.19, -48.79], [-18.1, -44.38], [-18.1, -44.38], [-22.19, -48.79], [-30.17, -53.5], [-27.45, -50.95], [-22.19, -48.79], [-22.19, -48.79], [-22.19, -48.79], [-22.19, -48.79], [-18.1, -44.38], [-18.1, -44.38], [-22.19, -48.79], [-22.19, -48.79], [-22.19, -48.79], [-22.25, -42.66], [-27.45, -50.95], [-22.19, -48.79], [-22.19, -48.79], [-19.19, -40.34], [-22.25, -42.66], [-27.45, -50.95], [-22.19, -48.79], [-22.19, -48.79], [-22.19, -48.79], [-19.19, -40.34], [-22.19, -48.79], [-18.1, -44.38], [-22.19, -48.79], [-18.1, -44.38], [-22.19, -48.79], [-19.19, -40.34], [-22.25, -42.66], [-22.19, -48.79], [-22.19, -48.79], [-22.25, -42.66], [-22.19, -48.79], [-24.89, -51.55], [-22.19, -48.79], [-19.19, -40.34], [-22.19, -48.79], [-27.45, -50.95], [-22.19, -48.79], [-22.19, -48.79], [-22.25, -42.66], [-22.19, -48.79], [-24.89, -51.55], [-27.45, -50.95], [-22.25, -42.66], [-13.29, -41.71], [-22.19, -48.79], [-22.19, -48.79], [-10.57, -37.45], [-18.1, -44.38], [-22.19, -48.79], [-22.19, -48.79], [-3.79, -52.48], [-18.1, -44.38], [-22.19, -48.79], [-22.19, -48.79], [-22.19, -48.79], [-22.19, -48.79], [-18.1, -44.38], [-22.19, -48.79], [-22.19, -48.79], [-22.25, -42.66], [-22.19, -48.79], [-22.19, -48.79], [-15.98, -49.86], [-6.6, -42.28], [-22.19, -48.79], [-22.19, -48.79], [-24.89, -51.55], [-22.19, -48.79], [-22.19, -48.79], [-22.19, -48.79], [-18.1, -44.38], [-18.1, -44.38], [-22.19, -48.79], [-18.1, -44.38], [-18.1, -44.38], [-27.45, -50.95], [-22.25, -42.66], [-15.98, -49.86], [-22.25, -42.66], [-13.29, -41.71], [-24.89, -51.55], [-22.19, -48.79], [-18.1, -44.38], [-27.45, -50.95], [-22.19, -48.79], [-15.98, -49.86], [-18.1, -44.38], [-3.79, -52.48], [-22.19, -48.79], [-22.19, -48.79], [-22.19, -48.79], [-18.1, -44.38], [-9.46, -48.26], [-13.29, -41.71], [-22.19, -48.79], [-22.19, -48.79], [-5.42, -45.44], [-22.25, -42.66], [-22.19, -48.79], [-15.83, -47.86], [-18.1, -44.38], [-18.1, -44.38], [-22.19, -48.79], [-22.25, -42.66], [-10.83, -63.34], [-22.25, -42.66], [-13.29, -41.71], [-3.79, -52.48], [-22.19, -48.79], [-5.2, -39.53], [-22.19, -48.79], [-18.1, -44.38], [-22.19, -48.79], [-22.19, -48.79], [-18.1, -44.38], [-22.19, -48.79], [-22.19, -48.79], [-22.25, -42.66], [-15.98, -49.86], [-15.83, -47.86], [-22.25, -42.66], [-24.89, -51.55], [-15.83, -47.86], [-19.19, -40.34], [-22.19, -48.79], [-8.38, -37.86], [-22.19, -48.79], [-22.19, -48.79], [-22.19, -48.79], [-8.38, -37.86], [-22.25, -42.66], [-22.19, -48.79], [-9.62, -36.82], [-22.19, -48.79], [-20.51, -54.54], [-19.19, -40.34], [-22.19, -48.79], [-22.19, -48.79], [-18.1, -44.38], [-22.19, -48.79], [-24.89, -51.55], [-22.19, -48.79], [-13.29, -41.71], [-15.83, -47.86], [-27.45, -50.95], [-22.19, -48.79], [-5.42, -45.44], [-22.25, -42.66], [-18.1, -44.38], [-18.1, -44.38], [-18.1, -44.38], [-22.19, -48.79], [-22.19, -48.79], [-27.45, -50.95], [-15.83, -47.86], [-22.19, -48.79], [-22.19, -48.79], [-19.19, -40.34], [-22.25, -42.66], [-18.1, -44.38], [-22.19, -48.79], [-22.25, -42.66], [-5.2, -39.53], [-18.1, -44.38], [-22.25, -42.66], [-22.25, -42.66], [-30.17, -53.5], [-24.89, -51.55], [-22.19, -48.79], [-22.19, -48.79], [-19.19, -40.34], [-27.45, -50.95], [-22.25, -42.66], [-18.1, -44.38], [-3.47, -65.1], [-12.64, -55.42], [-22.25, -42.66], [-22.19, -48.79], [-22.19, -48.79], [-18.1, -44.38], [-22.25, -42.66], [-22.19, -48.79], [-5.2, -39.53], [-22.19, -48.79], [-22.25, -42.66], [-22.19, -48.79], [-22.19, -48.79], [-18.1, -44.38], [-22.19, -48.79], [-8.38, -37.86], [-22.25, -42.66], [-22.25, -42.66], [-18.1, -44.38], [-22.19, -48.79], [-22.19, -48.79], [-22.19, -48.79], [-24.89, -51.55], [-15.98, -49.86], [-22.19, -48.79], [-5.2, -39.53], [-30.17, -53.5], [-24.89, -51.55], [-22.19, -48.79], [-18.1, -44.38], [-22.19, -48.79], [-22.25, -42.66], [-24.89, -51.55], [-24.89, -51.55], [-13.29, -41.71], [-15.83, -47.86], [-19.19, -40.34], [-22.19, -48.79], [-22.25, -42.66], [-15.98, -49.86], [-22.25, -42.66], [-13.29, -41.71], [-22.19, -48.79], [-13.29, -41.71], [-30.17, -53.5], [-30.17, -53.5], [-18.1, -44.38], [-22.19, -48.79], [-30.17, -53.5], [-18.1, -44.38], [-22.25, -42.66], [-22.25, -42.66], [-22.19, -48.79], [-22.19, -48.79], [-22.19, -48.79], [-22.25, -42.66], [-24.89, -51.55], [-15.83, -47.86], [-22.25, -42.66], [-22.19, -48.79], [-8.38, -37.86], [-22.19, -48.79], [-22.19, -48.79], [-22.19, -48.79], [-22.19, -48.79], [-24.89, -51.55], [-27.45, -50.95], [-24.89, -51.55], [-22.19, -48.79], [-22.19, -48.79], [-22.19, -48.79], [-15.98, -49.86], [-9.46, -48.26], [-22.19, -48.79], [-22.19, -48.79], [-22.19, -48.79], [-22.19, -48.79], [-22.19, -48.79], [-22.25, -42.66], [-22.19, -48.79], [-22.19, -48.79], [-30.17, -53.5], [-22.19, -48.79], [-19.19, -40.34], [-22.19, -48.79], [-22.19, -48.79], [-22.19, -48.79], [-22.19, -48.79], [-22.19, -48.79], [-13.29, -41.71], [-22.19, -48.79], [-18.1, -44.38], [-15.83, -47.86], [-15.83, -47.86], [-15.83, -47.86], [-22.19, -48.79], [-12.64, -55.42], [-22.25, -42.66], [-30.17, -53.5], [-22.19, -48.79], [-22.19, -48.79], [-5.81, -36.59], [-22.25, -42.66], [-22.25, -42.66], [-22.19, -48.79], [-30.17, -53.5], [-22.19, -48.79], [-27.45, -50.95], [-22.19, -48.79], [-20.51, -54.54], [-22.19, -48.79], [-22.19, -48.79], [-5.2, -39.53], [-22.25, -42.66], [-22.19, -48.79], [-22.19, -48.79], [-24.89, -51.55], [-22.19, -48.79], [-18.1, -44.38], [-27.45, -50.95], [-18.1, -44.38], [-30.17, -53.5], [-22.25, -42.66], [-22.19, -48.79], [-22.19, -48.79], [-13.29, -41.71], [-22.19, -48.79], [-22.25, -42.66], [-22.25, -42.66], [-30.17, -53.5], [-22.25, -42.66], [-18.1, -44.38], [-3.79, -52.48], [-22.19, -48.79], [-22.19, -48.79], [-22.25, -42.66], [-22.25, -42.66], [-8.38, -37.86], [-22.19, -48.79], [-22.19, -48.79], [-22.19, -48.79], [-30.17, -53.5], [-9.62, -36.82], [-22.19, -48.79], [-22.19, -48.79], [-22.19, -48.79], [-22.25, -42.66], [-15.83, -47.86], [-22.25, -42.66], [-22.19, -48.79], [-24.89, -51.55], [-24.89, -51.55], [-22.25, -42.66], [-22.19, -48.79], [-22.25, -42.66], [-22.19, -48.79], [-18.1, -44.38], [-5.2, -39.53], [-22.25, -42.66], [-18.1, -44.38], [-18.1, -44.38], [-18.1, -44.38], [-30.17, -53.5], [-18.1, -44.38], [-24.89, -51.55], [-22.19, -48.79], [-24.89, -51.55], [-5.42, -45.44], [-8.38, -37.86], [-27.45, -50.95], [-22.25, -42.66], [-8.77, -70.55], [-30.17, -53.5], [-22.25, -42.66], [-22.19, -48.79], [-22.19, -48.79], [-7.28, -36.72], [-22.19, -48.79], [-22.19, -48.79], [-22.19, -48.79], [-22.19, -48.79], [-22.19, -48.79], [-5.2, -39.53], [-18.1, -44.38], [-22.19, -48.79], [-22.19, -48.79], [-15.83, -47.86], [-22.19, -48.79], [-22.19, -48.79], [-22.19, -48.79], [-15.83, -47.86], [-30.17, -53.5], [-13.29, -41.71], [-12.64, -55.42], [-22.25, -42.66], [-22.19, -48.79], [-22.19, -48.79], [-22.19, -48.79], [-22.25, -42.66], [-18.1, -44.38], [-22.19, -48.79], [-13.29, -41.71], [-22.19, -48.79], [-22.19, -48.79], [-22.19, -48.79], [-18.1, -44.38], [-15.83, -47.86], [-22.25, -42.66], [-5.2, -39.53], [-22.19, -48.79], [-8.38, -37.86], [-22.19, -48.79], [-22.25, -42.66], [-30.17, -53.5], [-22.25, -42.66], [1.99, -61.33], [-27.45, -50.95], [-22.19, -48.79], [-9.62, -36.82], [-22.25, -42.66], [-22.19, -48.79], [-22.19, -48.79], [-15.83, -47.86], [-22.19, -48.79], [-30.17, -53.5], [-9.62, -36.82], [-24.89, -51.55], [-18.1, -44.38], [-22.19, -48.79], [-13.29, -41.71], [-22.19, -48.79], [-22.19, -48.79], [-3.47, -65.1], [-18.1, -44.38], [-5.2, -39.53], [-22.19, -48.79], [-7.28, -36.72], [-22.19, -48.79], [-13.29, -41.71], [-22.19, -48.79], [-8.38, -37.86], [-22.19, -48.79], [-22.19, -48.79], [-22.19, -48.79], [-5.81, -36.59], [-22.19, -48.79], [-27.45, -50.95], [-22.19, -48.79], [-27.45, -50.95], [-18.1, -44.38], [-22.19, -48.79], [-22.19, -48.79], [-27.45, -50.95], [-22.19, -48.79], [-22.19, -48.79], [-30.17, -53.5], [-22.19, -48.79], [-22.19, -48.79], [-13.29, -41.71], [-22.19, -48.79], [-27.45, -50.95], [-18.1, -44.38], [-30.17, -53.5], [-15.83, -47.86], [-30.17, -53.5], [-22.25, -42.66], [-22.19, -48.79], [-22.25, -42.66], [-22.19, -48.79], [-8.38, -37.86], [-22.19, -48.79], [-18.1, -44.38], [-22.25, -42.66], [-7.28, -36.72], [-22.19, -48.79], [-22.19, -48.79], [-30.17, -53.5], [-22.19, -48.79], [-12.64, -55.42], [-22.19, -48.79], [-22.19, -48.79], [-22.19, -48.79], [-22.25, -42.66], [-18.1, -44.38], [-18.1, -44.38], [-27.45, -50.95], [-24.89, -51.55], [-22.25, -42.66], [-18.1, -44.38], [-18.1, -44.38], [-22.19, -48.79], [-20.51, -54.54], [-27.45, -50.95], [-22.19, -48.79], [-18.1, -44.38], [-22.19, -48.79], [-27.45, -50.95], [-18.1, -44.38], [-22.25, -42.66], [-30.17, -53.5], [-22.19, -48.79], [-15.98, -49.86], [-22.19, -48.79], [-22.19, -48.79], [-22.19, -48.79], [-22.19, -48.79], [-22.25, -42.66], [-22.19, -48.79], [-18.1, -44.38], [-22.19, -48.79], [-30.17, -53.5], [-22.25, -42.66], [-22.19, -48.79], [-18.1, -44.38], [-18.1, -44.38], [-22.19, -48.79], [-22.19, -48.79], [-22.19, -48.79], [-18.1, -44.38], [-22.19, -48.79], [-22.19, -48.79], [-30.17, -53.5], [-22.25, -42.66], [-27.45, -50.95], [-18.1, -44.38], [-27.45, -50.95], [-30.17, -53.5], [-22.19, -48.79], [-12.64, -55.42], [-12.64, -55.42], [-22.19, -48.79], [-22.25, -42.66], [-22.19, -48.79], [-22.19, -48.79], [-19.19, -40.34], [-22.19, -48.79], [-18.1, -44.38], [-30.17, -53.5], [-22.19, -48.79], [-18.1, -44.38], [-5.42, -45.44], [-30.17, -53.5], [-27.45, -50.95], [-18.1, -44.38], [-22.19, -48.79], [-22.19, -48.79], [-18.1, -44.38], [-22.19, -48.79], [-24.89, -51.55], [-22.19, -48.79], [-30.17, -53.5], [-18.1, -44.38], [-30.17, -53.5], [-18.1, -44.38], [-24.89, -51.55], [-22.19, -48.79], [-3.79, -52.48], [-22.19, -48.79], [-22.19, -48.79], [-22.19, -48.79], [-22.19, -48.79], [-22.19, -48.79], [-22.25, -42.66], [-22.25, -42.66], [-13.29, -41.71], [-22.19, -48.79], [-5.2, -39.53], [-22.25, -42.66], [-18.1, -44.38], [-22.19, -48.79], [-27.45, -50.95], [-15.98, -49.86], [-5.42, -45.44], [-22.19, -48.79], [-22.25, -42.66], [-30.17, -53.5], [-22.19, -48.79], [-22.25, -42.66], [-22.19, -48.79], [-18.1, -44.38], [-22.19, -48.79], [-27.45, -50.95], [-30.17, -53.5], [-22.19, -48.79], [-13.29, -41.71], [-22.19, -48.79], [-22.19, -48.79], [-7.28, -36.72], [-13.29, -41.71], [-22.25, -42.66], [-22.19, -48.79], [-22.25, -42.66], [-13.29, -41.71], [-22.19, -48.79], [-18.1, -44.38], [-24.89, -51.55], [-5.2, -39.53], [-22.19, -48.79], [-22.25, -42.66], [-15.98, -49.86], [-22.19, -48.79], [-22.19, -48.79], [-22.19, -48.79], [-22.25, -42.66], [-13.29, -41.71], [-22.19, -48.79], [-22.19, -48.79], [-22.25, -42.66], [-18.1, -44.38], [-5.2, -39.53], [-30.17, -53.5], [-22.19, -48.79], [-13.29, -41.71], [-22.19, -48.79], [-18.1, -44.38], [-22.19, -48.79], [-22.19, -48.79], [-18.1, -44.38], [-22.25, -42.66], [-6.6, -42.28], [-15.98, -49.86], [-18.1, -44.38], [-30.17, -53.5], [-5.2, -39.53], [-22.19, -48.79], [-22.19, -48.79], [-22.19, -48.79], [-22.19, -48.79], [-8.38, -37.86], [-15.83, -47.86], [-19.19, -40.34], [-22.25, -42.66], [-22.19, -48.79], [-22.25, -42.66], [-3.79, -52.48], [-13.29, -41.71], [-15.83, -47.86], [-22.19, -48.79], [-22.19, -48.79], [-22.19, -48.79], [-18.1, -44.38], [-18.1, -44.38], [-22.19, -48.79], [-19.19, -40.34], [-22.19, -48.79], [-22.19, -48.79], [-22.19, -48.79], [-22.19, -48.79], [-22.25, -42.66], [-22.19, -48.79], [-22.19, -48.79], [-15.98, -49.86], [-22.19, -48.79], [-22.19, -48.79], [-22.19, -48.79], [-18.1, -44.38], [-13.29, -41.71], [-22.19, -48.79], [-22.19, -48.79], [-27.45, -50.95], [-22.19, -48.79], [-15.98, -49.86], [-13.29, -41.71], [-22.19, -48.79], [-22.19, -48.79], [-18.1, -44.38], [-22.19, -48.79], [-22.19, -48.79], [-22.19, -48.79], [-22.19, -48.79], [-22.25, -42.66], [-15.83, -47.86], [-30.17, -53.5], [-22.19, -48.79], [-27.45, -50.95], [-22.19, -48.79], [-22.19, -48.79], [-15.98, -49.86], [-19.19, -40.34], [-30.17, -53.5], [-18.1, -44.38], [-22.19, -48.79], [-18.1, -44.38], [-22.19, -48.79], [-22.19, -48.79], [-15.83, -47.86], [-22.19, -48.79], [-30.17, -53.5], [-22.19, -48.79], [-22.19, -48.79], [-22.19, -48.79], [-22.19, -48.79], [-18.1, -44.38], [-24.89, -51.55], [-22.25, -42.66], [-30.17, -53.5], [-22.19, -48.79], [-22.19, -48.79], [-15.98, -49.86], [-18.1, -44.38], [-5.81, -36.59], [-22.19, -48.79], [-19.19, -40.34], [-22.19, -48.79], [-15.98, -49.86], [-30.17, -53.5], [-22.19, -48.79], [-22.19, -48.79], [-3.79, -52.48], [-22.19, -48.79], [-30.17, -53.5], [-27.45, -50.95], [-22.19, -48.79], [-9.46, -48.26], [-22.19, -48.79], [-22.19, -48.79], [-22.19, -48.79], [-22.25, -42.66], [-18.1, -44.38], [-22.25, -42.66], [-22.19, -48.79], [-15.98, -49.86], [-22.19, -48.79], [-22.25, -42.66], [-22.19, -48.79], [-13.29, -41.71], [-24.89, -51.55], [-22.19, -48.79], [-5.2, -39.53], [-18.1, -44.38], [-15.98, -49.86], [-18.1, -44.38], [-22.19, -48.79], [-22.25, -42.66], [-22.19, -48.79], [-22.19, -48.79], [-22.19, -48.79], [-22.19, -48.79], [-22.19, -48.79], [-8.38, -37.86], [-22.19, -48.79], [-22.19, -48.79], [-22.19, -48.79], [-18.1, -44.38], [-22.25, -42.66], [-18.1, -44.38], [-18.1, -44.38], [-22.25, -42.66], [-22.25, -42.66], [-30.17, -53.5], [-22.19, -48.79], [-22.19, -48.79], [-5.2, -39.53], [-22.19, -48.79], [-22.19, -48.79], [-22.19, -48.79], [-22.19, -48.79], [-22.19, -48.79], [-22.19, -48.79], [-22.19, -48.79], [-5.2, -39.53], [-18.1, -44.38], [-22.19, -48.79], [-22.19, -48.79], [-30.17, -53.5], [-22.19, -48.79], [-27.45, -50.95], [-22.19, -48.79], [-22.19, -48.79], [-15.83, -47.86], [-22.19, -48.79], [-24.89, -51.55], [-12.64, -55.42], [-22.19, -48.79], [-22.19, -48.79], [-22.19, -48.79], [-13.29, -41.71], [-22.25, -42.66], [-22.19, -48.79], [-8.38, -37.86], [-6.6, -42.28], [-22.25, -42.66], [-24.89, -51.55], [-22.19, -48.79], [-12.64, -55.42], [-19.19, -40.34], [-10.57, -37.45], [-15.83, -47.86], [-22.19, -48.79], [-30.17, -53.5], [-18.1, -44.38], [-22.19, -48.79], [-27.45, -50.95], [-15.98, -49.86], [-13.29, -41.71], [-30.17, -53.5], [-22.19, -48.79], [-22.19, -48.79], [-22.19, -48.79], [-27.45, -50.95], [-22.19, -48.79], [-22.19, -48.79], [-22.19, -48.79], [-22.25, -42.66], [-5.81, -36.59], [-22.19, -48.79], [-22.25, -42.66], [-22.25, -42.66], [-8.38, -37.86], [-13.29, -41.71], [-22.19, -48.79], [-18.1, -44.38], [-22.19, -48.79], [-6.6, -42.28], [-22.25, -42.66], [-9.62, -36.82], [-24.89, -51.55], [-22.19, -48.79], [-22.19, -48.79], [-24.89, -51.55], [-22.19, -48.79], [-30.17, -53.5], [-12.64, -55.42], [-22.19, -48.79], [-22.19, -48.79], [-22.19, -48.79], [-22.19, -48.79], [-27.45, -50.95], [-22.19, -48.79], [-22.25, -42.66], [-22.19, -48.79], [-30.17, -53.5], [-18.1, -44.38], [-22.19, -48.79], [-27.45, -50.95], [-22.19, -48.79], [-8.38, -37.86], [-27.45, -50.95], [-22.19, -48.79], [-22.19, -48.79], [-22.19, -48.79], [-22.25, -42.66], [-22.19, -48.79], [-22.19, -48.79], [-22.19, -48.79], [-22.19, -48.79], [-22.25, -42.66], [-8.38, -37.86], [-18.1, -44.38], [-10.83, -63.34], [-8.38, -37.86], [-15.98, -49.86], [-22.19, -48.79], [-22.19, -48.79], [-18.1, -44.38], [-22.19, -48.79], [-15.98, -49.86], [-22.19, -48.79], [-22.25, -42.66], [-24.89, -51.55], [-22.25, -42.66], [-15.83, -47.86], [-22.19, -48.79], [-22.19, -48.79], [-22.25, -42.66], [-22.19, -48.79], [-22.19, -48.79], [-22.19, -48.79], [-22.19, -48.79], [-22.25, -42.66], [-15.83, -47.86], [-22.19, -48.79], [-15.83, -47.86], [-22.19, -48.79], [-18.1, -44.38], [-20.51, -54.54], [-22.19, -48.79], [-18.1, -44.38], [-19.19, -40.34], [-22.19, -48.79], [-22.19, -48.79], [-22.25, -42.66], [-22.25, -42.66], [-22.19, -48.79], [-30.17, -53.5], [-30.17, -53.5], [-12.64, -55.42], [-22.25, -42.66], [-22.19, -48.79], [-22.19, -48.79], [-18.1, -44.38], [-30.17, -53.5], [-22.19, -48.79], [-19.19, -40.34], [-22.19, -48.79], [-18.1, -44.38], [-22.19, -48.79], [-22.19, -48.79], [-22.19, -48.79], [-22.19, -48.79], [-22.19, -48.79], [-22.19, -48.79], [-18.1, -44.38], [-15.98, -49.86], [-19.19, -40.34], [-22.25, -42.66], [-22.19, -48.79], [-3.79, -52.48], [-22.19, -48.79], [-22.19, -48.79], [-18.1, -44.38], [-15.83, -47.86], [-19.19, -40.34], [-12.64, -55.42], [-22.19, -48.79], [-18.1, -44.38], [-22.19, -48.79], [-22.19, -48.79], [-9.62, -36.82], [-24.89, -51.55], [-22.25, -42.66], [-22.19, -48.79], [-22.19, -48.79], [-22.19, -48.79], [-3.79, -52.48], [-22.19, -48.79], [-22.19, -48.79], [-5.2, -39.53], [-22.19, -48.79], [-19.19, -40.34], [-22.19, -48.79], [-18.1, -44.38], [-22.19, -48.79], [-18.1, -44.38], [-22.19, -48.79], [-5.2, -39.53], [-22.19, -48.79], [-18.1, -44.38], [-30.17, -53.5], [-27.45, -50.95], [-22.19, -48.79], [-22.25, -42.66], [-5.2, -39.53], [-18.1, -44.38], [-22.19, -48.79], [-18.1, -44.38], [-13.29, -41.71], [-24.89, -51.55], [-22.19, -48.79], [-24.89, -51.55], [-5.2, -39.53], [-22.19, -48.79], [-13.29, -41.71], [-13.29, -41.71], [-18.1, -44.38], [-18.1, -44.38], [-22.19, -48.79], [-18.1, -44.38], [-22.19, -48.79], [-24.89, -51.55], [-22.25, -42.66], [-22.19, -48.79], [-22.25, -42.66], [-22.19, -48.79], [-22.19, -48.79], [-22.19, -48.79], [-5.81, -36.59], [-22.25, -42.66], [-22.19, -48.79], [-18.1, -44.38], [-27.45, -50.95], [-22.25, -42.66], [-22.19, -48.79], [-5.2, -39.53], [-3.79, -52.48], [-22.25, -42.66], [-27.45, -50.95], [-22.19, -48.79], [-27.45, -50.95], [-22.25, -42.66], [-22.19, -48.79], [-22.19, -48.79], [-22.19, -48.79], [-12.64, -55.42], [-18.1, -44.38], [-24.89, -51.55], [-18.1, -44.38], [-24.89, -51.55], [-22.19, -48.79], [-19.19, -40.34], [-22.19, -48.79], [-22.25, -42.66], [-27.45, -50.95], [-22.19, -48.79], [-24.89, -51.55], [-22.25, -42.66], [-22.19, -48.79], [-24.89, -51.55], [-22.19, -48.79], [-22.19, -48.79], [-22.19, -48.79], [-18.1, -44.38], [-22.19, -48.79], [-22.19, -48.79], [-19.19, -40.34], [-22.19, -48.79], [-22.19, -48.79], [-22.19, -48.79], [-22.19, -48.79], [-13.29, -41.71], [-30.17, -53.5], [-22.25, -42.66], [-22.19, -48.79], [-22.19, -48.79], [-22.19, -48.79], [-30.17, -53.5], [-5.2, -39.53], [-30.17, -53.5], [-5.2, -39.53], [-24.89, -51.55], [-30.17, -53.5], [-22.19, -48.79], [-18.1, -44.38], [-22.19, -48.79], [-15.83, -47.86], [-18.1, -44.38], [-22.19, -48.79], [-22.19, -48.79], [-24.89, -51.55], [-22.19, -48.79], [-27.45, -50.95], [-30.17, -53.5], [-22.19, -48.79], [-22.19, -48.79], [-13.29, -41.71], [-18.1, -44.38], [-13.29, -41.71], [-22.19, -48.79], [-13.29, -41.71], [-24.89, -51.55], [-24.89, -51.55], [-22.19, -48.79], [-18.1, -44.38], [-22.19, -48.79], [-22.19, -48.79], [-30.17, -53.5], [-22.25, -42.66], [-12.64, -55.42], [-10.83, -63.34], [-30.17, -53.5], [-22.19, -48.79], [-15.83, -47.86], [-30.17, -53.5], [-22.19, -48.79], [-22.19, -48.79], [-18.1, -44.38], [-22.25, -42.66], [-18.1, -44.38], [-22.19, -48.79], [-22.19, -48.79], [-18.1, -44.38], [-22.25, -42.66], [-22.19, -48.79], [-22.25, -42.66], [-18.1, -44.38], [-18.1, -44.38], [-13.29, -41.71], [-24.89, -51.55], [-22.25, -42.66], [-22.19, -48.79], [-13.29, -41.71], [-24.89, -51.55], [-22.19, -48.79], [-22.19, -48.79], [-22.19, -48.79], [-22.19, -48.79], [-3.47, -65.1], [-27.45, -50.95], [-13.29, -41.71], [-18.1, -44.38], [-5.81, -36.59], [-10.83, -63.34], [-30.17, -53.5], [-22.19, -48.79], [-15.98, -49.86], [-27.45, -50.95], [-30.17, -53.5], [-22.25, -42.66], [-22.19, -48.79], [-15.98, -49.86], [-18.1, -44.38], [-19.19, -40.34], [-18.1, -44.38], [-22.19, -48.79], [-15.98, -49.86], [-22.19, -48.79], [-18.1, -44.38], [-22.19, -48.79], [-18.1, -44.38], [-24.89, -51.55], [-27.45, -50.95], [-6.6, -42.28], [-22.25, -42.66], [-30.17, -53.5], [-13.29, -41.71], [-24.89, -51.55], [-18.1, -44.38], [-22.19, -48.79], [-22.19, -48.79], [-22.19, -48.79], [-5.81, -36.59], [-24.89, -51.55], [-22.25, -42.66], [-22.19, -48.79], [-30.17, -53.5], [-18.1, -44.38], [-18.1, -44.38], [-22.19, -48.79], [-18.1, -44.38], [-18.1, -44.38], [-27.45, -50.95], [-22.19, -48.79], [-22.25, -42.66], [-22.25, -42.66], [-22.19, -48.79], [-22.19, -48.79], [-22.25, -42.66], [-19.19, -40.34], [-22.19, -48.79], [-19.19, -40.34], [-22.25, -42.66], [-22.19, -48.79], [-22.19, -48.79], [-22.19, -48.79], [-27.45, -50.95], [-22.25, -42.66], [-22.19, -48.79], [-22.25, -42.66], [-22.19, -48.79], [-22.25, -42.66], [-22.19, -48.79], [-22.19, -48.79], [-22.19, -48.79], [-18.1, -44.38], [-27.45, -50.95], [-22.25, -42.66], [-22.19, -48.79], [-22.19, -48.79], [-18.1, -44.38], [-22.25, -42.66], [-22.19, -48.79], [-22.19, -48.79], [-12.64, -55.42], [-30.17, -53.5], [-30.17, -53.5], [-13.29, -41.71], [-18.1, -44.38], [-22.19, -48.79], [-22.19, -48.79], [-19.19, -40.34], [-15.83, -47.86], [-30.17, -53.5], [-22.19, -48.79], [-22.19, -48.79], [-8.38, -37.86], [-22.19, -48.79], [-22.19, -48.79], [-22.19, -48.79], [-18.1, -44.38], [-22.25, -42.66], [-22.19, -48.79], [-22.19, -48.79], [-22.19, -48.79], [-22.19, -48.79], [-18.1, -44.38], [-24.89, -51.55], [-24.89, -51.55], [-22.19, -48.79], [-18.1, -44.38], [-5.42, -45.44], [-18.1, -44.38], [-22.19, -48.79], [-30.17, -53.5], [-22.25, -42.66], [-19.19, -40.34], [-5.42, -45.44], [-22.25, -42.66], [-22.19, -48.79], [-22.19, -48.79], [-30.17, -53.5], [-22.25, -42.66], [-22.25, -42.66], [-19.19, -40.34], [-15.83, -47.86], [-24.89, -51.55], [-22.25, -42.66], [-22.19, -48.79], [-22.19, -48.79], [-22.19, -48.79], [-22.25, -42.66], [-8.38, -37.86], [-8.38, -37.86], [-5.81, -36.59], [-15.98, -49.86], [-18.1, -44.38], [-22.19, -48.79], [-24.89, -51.55], [-18.1, -44.38], [-5.81, -36.59], [-18.1, -44.38], [-22.19, -48.79], [-18.1, -44.38], [-20.51, -54.54], [-22.19, -48.79], [-22.19, -48.79], [-22.19, -48.79], [-30.17, -53.5], [-22.19, -48.79], [-18.1, -44.38], [-24.89, -51.55], [-22.19, -48.79], [-22.19, -48.79], [-22.19, -48.79], [-22.25, -42.66], [-22.19, -48.79], [-30.17, -53.5], [-22.19, -48.79], [-22.19, -48.79], [-20.51, -54.54], [-22.25, -42.66], [-22.19, -48.79], [-13.29, -41.71], [-18.1, -44.38], [-22.19, -48.79], [-5.81, -36.59], [-5.2, -39.53], [-9.62, -36.82], [-30.17, -53.5], [-3.79, -52.48], [-22.19, -48.79], [-22.25, -42.66], [-22.19, -48.79], [-22.25, -42.66], [-22.25, -42.66], [-22.19, -48.79], [-22.19, -48.79], [-22.19, -48.79], [-22.19, -48.79], [-18.1, -44.38], [-20.51, -54.54], [-22.19, -48.79], [-7.28, -36.72], [-18.1, -44.38], [-22.19, -48.79], [-30.17, -53.5], [-22.19, -48.79], [-22.19, -48.79], [-22.19, -48.79], [-5.42, -45.44], [-8.38, -37.86], [-22.19, -48.79], [-18.1, -44.38], [-24.89, -51.55], [-12.64, -55.42], [-3.79, -52.48], [-30.17, -53.5], [-30.17, -53.5], [-5.2, -39.53], [-27.45, -50.95], [-13.29, -41.71], [-22.19, -48.79], [-13.29, -41.71], [-30.17, -53.5], [-22.25, -42.66], [-22.19, -48.79], [-22.19, -48.79], [-8.38, -37.86], [-22.19, -48.79], [-22.19, -48.79], [-22.19, -48.79], [-13.29, -41.71], [-18.1, -44.38], [-30.17, -53.5], [-22.19, -48.79], [-12.64, -55.42], [-22.25, -42.66], [-22.19, -48.79], [-18.1, -44.38], [-18.1, -44.38], [-5.42, -45.44], [-22.19, -48.79], [-24.89, -51.55], [-22.19, -48.79], [-19.19, -40.34], [-18.1, -44.38], [-22.19, -48.79], [-19.19, -40.34], [-22.19, -48.79], [-27.45, -50.95], [-18.1, -44.38], [-22.19, -48.79], [-12.64, -55.42], [-18.1, -44.38], [-30.17, -53.5], [-18.1, -44.38], [-24.89, -51.55], [-27.45, -50.95], [-18.1, -44.38], [-22.19, -48.79], [-18.1, -44.38], [-18.1, -44.38], [-27.45, -50.95], [-22.25, -42.66], [-12.64, -55.42], [-18.1, -44.38], [-22.25, -42.66], [-22.19, -48.79], [-18.1, -44.38], [-24.89, -51.55], [-22.25, -42.66], [-13.29, -41.71], [-22.19, -48.79], [-5.42, -45.44], [-15.83, -47.86], [-15.83, -47.86], [-22.19, -48.79], [-22.19, -48.79], [-22.19, -48.79], [-22.19, -48.79], [-24.89, -51.55], [-22.19, -48.79], [-22.19, -48.79], [-18.1, -44.38], [-15.83, -47.86], [-22.19, -48.79], [-22.19, -48.79], [-22.19, -48.79], [-18.1, -44.38], [-5.42, -45.44], [-30.17, -53.5], [-13.29, -41.71], [-22.25, -42.66], [-22.19, -48.79], [-22.19, -48.79], [-22.25, -42.66], [-30.17, -53.5], [-22.19, -48.79], [-18.1, -44.38], [-19.19, -40.34], [-24.89, -51.55], [-22.19, -48.79], [-22.19, -48.79], [-15.98, -49.86], [-6.6, -42.28], [-22.19, -48.79], [-5.2, -39.53], [-8.38, -37.86], [-24.89, -51.55], [-22.19, -48.79], [-22.19, -48.79], [-22.19, -48.79], [-18.1, -44.38], [-5.2, -39.53], [-24.89, -51.55], [-22.19, -48.79], [-13.29, -41.71], [-22.19, -48.79], [-22.19, -48.79], [-22.19, -48.79], [-8.38, -37.86], [-22.25, -42.66], [-22.19, -48.79], [-22.25, -42.66], [-18.1, -44.38], [-24.89, -51.55], [-18.1, -44.38], [-22.19, -48.79], [-24.89, -51.55], [-22.19, -48.79], [-22.25, -42.66], [-18.1, -44.38], [-22.25, -42.66], [-22.19, -48.79], [-22.25, -42.66], [-22.19, -48.79], [-22.25, -42.66], [-24.89, -51.55], [-19.19, -40.34], [-22.19, -48.79], [-22.19, -48.79], [-22.19, -48.79], [-18.1, -44.38], [-24.89, -51.55], [-22.19, -48.79], [-22.19, -48.79], [-22.25, -42.66], [-22.25, -42.66], [-22.25, -42.66], [-8.38, -37.86], [-22.19, -48.79], [-22.19, -48.79], [-22.19, -48.79], [-22.25, -42.66], [-22.25, -42.66], [-18.1, -44.38], [-22.19, -48.79], [-22.19, -48.79], [-22.19, -48.79], [-30.17, -53.5], [-13.29, -41.71], [-22.19, -48.79], [-27.45, -50.95], [-22.19, -48.79], [-18.1, -44.38], [-22.19, -48.79], [-12.64, -55.42], [-5.2, -39.53], [-22.19, -48.79], [-22.19, -48.79], [-18.1, -44.38], [-22.19, -48.79], [-9.46, -48.26], [-22.19, -48.79], [-9.46, -48.26], [-22.19, -48.79], [-3.79, -52.48], [-22.25, -42.66], [-22.25, -42.66], [-22.19, -48.79], [-22.19, -48.79], [-22.19, -48.79], [-22.19, -48.79], [-22.19, -48.79], [-22.19, -48.79], [-22.19, -48.79], [-22.19, -48.79], [-22.19, -48.79], [-22.19, -48.79], [-22.25, -42.66], [-22.19, -48.79], [-22.19, -48.79], [-30.17, -53.5], [-22.19, -48.79], [-22.19, -48.79], [-22.25, -42.66], [-30.17, -53.5], [-22.19, -48.79], [-22.19, -48.79], [-22.25, -42.66], [-24.89, -51.55], [-30.17, -53.5], [-22.19, -48.79], [-22.19, -48.79], [-22.19, -48.79], [-22.19, -48.79], [-30.17, -53.5], [-22.19, -48.79], [-27.45, -50.95], [-22.19, -48.79], [-18.1, -44.38], [-18.1, -44.38], [-22.19, -48.79], [-8.38, -37.86], [-22.19, -48.79], [-27.45, -50.95], [-18.1, -44.38], [-22.19, -48.79], [-24.89, -51.55], [-22.19, -48.79], [-27.45, -50.95], [-8.38, -37.86], [-27.45, -50.95], [-19.19, -40.34], [-27.45, -50.95], [-22.19, -48.79], [-18.1, -44.38], [-22.25, -42.66], [-27.45, -50.95], [-22.19, -48.79], [-24.89, -51.55], [-22.19, -48.79], [-8.38, -37.86], [-18.1, -44.38], [-18.1, -44.38], [-18.1, -44.38], [-27.45, -50.95], [-8.38, -37.86], [-22.25, -42.66], [-8.38, -37.86], [-22.19, -48.79], [-22.19, -48.79], [-22.25, -42.66], [-22.19, -48.79], [-27.45, -50.95], [-22.19, -48.79], [-22.19, -48.79], [-22.25, -42.66], [-22.19, -48.79], [-22.19, -48.79], [-15.83, -47.86], [-22.19, -48.79], [-30.17, -53.5], [-22.19, -48.79], [-22.19, -48.79], [-15.98, -49.86], [-15.83, -47.86], [-30.17, -53.5], [-22.19, -48.79], [-22.19, -48.79], [-13.29, -41.71], [-22.19, -48.79], [-15.83, -47.86], [-30.17, -53.5], [-27.45, -50.95], [-30.17, -53.5], [-15.83, -47.86], [-13.29, -41.71], [-13.29, -41.71], [-22.25, -42.66], [-22.25, -42.66], [-5.2, -39.53], [-22.19, -48.79], [-18.1, -44.38], [-8.38, -37.86], [-5.2, -39.53], [-22.19, -48.79], [-22.25, -42.66], [-22.19, -48.79], [-22.19, -48.79], [-22.19, -48.79], [-15.98, -49.86], [-22.25, -42.66], [-22.19, -48.79], [-22.19, -48.79], [-27.45, -50.95], [-22.19, -48.79], [-22.19, -48.79], [-5.2, -39.53], [-22.19, -48.79], [-22.19, -48.79], [-15.83, -47.86], [-30.17, -53.5], [-22.19, -48.79], [-5.2, -39.53], [-22.19, -48.79], [-22.19, -48.79], [-13.29, -41.71], [-22.19, -48.79], [-22.19, -48.79], [-22.19, -48.79], [-18.1, -44.38], [-22.19, -48.79], [-22.19, -48.79], [-15.98, -49.86], [-22.19, -48.79], [-22.19, -48.79], [-10.57, -37.45], [-22.19, -48.79], [-22.19, -48.79], [-18.1, -44.38], [-22.25, -42.66], [-18.1, -44.38], [-22.19, -48.79], [-22.19, -48.79], [-19.19, -40.34], [-22.19, -48.79], [-24.89, -51.55], [-22.25, -42.66], [-22.19, -48.79], [-30.17, -53.5], [-22.19, -48.79], [-18.1, -44.38], [-22.19, -48.79], [-22.25, -42.66], [-22.19, -48.79], [-5.42, -45.44], [-22.19, -48.79], [-22.19, -48.79], [-24.89, -51.55], [-22.19, -48.79], [-22.19, -48.79], [-24.89, -51.55], [-30.17, -53.5], [-22.25, -42.66], [-22.19, -48.79], [-18.1, -44.38], [-18.1, -44.38], [-18.1, -44.38], [-5.2, -39.53], [-22.19, -48.79], [-22.25, -42.66], [-19.19, -40.34], [-18.1, -44.38], [-22.19, -48.79], [-5.42, -45.44], [-8.38, -37.86], [-22.19, -48.79], [-15.83, -47.86], [-22.19, -48.79], [-22.25, -42.66], [-22.25, -42.66], [-22.19, -48.79], [-22.19, -48.79], [-22.19, -48.79], [-22.25, -42.66], [-5.2, -39.53], [-24.89, -51.55], [-30.17, -53.5], [-18.1, -44.38], [-18.1, -44.38], [-9.62, -36.82], [-22.19, -48.79], [-22.25, -42.66], [-27.45, -50.95], [-22.19, -48.79], [-22.25, -42.66], [-24.89, -51.55], [-18.1, -44.38], [-18.1, -44.38], [-18.1, -44.38], [-22.19, -48.79], [-22.19, -48.79], [-18.1, -44.38], [-20.51, -54.54], [-22.25, -42.66], [-22.25, -42.66], [-18.1, -44.38], [-24.89, -51.55], [-8.38, -37.86], [-13.29, -41.71], [-22.19, -48.79], [-22.25, -42.66], [-13.29, -41.71], [-22.19, -48.79], [-22.25, -42.66], [-22.19, -48.79], [-13.29, -41.71], [-3.79, -52.48], [-22.19, -48.79], [-22.19, -48.79], [-22.19, -48.79], [-8.38, -37.86], [-22.25, -42.66], [-22.19, -48.79], [-22.19, -48.79], [-22.19, -48.79], [-18.1, -44.38], [-24.89, -51.55], [-22.19, -48.79], [-22.25, -42.66], [-22.19, -48.79], [-19.19, -40.34], [-5.2, -39.53], [-22.19, -48.79], [-8.38, -37.86], [-18.1, -44.38], [-22.19, -48.79], [-22.19, -48.79], [-22.19, -48.79], [-18.1, -44.38], [-22.19, -48.79], [-22.19, -48.79], [-22.25, -42.66], [-22.19, -48.79], [-15.83, -47.86], [-22.25, -42.66], [-27.45, -50.95], [-22.25, -42.66], [-27.45, -50.95], [-22.25, -42.66], [-22.19, -48.79], [-22.19, -48.79], [-22.25, -42.66], [-22.19, -48.79], [-22.25, -42.66], [-22.25, -42.66], [-18.1, -44.38], [-22.19, -48.79], [-22.19, -48.79], [-22.19, -48.79], [-18.1, -44.38], [-22.25, -42.66], [-22.19, -48.79], [-15.83, -47.86], [-5.42, -45.44], [-22.19, -48.79], [-15.83, -47.86], [-22.19, -48.79], [-22.25, -42.66], [-22.19, -48.79], [-22.19, -48.79], [-22.19, -48.79], [-24.89, -51.55], [-3.79, -52.48], [-22.19, -48.79], [-15.98, -49.86], [-22.19, -48.79], [-22.25, -42.66], [-5.42, -45.44], [-18.1, -44.38], [-22.19, -48.79], [-22.25, -42.66], [-22.25, -42.66], [-22.19, -48.79], [-5.42, -45.44], [-22.25, -42.66], [-3.79, -52.48], [-22.19, -48.79], [-15.83, -47.86], [-15.83, -47.86], [-5.42, -45.44], [-24.89, -51.55], [-18.1, -44.38], [-22.19, -48.79], [-18.1, -44.38], [-18.1, -44.38], [-22.19, -48.79], [-18.1, -44.38], [-18.1, -44.38], [-22.19, -48.79], [-22.19, -48.79], [-22.19, -48.79], [-22.19, -48.79], [-18.1, -44.38], [-15.98, -49.86], [-22.19, -48.79], [-22.19, -48.79], [-22.19, -48.79], [-22.19, -48.79], [-7.28, -36.72], [-22.19, -48.79], [-22.25, -42.66], [-15.83, -47.86], [-22.19, -48.79], [-30.17, -53.5], [-13.29, -41.71], [-15.98, -49.86], [-22.19, -48.79], [-13.29, -41.71], [-30.17, -53.5], [-9.62, -36.82], [-22.19, -48.79], [-19.19, -40.34], [-22.19, -48.79], [-22.19, -48.79], [-22.19, -48.79], [-19.19, -40.34], [-27.45, -50.95], [-22.19, -48.79], [-18.1, -44.38], [-22.19, -48.79], [-18.1, -44.38], [-24.89, -51.55], [-22.19, -48.79], [-22.19, -48.79], [-22.19, -48.79], [-22.19, -48.79], [-22.19, -48.79], [-18.1, -44.38], [-22.19, -48.79], [-18.1, -44.38], [-8.38, -37.86], [-15.98, -49.86], [-18.1, -44.38], [-22.19, -48.79], [-22.25, -42.66], [-19.19, -40.34], [-22.19, -48.79], [-5.2, -39.53], [-30.17, -53.5], [-22.25, -42.66], [-27.45, -50.95], [-18.1, -44.38], [-15.98, -49.86], [-22.19, -48.79], [-22.19, -48.79], [-13.29, -41.71], [-8.38, -37.86], [-22.25, -42.66], [-22.19, -48.79], [-22.25, -42.66], [-22.19, -48.79], [-22.19, -48.79], [-22.25, -42.66], [-20.51, -54.54], [-22.19, -48.79], [-22.19, -48.79], [-24.89, -51.55], [-22.19, -48.79], [-22.19, -48.79], [-19.19, -40.34], [-5.2, -39.53], [-5.2, -39.53], [-22.19, -48.79], [-22.19, -48.79], [-15.98, -49.86], [-27.45, -50.95], [-22.19, -48.79], [-22.25, -42.66], [-3.79, -52.48], [-22.25, -42.66], [-30.17, -53.5], [-22.19, -48.79], [-10.57, -37.45], [-22.19, -48.79], [-22.19, -48.79], [-5.2, -39.53], [-24.89, -51.55], [-30.17, -53.5], [-22.19, -48.79], [-27.45, -50.95], [-22.19, -48.79], [-18.1, -44.38], [-22.25, -42.66], [-22.19, -48.79], [-24.89, -51.55], [-22.25, -42.66], [-22.25, -42.66], [-22.19, -48.79], [-22.19, -48.79], [-27.45, -50.95], [-22.25, -42.66], [-22.25, -42.66], [-22.19, -48.79], [-15.83, -47.86], [-22.19, -48.79], [-22.19, -48.79], [-22.19, -48.79], [-18.1, -44.38], [-13.29, -41.71], [-22.19, -48.79], [-22.19, -48.79], [-19.19, -40.34], [-19.19, -40.34], [-18.1, -44.38], [-22.19, -48.79], [-22.25, -42.66], [-22.19, -48.79], [-27.45, -50.95], [-18.1, -44.38], [-18.1, -44.38], [-22.19, -48.79], [-24.89, -51.55], [-22.19, -48.79], [-15.98, -49.86], [-22.25, -42.66], [-24.89, -51.55], [-22.25, -42.66], [-22.19, -48.79], [-8.38, -37.86], [-22.19, -48.79], [-22.19, -48.79], [-15.83, -47.86], [-27.45, -50.95], [-13.29, -41.71], [-22.25, -42.66], [-15.83, -47.86], [-30.17, -53.5], [-12.64, -55.42], [-7.28, -36.72], [-22.19, -48.79], [-19.19, -40.34], [-13.29, -41.71], [-22.19, -48.79], [-22.25, -42.66], [-13.29, -41.71], [-22.19, -48.79], [-22.19, -48.79], [-22.19, -48.79], [-22.19, -48.79], [-22.19, -48.79], [-30.17, -53.5], [-5.42, -45.44], [-22.19, -48.79], [-24.89, -51.55], [-22.19, -48.79], [-22.25, -42.66], [-22.25, -42.66], [-5.2, -39.53], [-22.19, -48.79], [-13.29, -41.71], [-22.19, -48.79], [-3.79, -52.48], [-22.19, -48.79], [-22.19, -48.79], [-18.1, -44.38], [-22.19, -48.79], [-24.89, -51.55], [-15.83, -47.86], [-15.98, -49.86], [-15.83, -47.86], [-18.1, -44.38], [-22.19, -48.79], [-22.25, -42.66], [-24.89, -51.55], [-22.25, -42.66], [-22.19, -48.79], [-22.25, -42.66], [-22.19, -48.79], [-22.25, -42.66], [-13.29, -41.71], [-22.19, -48.79], [-13.29, -41.71], [-22.19, -48.79], [-18.1, -44.38], [-22.25, -42.66], [-22.19, -48.79], [-22.25, -42.66], [-22.25, -42.66], [-22.25, -42.66], [-30.17, -53.5], [-30.17, -53.5], [-22.19, -48.79], [-22.25, -42.66], [-24.89, -51.55], [-22.19, -48.79], [-24.89, -51.55], [-22.19, -48.79], [-22.19, -48.79], [-22.19, -48.79], [-22.25, -42.66], [-8.38, -37.86], [-13.29, -41.71], [-22.19, -48.79], [-18.1, -44.38], [-30.17, -53.5], [-20.51, -54.54], [-22.25, -42.66], [-22.19, -48.79], [-22.19, -48.79], [-3.79, -52.48], [-22.19, -48.79], [-22.25, -42.66], [-30.17, -53.5], [-18.1, -44.38], [-22.19, -48.79], [-22.19, -48.79], [-22.19, -48.79], [-22.19, -48.79], [-22.19, -48.79], [-8.38, -37.86], [-13.29, -41.71], [-30.17, -53.5], [-22.19, -48.79], [-18.1, -44.38], [-22.19, -48.79], [-22.19, -48.79], [-22.19, -48.79], [-27.45, -50.95], [-3.79, -52.48], [-5.2, -39.53], [-22.19, -48.79], [-22.19, -48.79], [-22.19, -48.79], [-22.25, -42.66], [-3.47, -65.1], [-22.19, -48.79], [-22.19, -48.79], [-22.25, -42.66], [-18.1, -44.38], [-22.19, -48.79], [-30.17, -53.5], [-24.89, -51.55], [-22.19, -48.79], [-22.19, -48.79], [-22.19, -48.79], [-24.89, -51.55], [-22.19, -48.79], [-30.17, -53.5], [-22.25, -42.66], [-30.17, -53.5], [-22.19, -48.79], [-18.1, -44.38], [-18.1, -44.38], [-22.19, -48.79], [-22.25, -42.66], [-22.25, -42.66], [-22.19, -48.79], [-22.19, -48.79], [-22.25, -42.66], [-22.19, -48.79], [-30.17, -53.5], [-22.19, -48.79], [-12.64, -55.42], [-24.89, -51.55], [-24.89, -51.55], [-15.98, -49.86], [-22.25, -42.66], [-22.19, -48.79], [-10.83, -63.34], [-27.45, -50.95], [-22.19, -48.79], [-27.45, -50.95], [-22.19, -48.79], [-22.25, -42.66], [-15.98, -49.86], [-22.19, -48.79], [-18.1, -44.38], [-18.1, -44.38], [-8.38, -37.86], [-30.17, -53.5], [-22.25, -42.66], [-12.64, -55.42], [-22.19, -48.79], [-24.89, -51.55], [-22.19, -48.79], [-22.19, -48.79], [-18.1, -44.38], [-22.19, -48.79], [-22.19, -48.79], [-22.19, -48.79], [-22.25, -42.66], [-5.42, -45.44], [-19.19, -40.34], [-22.19, -48.79], [-27.45, -50.95], [-24.89, -51.55], [-22.19, -48.79], [-15.98, -49.86], [-22.25, -42.66], [-22.19, -48.79], [-22.19, -48.79], [-18.1, -44.38], [-30.17, -53.5], [-22.19, -48.79], [-22.19, -48.79], [-5.42, -45.44], [-18.1, -44.38], [-22.19, -48.79], [-22.19, -48.79], [-24.89, -51.55], [-22.19, -48.79], [-15.83, -47.86], [-18.1, -44.38], [-22.19, -48.79], [-19.19, -40.34], [-10.57, -37.45], [-22.19, -48.79], [-22.19, -48.79], [-24.89, -51.55], [-22.19, -48.79], [-22.19, -48.79], [-22.19, -48.79], [-22.19, -48.79], [-22.19, -48.79], [-15.83, -47.86], [-22.19, -48.79], [-22.19, -48.79], [-8.38, -37.86], [-18.1, -44.38], [-22.19, -48.79], [-15.98, -49.86], [-22.25, -42.66], [-15.98, -49.86], [-18.1, -44.38], [-18.1, -44.38], [-19.19, -40.34], [-8.38, -37.86], [-22.19, -48.79], [-27.45, -50.95], [-8.38, -37.86], [-22.19, -48.79], [-13.29, -41.71], [-22.19, -48.79], [-27.45, -50.95], [-22.25, -42.66], [-22.19, -48.79], [-3.79, -52.48], [-24.89, -51.55], [-22.19, -48.79], [-22.19, -48.79], [-22.25, -42.66], [-22.19, -48.79], [-8.38, -37.86], [-22.25, -42.66], [-22.19, -48.79], [-18.1, -44.38], [-22.19, -48.79], [-13.29, -41.71], [-19.19, -40.34], [-22.19, -48.79], [-30.17, -53.5], [-22.19, -48.79], [-13.29, -41.71], [-20.51, -54.54], [-22.19, -48.79], [-19.19, -40.34], [-27.45, -50.95], [-22.19, -48.79], [-24.89, -51.55], [-18.1, -44.38], [-22.19, -48.79], [-22.19, -48.79], [-22.19, -48.79], [-30.17, -53.5], [-19.19, -40.34], [-22.25, -42.66], [-22.19, -48.79], [-22.19, -48.79], [-18.1, -44.38], [-22.19, -48.79], [-15.98, -49.86], [-24.89, -51.55], [-13.29, -41.71], [-7.28, -36.72], [-18.1, -44.38], [-22.19, -48.79], [-22.19, -48.79], [-22.25, -42.66], [-22.19, -48.79], [-18.1, -44.38], [-24.89, -51.55], [-22.19, -48.79], [-22.25, -42.66], [-12.64, -55.42], [-22.25, -42.66], [-18.1, -44.38], [-22.25, -42.66], [-18.1, -44.38], [-27.45, -50.95], [-22.25, -42.66], [-22.19, -48.79], [-30.17, -53.5], [-18.1, -44.38], [-22.19, -48.79], [-22.19, -48.79], [-22.25, -42.66], [-24.89, -51.55], [-20.51, -54.54], [-22.19, -48.79], [-12.64, -55.42], [-22.25, -42.66], [-13.29, -41.71], [-22.19, -48.79], [-22.25, -42.66], [-30.17, -53.5], [-22.19, -48.79], [-22.25, -42.66], [-22.19, -48.79], [-22.25, -42.66], [-24.89, -51.55], [-22.19, -48.79], [-22.25, -42.66], [-22.19, -48.79], [-27.45, -50.95], [-22.19, -48.79], [-22.19, -48.79], [-22.19, -48.79], [-22.19, -48.79], [-20.51, -54.54], [-22.25, -42.66], [-18.1, -44.38], [-22.19, -48.79], [-22.19, -48.79], [-22.19, -48.79], [-22.25, -42.66], [-22.19, -48.79], [-22.19, -48.79], [-22.19, -48.79], [-22.19, -48.79], [-22.19, -48.79], [-22.19, -48.79], [-22.25, -42.66], [-22.19, -48.79], [-30.17, -53.5], [-22.25, -42.66], [-22.19, -48.79], [-27.45, -50.95], [-15.83, -47.86], [-22.25, -42.66], [-22.19, -48.79], [-22.25, -42.66], [-22.19, -48.79], [-27.45, -50.95], [-22.25, -42.66], [-22.25, -42.66], [-22.19, -48.79], [-22.19, -48.79], [-27.45, -50.95], [-18.1, -44.38], [-22.19, -48.79], [-22.19, -48.79], [-22.19, -48.79], [-22.19, -48.79], [-22.19, -48.79], [-22.25, -42.66], [-22.19, -48.79], [-22.19, -48.79], [-24.89, -51.55], [-22.19, -48.79], [-22.19, -48.79], [-22.19, -48.79], [-13.29, -41.71], [-19.19, -40.34], [-22.19, -48.79], [-19.19, -40.34], [-22.25, -42.66], [-22.19, -48.79], [-24.89, -51.55], [-18.1, -44.38], [-18.1, -44.38], [-18.1, -44.38], [-13.29, -41.71], [-13.29, -41.71], [-18.1, -44.38], [-24.89, -51.55], [-22.19, -48.79], [-18.1, -44.38], [-15.83, -47.86], [-30.17, -53.5], [-30.17, -53.5], [-13.29, -41.71], [-15.83, -47.86], [-22.19, -48.79], [-22.19, -48.79], [-22.19, -48.79], [-22.25, -42.66], [-22.25, -42.66], [-22.19, -48.79], [-30.17, -53.5], [-18.1, -44.38], [-22.19, -48.79], [-22.19, -48.79], [-22.19, -48.79], [-5.2, -39.53], [-22.19, -48.79], [-22.19, -48.79], [-22.19, -48.79], [-22.19, -48.79], [-22.19, -48.79], [-22.25, -42.66], [-19.19, -40.34], [-22.19, -48.79], [-22.19, -48.79], [-22.19, -48.79], [-24.89, -51.55], [-22.25, -42.66], [-22.19, -48.79], [-22.19, -48.79], [-22.19, -48.79], [-22.19, -48.79], [-13.29, -41.71], [-19.19, -40.34], [-3.79, -52.48], [-22.19, -48.79], [-22.19, -48.79], [-22.19, -48.79], [-20.51, -54.54], [-22.19, -48.79], [-22.19, -48.79], [-18.1, -44.38], [-27.45, -50.95], [-22.25, -42.66], [-22.25, -42.66], [-22.19, -48.79], [-8.38, -37.86], [-22.19, -48.79], [-22.19, -48.79], [-18.1, -44.38], [-27.45, -50.95], [-18.1, -44.38], [-22.19, -48.79], [-19.19, -40.34], [-22.19, -48.79], [-18.1, -44.38], [-22.19, -48.79], [-18.1, -44.38], [-22.19, -48.79], [-30.17, -53.5], [-22.25, -42.66], [-30.17, -53.5], [-22.19, -48.79], [-22.19, -48.79], [-22.25, -42.66], [-30.17, -53.5], [-22.25, -42.66], [-22.25, -42.66], [-24.89, -51.55], [-30.17, -53.5], [-22.19, -48.79], [-8.38, -37.86], [-22.19, -48.79], [-18.1, -44.38], [-22.19, -48.79], [-22.19, -48.79], [-13.29, -41.71], [1.41, -51.77], [-3.79, -52.48], [-22.19, -48.79], [-22.25, -42.66], [-22.19, -48.79], [-22.19, -48.79], [-22.19, -48.79], [-22.19, -48.79], [-18.1, -44.38], [-22.19, -48.79], [-24.89, -51.55], [-18.1, -44.38], [-22.25, -42.66], [-18.1, -44.38], [-22.19, -48.79], [-18.1, -44.38], [-22.19, -48.79], [-30.17, -53.5], [-22.19, -48.79], [-3.79, -52.48], [-13.29, -41.71], [-24.89, -51.55], [-30.17, -53.5], [-30.17, -53.5], [-22.19, -48.79], [-30.17, -53.5], [-15.83, -47.86], [-18.1, -44.38], [-22.19, -48.79], [-22.19, -48.79], [-22.19, -48.79], [-22.19, -48.79], [-22.19, -48.79], [-22.19, -48.79], [-22.19, -48.79], [-22.19, -48.79], [-10.57, -37.45], [-24.89, -51.55], [-18.1, -44.38], [-12.64, -55.42], [-24.89, -51.55], [-22.25, -42.66], [-22.25, -42.66], [-15.83, -47.86], [-22.19, -48.79], [-22.25, -42.66], [-18.1, -44.38], [-18.1, -44.38], [-24.89, -51.55], [-30.17, -53.5], [-15.83, -47.86], [-22.19, -48.79], [-22.19, -48.79], [-30.17, -53.5], [-8.38, -37.86], [-19.19, -40.34], [-22.19, -48.79], [-18.1, -44.38], [-22.25, -42.66], [-18.1, -44.38], [-30.17, -53.5], [-22.25, -42.66], [-22.19, -48.79], [-22.19, -48.79], [-22.19, -48.79], [-22.19, -48.79], [-30.17, -53.5], [-22.19, -48.79], [-22.19, -48.79], [-22.25, -42.66], [-22.19, -48.79], [-13.29, -41.71], [-22.19, -48.79], [-22.19, -48.79], [-18.1, -44.38], [-5.2, -39.53], [-18.1, -44.38], [-5.42, -45.44], [-22.19, -48.79], [-22.25, -42.66], [-30.17, -53.5], [-15.98, -49.86], [-22.19, -48.79], [-27.45, -50.95], [-22.19, -48.79], [-18.1, -44.38], [-22.25, -42.66], [-22.25, -42.66], [-30.17, -53.5], [-19.19, -40.34], [-5.2, -39.53], [-22.19, -48.79], [-19.19, -40.34], [-22.19, -48.79], [-24.89, -51.55], [-22.25, -42.66], [-18.1, -44.38], [-3.79, -52.48], [-22.19, -48.79], [-13.29, -41.71], [-22.19, -48.79], [-22.19, -48.79], [-22.19, -48.79], [-3.79, -52.48], [-22.19, -48.79], [-22.19, -48.79], [-22.25, -42.66], [-22.19, -48.79], [-24.89, -51.55], [-24.89, -51.55], [-18.1, -44.38], [-22.19, -48.79], [-18.1, -44.38], [-22.19, -48.79], [-3.79, -52.48], [-24.89, -51.55], [-22.19, -48.79], [-22.19, -48.79], [-22.25, -42.66], [-22.19, -48.79], [-18.1, -44.38], [-22.19, -48.79], [-22.25, -42.66], [-18.1, -44.38], [-3.79, -52.48], [-18.1, -44.38], [-30.17, -53.5], [-22.19, -48.79], [-22.25, -42.66], [-22.19, -48.79], [-22.19, -48.79], [-22.19, -48.79], [-18.1, -44.38], [-22.25, -42.66], [-18.1, -44.38], [-22.19, -48.79], [-27.45, -50.95], [-8.38, -37.86], [-22.25, -42.66], [-22.25, -42.66], [-20.51, -54.54], [-22.19, -48.79], [-6.6, -42.28], [-8.38, -37.86], [-22.19, -48.79], [-22.19, -48.79], [-22.25, -42.66], [-22.19, -48.79], [-22.19, -48.79], [-15.98, -49.86], [-15.98, -49.86], [-3.79, -52.48], [1.41, -51.77], [-18.1, -44.38], [-8.38, -37.86], [-22.25, -42.66], [-18.1, -44.38], [-22.19, -48.79], [-22.19, -48.79], [-18.1, -44.38], [-18.1, -44.38], [-22.19, -48.79], [-22.19, -48.79], [-22.19, -48.79], [-18.1, -44.38], [-22.19, -48.79], [-18.1, -44.38], [-22.19, -48.79], [-18.1, -44.38], [-5.2, -39.53], [-22.19, -48.79], [-22.19, -48.79], [-22.19, -48.79], [-22.19, -48.79], [-22.19, -48.79], [-22.19, -48.79], [-18.1, -44.38], [-22.25, -42.66], [-20.51, -54.54], [-18.1, -44.38], [-30.17, -53.5], [-22.19, -48.79], [-24.89, -51.55], [-27.45, -50.95], [-22.19, -48.79], [-22.25, -42.66], [-24.89, -51.55], [-10.57, -37.45], [-22.25, -42.66], [-24.89, -51.55], [-22.19, -48.79], [-22.25, -42.66], [-24.89, -51.55], [-6.6, -42.28], [-8.38, -37.86], [-5.2, -39.53], [-22.19, -48.79], [-24.89, -51.55], [-22.19, -48.79], [-18.1, -44.38], [-22.19, -48.79], [-22.19, -48.79], [-3.47, -65.1], [-24.89, -51.55], [-22.25, -42.66], [-22.25, -42.66], [-13.29, -41.71], [-22.25, -42.66], [-22.19, -48.79], [-30.17, -53.5], [-18.1, -44.38], [-13.29, -41.71], [-24.89, -51.55], [-22.19, -48.79], [-22.19, -48.79], [-30.17, -53.5], [-22.19, -48.79], [-22.19, -48.79], [-22.19, -48.79], [-18.1, -44.38], [-22.25, -42.66], [-15.83, -47.86], [-22.19, -48.79], [-22.19, -48.79], [-24.89, -51.55], [-18.1, -44.38], [-8.38, -37.86], [-22.25, -42.66], [-30.17, -53.5], [-27.45, -50.95], [-22.19, -48.79], [-24.89, -51.55], [-22.25, -42.66], [-22.25, -42.66], [-5.2, -39.53], [-18.1, -44.38], [-15.83, -47.86], [-22.19, -48.79], [-22.19, -48.79], [-22.19, -48.79], [-22.19, -48.79], [-18.1, -44.38], [-22.19, -48.79], [-15.98, -49.86], [-18.1, -44.38], [-18.1, -44.38], [-22.19, -48.79], [-27.45, -50.95], [-18.1, -44.38], [-12.64, -55.42], [-24.89, -51.55], [-22.19, -48.79], [-22.19, -48.79], [-24.89, -51.55], [-18.1, -44.38], [-18.1, -44.38], [-22.19, -48.79], [-22.19, -48.79], [-22.19, -48.79], [-15.83, -47.86], [-22.19, -48.79], [-22.19, -48.79], [-22.19, -48.79], [-5.2, -39.53], [-30.17, -53.5], [-22.19, -48.79], [-22.19, -48.79], [-18.1, -44.38], [-19.19, -40.34], [-5.2, -39.53], [-24.89, -51.55], [-22.19, -48.79], [-24.89, -51.55], [-30.17, -53.5], [-22.19, -48.79], [-22.19, -48.79], [-22.25, -42.66], [-13.29, -41.71], [-22.19, -48.79], [-22.19, -48.79], [-30.17, -53.5], [-9.46, -48.26], [-30.17, -53.5], [-22.19, -48.79], [-22.19, -48.79], [-22.19, -48.79], [-22.19, -48.79], [-22.19, -48.79], [-30.17, -53.5], [-18.1, -44.38], [-18.1, -44.38], [-22.19, -48.79], [-22.25, -42.66], [-18.1, -44.38], [-30.17, -53.5], [-22.19, -48.79], [-5.2, -39.53], [-22.19, -48.79], [-27.45, -50.95], [-22.19, -48.79], [-22.25, -42.66], [-22.19, -48.79], [-18.1, -44.38], [-9.62, -36.82], [-15.83, -47.86], [-19.19, -40.34], [-24.89, -51.55], [-22.19, -48.79], [-24.89, -51.55], [-24.89, -51.55], [-15.83, -47.86], [-22.25, -42.66], [-30.17, -53.5], [-22.19, -48.79], [-24.89, -51.55], [-18.1, -44.38], [-22.19, -48.79], [-22.19, -48.79], [-22.19, -48.79], [-20.51, -54.54], [-22.19, -48.79], [-18.1, -44.38], [-22.25, -42.66], [-22.19, -48.79], [-22.19, -48.79], [-22.19, -48.79], [-24.89, -51.55], [-13.29, -41.71], [-22.19, -48.79], [-18.1, -44.38], [-22.19, -48.79], [-22.19, -48.79], [-22.19, -48.79], [-19.19, -40.34], [-22.19, -48.79], [-22.19, -48.79], [-18.1, -44.38], [-18.1, -44.38], [-10.83, -63.34], [-13.29, -41.71], [-22.25, -42.66], [-22.19, -48.79], [-22.25, -42.66], [-27.45, -50.95], [-18.1, -44.38], [-22.19, -48.79], [-22.19, -48.79], [-22.19, -48.79], [-22.19, -48.79], [-20.51, -54.54], [-18.1, -44.38], [-18.1, -44.38], [-13.29, -41.71], [-8.77, -70.55], [-22.19, -48.79], [-22.19, -48.79], [-22.19, -48.79], [-8.38, -37.86], [-30.17, -53.5], [-22.25, -42.66], [-22.25, -42.66], [-22.19, -48.79], [-22.19, -48.79], [-19.19, -40.34], [-22.19, -48.79], [-22.19, -48.79], [-18.1, -44.38], [-18.1, -44.38], [-22.25, -42.66], [-22.19, -48.79], [-22.25, -42.66], [-22.25, -42.66], [-22.19, -48.79], [-22.19, -48.79], [-18.1, -44.38], [-22.25, -42.66], [-22.19, -48.79], [-8.38, -37.86], [-18.1, -44.38], [-18.1, -44.38], [-22.19, -48.79], [-22.25, -42.66], [-30.17, -53.5], [-22.19, -48.79], [1.99, -61.33], [-13.29, -41.71], [-10.57, -37.45], [-5.42, -45.44], [-8.38, -37.86], [-22.25, -42.66], [-18.1, -44.38], [-18.1, -44.38], [-18.1, -44.38], [-22.19, -48.79], [-22.19, -48.79], [-30.17, -53.5], [-22.19, -48.79], [-22.19, -48.79], [-30.17, -53.5], [-22.19, -48.79], [-22.19, -48.79], [-13.29, -41.71], [-22.19, -48.79], [-18.1, -44.38], [-27.45, -50.95], [-22.19, -48.79], [-18.1, -44.38], [-22.25, -42.66], [-22.19, -48.79], [-13.29, -41.71], [-8.38, -37.86], [-22.19, -48.79], [-7.28, -36.72], [-22.25, -42.66], [-22.19, -48.79], [-15.83, -47.86], [-22.25, -42.66], [-22.25, -42.66], [-18.1, -44.38], [-22.19, -48.79], [-22.19, -48.79], [-22.19, -48.79], [-13.29, -41.71], [-22.19, -48.79], [-22.19, -48.79], [-19.19, -40.34], [-22.19, -48.79], [-22.19, -48.79], [-22.19, -48.79], [-22.25, -42.66], [-22.19, -48.79], [-30.17, -53.5], [-22.19, -48.79], [-13.29, -41.71], [-15.83, -47.86], [-18.1, -44.38], [-22.19, -48.79], [-22.19, -48.79], [-22.19, -48.79], [-22.19, -48.79], [-22.19, -48.79], [-18.1, -44.38], [-19.19, -40.34], [-22.19, -48.79], [-22.19, -48.79], [-22.19, -48.79], [-18.1, -44.38], [-22.19, -48.79], [-22.19, -48.79], [-18.1, -44.38], [-3.79, -52.48], [-22.19, -48.79], [-24.89, -51.55], [-18.1, -44.38], [-22.19, -48.79], [-22.19, -48.79], [-18.1, -44.38], [-30.17, -53.5], [-22.25, -42.66], [-22.25, -42.66], [-22.25, -42.66], [-22.19, -48.79], [-22.19, -48.79], [-22.19, -48.79], [-27.45, -50.95], [-18.1, -44.38], [-22.25, -42.66], [-22.25, -42.66], [-22.19, -48.79], [-22.19, -48.79], [-24.89, -51.55], [-22.19, -48.79], [-22.19, -48.79], [-22.19, -48.79], [-22.19, -48.79], [-22.25, -42.66], [-22.19, -48.79], [-22.25, -42.66], [-22.25, -42.66], [-22.25, -42.66], [-22.25, -42.66], [-22.19, -48.79], [-9.62, -36.82], [-15.83, -47.86], [-22.19, -48.79], [-22.25, -42.66], [-22.25, -42.66], [-22.19, -48.79], [-22.19, -48.79], [-12.64, -55.42], [-24.89, -51.55], [-22.19, -48.79], [-18.1, -44.38], [-8.38, -37.86], [-30.17, -53.5], [-18.1, -44.38], [-15.98, -49.86], [-5.2, -39.53], [-22.19, -48.79], [-24.89, -51.55], [-9.46, -48.26], [-18.1, -44.38], [-24.89, -51.55], [-18.1, -44.38], [-22.19, -48.79], [-22.19, -48.79], [-5.2, -39.53], [-22.25, -42.66], [-22.19, -48.79], [-15.98, -49.86], [-22.19, -48.79], [-24.89, -51.55], [-22.19, -48.79], [-22.19, -48.79], [-18.1, -44.38], [-22.19, -48.79], [-27.45, -50.95], [-22.19, -48.79], [-22.19, -48.79], [-24.89, -51.55], [-24.89, -51.55], [-18.1, -44.38], [-18.1, -44.38], [-22.19, -48.79], [-22.25, -42.66], [-22.19, -48.79], [-22.19, -48.79], [-22.19, -48.79], [-22.19, -48.79], [-6.6, -42.28], [-18.1, -44.38], [-22.25, -42.66], [-22.19, -48.79], [-22.19, -48.79], [-5.81, -36.59], [-22.19, -48.79], [-18.1, -44.38], [-5.42, -45.44], [-27.45, -50.95], [-22.19, -48.79], [-22.19, -48.79], [-22.25, -42.66], [-18.1, -44.38], [-22.19, -48.79], [-22.25, -42.66], [-13.29, -41.71], [-5.2, -39.53], [-18.1, -44.38], [-15.83, -47.86], [-18.1, -44.38], [-19.19, -40.34], [-30.17, -53.5], [-8.38, -37.86], [-22.19, -48.79], [-22.19, -48.79], [-22.19, -48.79], [-22.25, -42.66], [-22.25, -42.66], [-30.17, -53.5], [-22.25, -42.66], [-27.45, -50.95], [-18.1, -44.38], [-22.19, -48.79], [-19.19, -40.34], [-22.25, -42.66], [-22.25, -42.66], [-15.83, -47.86], [-13.29, -41.71], [-22.19, -48.79], [-22.19, -48.79], [-20.51, -54.54], [-30.17, -53.5], [-22.19, -48.79], [-15.83, -47.86], [-22.19, -48.79], [-19.19, -40.34], [-22.19, -48.79], [-22.19, -48.79], [-22.19, -48.79], [-22.19, -48.79], [-22.19, -48.79], [-22.19, -48.79], [-30.17, -53.5], [-22.19, -48.79], [-18.1, -44.38], [-22.19, -48.79], [-18.1, -44.38], [-6.6, -42.28], [-18.1, -44.38], [-15.98, -49.86], [-22.25, -42.66], [-30.17, -53.5], [-22.19, -48.79], [-22.25, -42.66], [-7.28, -36.72], [-22.19, -48.79], [-13.29, -41.71], [-27.45, -50.95], [-18.1, -44.38], [-18.1, -44.38], [-22.19, -48.79], [-22.19, -48.79], [-3.79, -52.48], [-22.19, -48.79], [-13.29, -41.71], [-22.19, -48.79], [-22.19, -48.79], [-15.83, -47.86], [-27.45, -50.95], [-18.1, -44.38], [-22.19, -48.79], [-22.19, -48.79], [-30.17, -53.5], [-5.81, -36.59], [-22.19, -48.79], [-22.19, -48.79], [-30.17, -53.5], [-5.2, -39.53], [-22.25, -42.66], [-30.17, -53.5], [-5.42, -45.44], [-18.1, -44.38], [-22.25, -42.66], [-22.19, -48.79], [-15.83, -47.86], [-18.1, -44.38], [-22.19, -48.79], [-12.64, -55.42], [-20.51, -54.54], [-24.89, -51.55], [-5.2, -39.53], [-13.29, -41.71], [-22.25, -42.66], [-22.25, -42.66], [-18.1, -44.38], [-22.25, -42.66], [-15.98, -49.86], [-22.19, -48.79], [-22.25, -42.66], [-22.19, -48.79], [-22.19, -48.79], [-22.19, -48.79], [-22.19, -48.79], [-22.19, -48.79], [-30.17, -53.5], [-22.25, -42.66], [-22.25, -42.66], [-18.1, -44.38], [-22.19, -48.79], [-27.45, -50.95], [-22.19, -48.79], [-18.1, -44.38], [-22.19, -48.79], [-22.19, -48.79], [-18.1, -44.38], [-22.19, -48.79], [-22.19, -48.79], [-19.19, -40.34], [-24.89, -51.55], [-22.19, -48.79], [-22.19, -48.79], [-20.51, -54.54], [-10.83, -63.34], [-22.19, -48.79], [-18.1, -44.38], [-22.19, -48.79], [-18.1, -44.38], [-22.25, -42.66], [-30.17, -53.5], [-22.19, -48.79], [-22.19, -48.79], [-22.19, -48.79], [-15.98, -49.86], [-8.38, -37.86], [-15.98, -49.86], [-6.6, -42.28], [-27.45, -50.95], [-22.19, -48.79], [-27.45, -50.95], [-15.83, -47.86], [-22.19, -48.79], [-22.25, -42.66], [-22.19, -48.79], [-15.98, -49.86], [-18.1, -44.38], [-18.1, -44.38], [-22.19, -48.79], [-15.83, -47.86], [-22.25, -42.66], [-22.25, -42.66], [-22.19, -48.79], [-22.19, -48.79], [-9.62, -36.82], [-22.19, -48.79], [-22.19, -48.79], [-22.19, -48.79], [-22.19, -48.79], [-12.64, -55.42], [-8.38, -37.86], [-24.89, -51.55], [-20.51, -54.54], [-15.83, -47.86], [-22.19, -48.79], [-24.89, -51.55], [-5.81, -36.59], [-22.19, -48.79], [-22.19, -48.79], [-22.19, -48.79], [-22.19, -48.79], [-22.19, -48.79], [-22.25, -42.66], [-18.1, -44.38], [-22.19, -48.79], [-27.45, -50.95], [-22.19, -48.79], [-22.19, -48.79], [-22.19, -48.79], [-5.81, -36.59], [-13.29, -41.71], [-22.19, -48.79], [-22.25, -42.66], [-3.79, -52.48], [-22.25, -42.66], [-5.2, -39.53], [-22.19, -48.79], [-22.25, -42.66], [-22.19, -48.79], [-30.17, -53.5], [-22.19, -48.79], [-30.17, -53.5], [-7.28, -36.72], [-22.19, -48.79], [-18.1, -44.38], [-19.19, -40.34], [-24.89, -51.55], [-22.19, -48.79], [-22.19, -48.79], [-22.19, -48.79], [-22.19, -48.79], [-22.25, -42.66], [-18.1, -44.38], [-19.19, -40.34], [-22.19, -48.79], [-27.45, -50.95], [-24.89, -51.55], [-22.19, -48.79], [-22.19, -48.79], [-15.83, -47.86], [-22.19, -48.79], [-27.45, -50.95], [-22.25, -42.66], [-30.17, -53.5], [-22.19, -48.79], [-15.98, -49.86], [-18.1, -44.38], [-22.19, -48.79], [-22.19, -48.79], [-22.19, -48.79], [-18.1, -44.38], [-20.51, -54.54], [-27.45, -50.95], [-18.1, -44.38], [-30.17, -53.5], [-27.45, -50.95], [-22.25, -42.66], [-13.29, -41.71], [-22.19, -48.79], [-5.2, -39.53], [-18.1, -44.38], [-22.19, -48.79], [-22.19, -48.79], [-22.19, -48.79], [-22.19, -48.79], [-22.19, -48.79], [-22.19, -48.79], [-22.25, -42.66], [-22.19, -48.79], [-24.89, -51.55], [-22.19, -48.79], [-22.19, -48.79], [-18.1, -44.38], [-18.1, -44.38], [-13.29, -41.71], [-22.19, -48.79], [-18.1, -44.38], [-22.19, -48.79], [-22.19, -48.79], [-22.25, -42.66], [-22.19, -48.79], [-22.25, -42.66], [-22.19, -48.79], [-15.83, -47.86], [-22.19, -48.79], [-22.19, -48.79], [-22.19, -48.79], [-22.19, -48.79], [-18.1, -44.38], [-22.19, -48.79], [-22.19, -48.79], [-22.19, -48.79], [-22.19, -48.79], [-5.81, -36.59], [-13.29, -41.71], [-22.19, -48.79], [-22.25, -42.66], [-22.19, -48.79], [-22.19, -48.79], [-30.17, -53.5], [-8.38, -37.86], [-5.2, -39.53], [-22.19, -48.79], [-18.1, -44.38], [-22.19, -48.79], [-22.19, -48.79], [-22.19, -48.79], [-30.17, -53.5], [-13.29, -41.71], [-22.19, -48.79], [-22.19, -48.79], [-18.1, -44.38], [-22.19, -48.79], [-22.25, -42.66], [-22.19, -48.79], [-30.17, -53.5], [-27.45, -50.95], [-18.1, -44.38], [-22.19, -48.79], [-22.19, -48.79], [-5.2, -39.53], [-5.42, -45.44], [-18.1, -44.38], [-30.17, -53.5], [-22.19, -48.79], [-20.51, -54.54], [-15.83, -47.86], [-18.1, -44.38], [-22.19, -48.79], [-24.89, -51.55], [-13.29, -41.71], [-22.19, -48.79], [-22.19, -48.79], [-22.19, -48.79], [-22.19, -48.79], [-22.25, -42.66], [-22.25, -42.66], [-5.2, -39.53], [-22.19, -48.79], [-18.1, -44.38], [-22.19, -48.79], [-24.89, -51.55], [-22.25, -42.66], [-20.51, -54.54], [-27.45, -50.95], [-9.62, -36.82], [-22.25, -42.66], [-27.45, -50.95], [-24.89, -51.55], [-22.19, -48.79], [-22.19, -48.79], [-3.47, -65.1], [-30.17, -53.5], [-13.29, -41.71], [-22.19, -48.79], [-19.19, -40.34], [-18.1, -44.38], [-19.19, -40.34], [-22.19, -48.79], [-22.19, -48.79], [-22.19, -48.79], [-22.19, -48.79], [-22.19, -48.79], [-22.19, -48.79], [-22.19, -48.79], [-30.17, -53.5], [-22.19, -48.79], [-22.19, -48.79], [-15.83, -47.86], [-22.25, -42.66], [-18.1, -44.38], [-22.19, -48.79], [-18.1, -44.38], [-22.19, -48.79], [-18.1, -44.38], [-22.25, -42.66], [-20.51, -54.54], [-24.89, -51.55], [-19.19, -40.34], [-22.25, -42.66], [-5.81, -36.59], [-15.83, -47.86], [-7.28, -36.72], [-15.98, -49.86], [-22.25, -42.66], [-22.19, -48.79], [-22.25, -42.66], [-7.28, -36.72], [-15.83, -47.86], [-22.19, -48.79], [-18.1, -44.38], [-13.29, -41.71], [-15.83, -47.86], [-8.38, -37.86], [-22.25, -42.66], [-22.25, -42.66], [-22.25, -42.66], [-30.17, -53.5], [-22.19, -48.79], [-5.42, -45.44], [-15.83, -47.86], [-22.19, -48.79], [-20.51, -54.54], [-18.1, -44.38], [-22.19, -48.79], [-22.25, -42.66], [-30.17, -53.5], [-22.19, -48.79], [-22.19, -48.79], [-3.79, -52.48], [-20.51, -54.54], [-22.19, -48.79], [-19.19, -40.34], [-22.19, -48.79], [-22.19, -48.79], [-22.19, -48.79], [-24.89, -51.55], [-22.19, -48.79], [-22.19, -48.79], [-22.19, -48.79], [-22.19, -48.79], [-22.19, -48.79], [-22.25, -42.66], [-18.1, -44.38], [-22.19, -48.79], [-18.1, -44.38], [-27.45, -50.95], [-22.19, -48.79], [-22.19, -48.79], [-19.19, -40.34], [-7.28, -36.72], [-22.19, -48.79], [-22.19, -48.79], [-8.38, -37.86], [-19.19, -40.34], [-22.19, -48.79], [-22.25, -42.66], [-22.25, -42.66], [-22.25, -42.66], [-19.19, -40.34], [-8.38, -37.86], [-22.19, -48.79], [-22.19, -48.79], [-22.25, -42.66], [-22.25, -42.66], [-22.19, -48.79], [-22.25, -42.66], [-22.19, -48.79], [-24.89, -51.55], [-22.19, -48.79], [-22.25, -42.66], [-22.19, -48.79], [-22.25, -42.66], [-22.25, -42.66], [-22.19, -48.79], [-22.19, -48.79], [-5.42, -45.44], [-5.2, -39.53], [-18.1, -44.38], [-18.1, -44.38], [-22.19, -48.79], [-8.38, -37.86], [-18.1, -44.38], [-22.19, -48.79], [-22.19, -48.79], [-22.19, -48.79], [-22.25, -42.66], [-22.25, -42.66], [-19.19, -40.34], [-22.19, -48.79], [-22.19, -48.79], [-24.89, -51.55], [-22.19, -48.79], [-22.19, -48.79], [-22.19, -48.79], [-22.19, -48.79], [-8.38, -37.86], [-22.19, -48.79], [-22.25, -42.66], [-22.25, -42.66], [-30.17, -53.5], [-22.19, -48.79], [-8.38, -37.86], [-22.19, -48.79], [-22.19, -48.79], [-20.51, -54.54], [-22.19, -48.79], [-30.17, -53.5], [-22.25, -42.66], [-18.1, -44.38], [-22.25, -42.66], [-22.25, -42.66], [-30.17, -53.5], [-18.1, -44.38], [-22.19, -48.79], [-18.1, -44.38], [-22.25, -42.66], [-22.19, -48.79], [-22.19, -48.79], [-27.45, -50.95], [-12.64, -55.42], [-22.25, -42.66], [-22.19, -48.79], [-22.25, -42.66], [-30.17, -53.5], [-27.45, -50.95], [-22.19, -48.79], [-5.2, -39.53], [-22.19, -48.79], [-22.19, -48.79], [-22.19, -48.79], [-22.19, -48.79], [-22.19, -48.79], [-27.45, -50.95], [-22.19, -48.79], [-22.19, -48.79], [-5.42, -45.44], [-22.19, -48.79], [-22.19, -48.79], [-22.19, -48.79], [-22.19, -48.79], [-12.64, -55.42], [-22.19, -48.79], [-18.1, -44.38], [-22.19, -48.79], [-22.19, -48.79], [-12.64, -55.42], [-30.17, -53.5], [-18.1, -44.38], [-5.81, -36.59], [-22.19, -48.79], [-22.19, -48.79], [-22.19, -48.79], [-22.19, -48.79], [-22.19, -48.79], [-24.89, -51.55], [-22.19, -48.79], [-22.19, -48.79], [-22.19, -48.79], [-22.19, -48.79], [-22.19, -48.79], [-22.19, -48.79], [-6.6, -42.28], [-22.19, -48.79], [-18.1, -44.38], [-22.19, -48.79], [-13.29, -41.71], [-27.45, -50.95], [-22.19, -48.79], [-22.19, -48.79], [-22.19, -48.79], [-24.89, -51.55], [-22.19, -48.79], [-22.19, -48.79], [-15.98, -49.86], [-22.19, -48.79], [-22.19, -48.79], [-30.17, -53.5], [-22.19, -48.79], [-22.19, -48.79], [-22.25, -42.66], [-22.25, -42.66], [-15.98, -49.86], [-22.19, -48.79], [-12.64, -55.42], [-22.19, -48.79], [-13.29, -41.71], [-22.19, -48.79], [-15.83, -47.86], [-22.19, -48.79], [-30.17, -53.5], [-22.19, -48.79], [-27.45, -50.95], [-13.29, -41.71], [-22.19, -48.79], [-22.19, -48.79], [-22.19, -48.79], [-22.19, -48.79], [-22.19, -48.79], [-22.25, -42.66], [-22.19, -48.79], [-22.19, -48.79], [-5.81, -36.59], [-22.25, -42.66], [-8.38, -37.86], [-22.25, -42.66], [-22.19, -48.79], [-22.25, -42.66], [-15.83, -47.86], [-30.17, -53.5], [-13.29, -41.71], [-22.19, -48.79], [-22.19, -48.79], [-15.98, -49.86], [-22.25, -42.66], [-22.25, -42.66], [-22.25, -42.66], [-22.25, -42.66], [-18.1, -44.38], [-22.19, -48.79], [-22.19, -48.79], [-22.19, -48.79], [-22.19, -48.79], [-27.45, -50.95], [-22.19, -48.79], [-24.89, -51.55], [-22.19, -48.79], [-24.89, -51.55], [-18.1, -44.38], [-18.1, -44.38], [-18.1, -44.38], [-22.19, -48.79], [-22.19, -48.79], [-15.83, -47.86], [-22.19, -48.79], [-18.1, -44.38], [-22.25, -42.66], [-24.89, -51.55], [-5.2, -39.53], [-9.46, -48.26], [-22.19, -48.79], [-22.19, -48.79], [-18.1, -44.38], [-22.19, -48.79], [-22.19, -48.79], [-18.1, -44.38], [-18.1, -44.38], [-22.25, -42.66], [-13.29, -41.71], [-13.29, -41.71], [-22.19, -48.79], [-15.98, -49.86], [-22.19, -48.79], [-9.46, -48.26], [-22.25, -42.66], [-30.17, -53.5], [-22.19, -48.79], [-8.38, -37.86], [-22.19, -48.79], [-22.19, -48.79], [-19.19, -40.34], [-24.89, -51.55], [-22.19, -48.79], [-18.1, -44.38], [-22.19, -48.79], [-22.19, -48.79], [-30.17, -53.5], [-22.19, -48.79], [-22.19, -48.79], [-22.25, -42.66], [-24.89, -51.55], [-22.19, -48.79], [-18.1, -44.38], [-18.1, -44.38], [-22.19, -48.79], [-22.19, -48.79], [-22.19, -48.79], [-22.19, -48.79], [-30.17, -53.5], [-18.1, -44.38], [-22.19, -48.79], [-22.19, -48.79], [-18.1, -44.38], [-22.19, -48.79], [-22.25, -42.66], [-30.17, -53.5], [-22.19, -48.79], [-18.1, -44.38], [-18.1, -44.38], [-22.19, -48.79], [-30.17, -53.5], [-22.25, -42.66], [-20.51, -54.54], [-22.19, -48.79], [-20.51, -54.54], [-18.1, -44.38], [-19.19, -40.34], [-3.47, -65.1], [-18.1, -44.38], [-22.19, -48.79], [-24.89, -51.55], [-22.19, -48.79], [-22.19, -48.79], [-27.45, -50.95], [-18.1, -44.38], [-8.38, -37.86], [-22.19, -48.79], [-19.19, -40.34], [-22.19, -48.79], [-22.19, -48.79], [-24.89, -51.55], [-13.29, -41.71], [-22.25, -42.66], [-18.1, -44.38], [-15.83, -47.86], [-9.46, -48.26], [-22.19, -48.79], [-22.19, -48.79], [-22.25, -42.66], [-22.19, -48.79], [-18.1, -44.38], [-9.62, -36.82], [-22.19, -48.79], [-22.19, -48.79], [-18.1, -44.38], [-27.45, -50.95], [-18.1, -44.38], [-22.19, -48.79], [-18.1, -44.38], [-22.19, -48.79], [-18.1, -44.38], [-22.19, -48.79], [-22.19, -48.79], [-19.19, -40.34], [-10.83, -63.34], [-22.19, -48.79], [-24.89, -51.55], [-18.1, -44.38], [-5.42, -45.44], [-18.1, -44.38], [-24.89, -51.55], [-24.89, -51.55], [-22.25, -42.66], [-22.19, -48.79], [-30.17, -53.5], [-18.1, -44.38], [-22.19, -48.79], [-22.25, -42.66], [-22.19, -48.79], [-22.25, -42.66], [-30.17, -53.5], [-5.42, -45.44], [-22.19, -48.79], [-18.1, -44.38], [-22.19, -48.79], [-19.19, -40.34], [-30.17, -53.5], [-15.83, -47.86], [-22.19, -48.79], [-18.1, -44.38], [-15.98, -49.86], [-18.1, -44.38], [-24.89, -51.55], [-30.17, -53.5], [-22.19, -48.79], [-15.83, -47.86], [-18.1, -44.38], [-22.25, -42.66], [-22.19, -48.79], [-22.19, -48.79], [-18.1, -44.38], [-22.19, -48.79], [-22.19, -48.79], [-18.1, -44.38], [-22.19, -48.79], [-22.25, -42.66], [-24.89, -51.55], [-22.19, -48.79], [-18.1, -44.38], [-15.83, -47.86], [-22.19, -48.79], [-30.17, -53.5], [-22.19, -48.79], [-22.19, -48.79], [-22.19, -48.79], [-27.45, -50.95], [-22.19, -48.79], [-13.29, -41.71], [-10.83, -63.34], [-22.19, -48.79], [-22.25, -42.66], [-22.25, -42.66], [-22.19, -48.79], [-22.25, -42.66], [-22.19, -48.79], [-22.25, -42.66], [-22.19, -48.79], [-27.45, -50.95], [-15.83, -47.86], [-27.45, -50.95], [-18.1, -44.38], [-22.19, -48.79], [-8.38, -37.86], [-13.29, -41.71], [-30.17, -53.5], [-30.17, -53.5], [-18.1, -44.38], [-22.25, -42.66], [-22.19, -48.79], [-22.19, -48.79], [-18.1, -44.38], [-22.19, -48.79], [-22.19, -48.79], [-27.45, -50.95], [-22.19, -48.79], [-18.1, -44.38], [-22.25, -42.66], [-6.6, -42.28], [-22.25, -42.66], [-3.79, -52.48], [-27.45, -50.95], [-18.1, -44.38], [-22.19, -48.79], [-20.51, -54.54], [-22.19, -48.79], [-22.19, -48.79], [-22.19, -48.79], [-20.51, -54.54], [-24.89, -51.55], [-22.25, -42.66], [-22.25, -42.66], [-15.83, -47.86], [-19.19, -40.34], [-22.19, -48.79], [-15.83, -47.86], [-30.17, -53.5], [-22.19, -48.79], [-15.83, -47.86], [-22.19, -48.79], [-30.17, -53.5], [-22.19, -48.79], [-22.19, -48.79], [-22.19, -48.79], [-22.25, -42.66], [-22.19, -48.79], [-22.19, -48.79], [-22.25, -42.66], [-24.89, -51.55], [-22.19, -48.79], [-22.19, -48.79], [-22.19, -48.79], [-12.64, -55.42], [-22.25, -42.66], [-22.19, -48.79], [-22.25, -42.66], [-18.1, -44.38], [-15.98, -49.86], [-15.83, -47.86], [-30.17, -53.5], [-22.19, -48.79], [-22.19, -48.79], [-15.83, -47.86], [-22.19, -48.79], [-24.89, -51.55], [-22.19, -48.79], [-18.1, -44.38], [-22.19, -48.79], [-18.1, -44.38], [-22.25, -42.66], [-22.19, -48.79], [-22.19, -48.79], [-27.45, -50.95], [-24.89, -51.55], [-13.29, -41.71], [-22.25, -42.66], [-30.17, -53.5], [-30.17, -53.5], [-18.1, -44.38], [-5.2, -39.53], [-22.19, -48.79], [-18.1, -44.38], [-22.19, -48.79], [-24.89, -51.55], [-22.19, -48.79], [-22.19, -48.79], [-22.19, -48.79], [-22.19, -48.79], [-22.19, -48.79], [-22.19, -48.79], [-22.19, -48.79], [-22.19, -48.79], [-22.19, -48.79], [-22.19, -48.79], [-22.25, -42.66], [-22.19, -48.79], [-22.19, -48.79], [-22.19, -48.79], [-22.19, -48.79], [-22.25, -42.66], [-22.25, -42.66], [-22.19, -48.79], [-13.29, -41.71], [-22.19, -48.79], [-22.25, -42.66], [-22.19, -48.79], [-27.45, -50.95], [-18.1, -44.38], [-30.17, -53.5], [-22.19, -48.79], [-5.2, -39.53], [-22.19, -48.79], [-5.2, -39.53], [-22.19, -48.79], [-22.19, -48.79], [-18.1, -44.38], [-13.29, -41.71], [-22.19, -48.79], [-7.28, -36.72], [-22.19, -48.79], [-22.19, -48.79], [-22.19, -48.79], [-27.45, -50.95], [-13.29, -41.71], [-22.25, -42.66], [-22.19, -48.79], [-27.45, -50.95], [-22.19, -48.79], [-22.19, -48.79], [-10.83, -63.34], [-18.1, -44.38], [-22.19, -48.79], [-22.25, -42.66], [-22.25, -42.66], [-15.83, -47.86], [-24.89, -51.55], [-22.25, -42.66], [-22.19, -48.79], [-22.25, -42.66], [-22.19, -48.79], [-22.25, -42.66], [-18.1, -44.38], [-22.19, -48.79], [-18.1, -44.38], [-15.83, -47.86], [-22.19, -48.79], [-22.25, -42.66], [-6.6, -42.28], [-22.25, -42.66], [-5.2, -39.53], [-18.1, -44.38], [-27.45, -50.95], [-18.1, -44.38], [-13.29, -41.71], [-22.19, -48.79], [-18.1, -44.38], [-18.1, -44.38], [-18.1, -44.38], [-22.19, -48.79], [-22.25, -42.66], [-30.17, -53.5], [-22.19, -48.79], [-22.19, -48.79], [-22.25, -42.66], [-22.19, -48.79], [-5.42, -45.44], [-22.19, -48.79], [-22.25, -42.66], [-13.29, -41.71], [-5.81, -36.59], [-22.25, -42.66], [-8.38, -37.86], [-13.29, -41.71], [-20.51, -54.54], [-22.25, -42.66], [-22.19, -48.79], [-22.19, -48.79], [-22.19, -48.79], [-22.19, -48.79], [-18.1, -44.38], [-15.83, -47.86], [-22.19, -48.79], [-18.1, -44.38], [-22.19, -48.79], [-22.19, -48.79], [-22.19, -48.79], [-22.25, -42.66], [-22.19, -48.79], [-12.64, -55.42], [-22.19, -48.79], [-18.1, -44.38], [-19.19, -40.34], [-22.19, -48.79], [-8.38, -37.86], [-22.19, -48.79], [-30.17, -53.5], [-15.98, -49.86], [-22.19, -48.79], [1.41, -51.77], [-30.17, -53.5], [-22.19, -48.79], [-9.46, -48.26], [-22.19, -48.79], [-22.19, -48.79], [-22.19, -48.79], [-22.25, -42.66], [-5.2, -39.53], [-15.83, -47.86], [-22.19, -48.79], [-22.25, -42.66], [-22.19, -48.79], [-22.19, -48.79], [-18.1, -44.38], [-22.19, -48.79], [-15.83, -47.86], [-18.1, -44.38], [-19.19, -40.34], [-8.38, -37.86], [-22.19, -48.79], [-22.19, -48.79], [-22.25, -42.66], [-8.38, -37.86], [-22.19, -48.79], [-8.38, -37.86], [-22.25, -42.66], [-15.98, -49.86], [-18.1, -44.38], [-22.25, -42.66], [-22.19, -48.79], [-22.25, -42.66], [-22.19, -48.79], [-22.19, -48.79], [-22.19, -48.79], [-22.25, -42.66], [-22.25, -42.66], [-18.1, -44.38], [-24.89, -51.55], [-18.1, -44.38], [-30.17, -53.5], [-22.19, -48.79], [-18.1, -44.38], [-22.19, -48.79], [-22.19, -48.79], [-22.19, -48.79], [-22.19, -48.79], [-9.46, -48.26], [-5.81, -36.59], [-22.19, -48.79], [-22.25, -42.66], [-22.25, -42.66], [-22.19, -48.79], [-24.89, -51.55], [-22.19, -48.79], [-3.79, -52.48], [-22.19, -48.79], [-18.1, -44.38], [-22.19, -48.79], [-3.79, -52.48], [-8.38, -37.86], [-18.1, -44.38], [-30.17, -53.5], [-22.19, -48.79], [-19.19, -40.34], [-18.1, -44.38], [-22.25, -42.66], [-30.17, -53.5], [-22.19, -48.79], [-18.1, -44.38], [-22.19, -48.79], [-3.79, -52.48], [-18.1, -44.38], [-22.19, -48.79], [-15.83, -47.86], [-24.89, -51.55], [-22.19, -48.79], [-22.19, -48.79], [-22.25, -42.66], [-27.45, -50.95], [-22.19, -48.79], [-12.64, -55.42], [-22.19, -48.79], [-18.1, -44.38], [-22.19, -48.79], [-22.19, -48.79], [-27.45, -50.95], [-22.19, -48.79], [-22.25, -42.66], [-22.25, -42.66], [-18.1, -44.38], [-22.19, -48.79], [-22.19, -48.79], [-5.2, -39.53], [-22.19, -48.79], [-22.19, -48.79], [-18.1, -44.38], [-22.25, -42.66], [-22.19, -48.79], [-24.89, -51.55], [-22.19, -48.79], [-22.19, -48.79], [-22.19, -48.79], [-24.89, -51.55], [-22.19, -48.79], [-22.19, -48.79], [-30.17, -53.5], [-22.19, -48.79], [-24.89, -51.55], [-30.17, -53.5], [-18.1, -44.38], [-18.1, -44.38], [-18.1, -44.38], [-22.19, -48.79], [-22.25, -42.66], [-27.45, -50.95], [-19.19, -40.34], [-5.2, -39.53], [-22.19, -48.79], [-22.19, -48.79], [-22.19, -48.79], [-30.17, -53.5], [-18.1, -44.38], [-22.25, -42.66], [-22.19, -48.79], [-22.25, -42.66], [-22.25, -42.66], [-18.1, -44.38], [-22.19, -48.79], [-27.45, -50.95], [-22.19, -48.79], [-22.25, -42.66], [-30.17, -53.5], [-6.6, -42.28], [-22.25, -42.66], [-18.1, -44.38], [-27.45, -50.95], [-18.1, -44.38], [-22.25, -42.66], [-13.29, -41.71], [-22.19, -48.79], [-13.29, -41.71], [-24.89, -51.55], [-22.25, -42.66], [-24.89, -51.55], [-22.19, -48.79], [-22.25, -42.66], [-24.89, -51.55], [-30.17, -53.5], [-22.19, -48.79], [-18.1, -44.38], [-22.25, -42.66], [-15.98, -49.86], [-22.25, -42.66], [-18.1, -44.38], [-18.1, -44.38], [-22.19, -48.79], [-22.19, -48.79], [-22.19, -48.79], [-13.29, -41.71], [-24.89, -51.55], [-30.17, -53.5], [-18.1, -44.38], [-22.19, -48.79], [-22.19, -48.79], [-18.1, -44.38], [-15.98, -49.86], [-22.19, -48.79], [-22.25, -42.66], [-22.25, -42.66], [-22.25, -42.66], [-30.17, -53.5], [-22.25, -42.66], [-22.19, -48.79], [-15.83, -47.86], [-22.25, -42.66], [-8.38, -37.86], [-27.45, -50.95], [-22.19, -48.79], [-22.19, -48.79], [-22.19, -48.79], [-22.19, -48.79], [-22.19, -48.79], [-22.19, -48.79], [-22.19, -48.79], [-22.25, -42.66], [-24.89, -51.55], [-7.28, -36.72], [-22.25, -42.66], [-22.19, -48.79], [-6.6, -42.28], [-22.25, -42.66], [-19.19, -40.34], [-13.29, -41.71], [-22.19, -48.79], [-27.45, -50.95], [-22.19, -48.79], [-22.19, -48.79], [-22.19, -48.79], [-30.17, -53.5], [-6.6, -42.28], [-22.25, -42.66], [-27.45, -50.95], [-9.62, -36.82], [-5.81, -36.59], [-22.19, -48.79], [-30.17, -53.5], [-8.38, -37.86], [-22.19, -48.79], [-9.62, -36.82], [-8.38, -37.86], [-30.17, -53.5], [-22.19, -48.79], [-22.19, -48.79], [-22.25, -42.66], [-22.19, -48.79], [-22.19, -48.79], [-19.19, -40.34], [-27.45, -50.95], [-15.83, -47.86], [-22.19, -48.79], [-8.38, -37.86], [-13.29, -41.71], [-22.25, -42.66], [-22.19, -48.79], [-15.98, -49.86], [-22.19, -48.79], [-22.19, -48.79], [-30.17, -53.5], [-22.19, -48.79], [-18.1, -44.38], [-22.19, -48.79], [-30.17, -53.5], [-22.25, -42.66], [-22.19, -48.79], [-22.19, -48.79], [-22.19, -48.79], [-22.19, -48.79], [-13.29, -41.71], [-22.25, -42.66], [-18.1, -44.38], [-22.19, -48.79], [-22.19, -48.79], [-22.19, -48.79], [-22.19, -48.79], [-8.38, -37.86], [-13.29, -41.71], [-22.19, -48.79], [-22.19, -48.79], [-22.19, -48.79], [-22.19, -48.79], [-22.25, -42.66], [-22.25, -42.66], [-22.19, -48.79], [-15.83, -47.86], [-18.1, -44.38], [-22.19, -48.79], [-22.25, -42.66], [-22.25, -42.66], [-3.79, -52.48], [-22.19, -48.79], [-18.1, -44.38], [-15.83, -47.86], [-22.19, -48.79], [-24.89, -51.55], [-22.19, -48.79], [-22.19, -48.79], [-22.19, -48.79], [-13.29, -41.71], [-15.83, -47.86], [-27.45, -50.95], [-18.1, -44.38], [-30.17, -53.5], [-8.38, -37.86], [-18.1, -44.38], [-22.19, -48.79], [-22.25, -42.66], [-22.25, -42.66], [-15.83, -47.86], [-15.83, -47.86], [-22.19, -48.79], [-22.19, -48.79], [-22.19, -48.79], [-18.1, -44.38], [-18.1, -44.38], [-5.42, -45.44], [-22.19, -48.79], [-22.25, -42.66], [-13.29, -41.71], [-22.25, -42.66], [-15.98, -49.86], [-22.19, -48.79], [-30.17, -53.5], [-22.25, -42.66], [-24.89, -51.55], [-22.19, -48.79], [-24.89, -51.55], [-22.19, -48.79], [-18.1, -44.38], [-15.83, -47.86], [-22.19, -48.79], [-18.1, -44.38], [-22.25, -42.66], [-15.83, -47.86], [-22.19, -48.79], [-22.25, -42.66], [-18.1, -44.38], [-22.25, -42.66], [-7.28, -36.72], [-30.17, -53.5], [-18.1, -44.38], [-22.25, -42.66], [-22.25, -42.66], [-22.19, -48.79], [-18.1, -44.38], [-22.25, -42.66], [-24.89, -51.55], [-18.1, -44.38], [-24.89, -51.55], [-18.1, -44.38], [-15.98, -49.86], [-22.19, -48.79], [-24.89, -51.55], [-22.19, -48.79], [-30.17, -53.5], [-22.25, -42.66], [-18.1, -44.38], [-22.19, -48.79], [-22.19, -48.79], [-22.19, -48.79], [-20.51, -54.54], [-22.19, -48.79], [-13.29, -41.71], [-22.19, -48.79], [-7.28, -36.72], [-22.19, -48.79], [-22.19, -48.79], [-24.89, -51.55], [-30.17, -53.5], [-22.19, -48.79], [-30.17, -53.5], [-20.51, -54.54], [-22.19, -48.79], [-24.89, -51.55], [-22.19, -48.79], [-9.62, -36.82], [-22.25, -42.66], [-22.25, -42.66], [-22.19, -48.79], [-10.57, -37.45], [-22.19, -48.79], [-24.89, -51.55], [-22.19, -48.79], [-18.1, -44.38], [-22.19, -48.79], [-30.17, -53.5], [-22.25, -42.66], [-22.19, -48.79], [-22.25, -42.66], [-18.1, -44.38], [-9.46, -48.26], [-27.45, -50.95], [-22.19, -48.79], [-5.42, -45.44], [-22.19, -48.79], [-22.19, -48.79], [-22.25, -42.66], [-22.19, -48.79], [-22.19, -48.79], [-22.25, -42.66], [-22.19, -48.79], [-15.98, -49.86], [-22.19, -48.79], [-22.25, -42.66], [-22.19, -48.79], [-24.89, -51.55], [-19.19, -40.34], [-9.46, -48.26], [-13.29, -41.71], [-22.19, -48.79], [-5.81, -36.59], [-22.19, -48.79], [-22.19, -48.79], [-22.19, -48.79], [-30.17, -53.5], [-30.17, -53.5], [-22.19, -48.79], [-15.98, -49.86], [-22.25, -42.66], [-5.2, -39.53], [-22.19, -48.79], [-22.19, -48.79], [-30.17, -53.5], [-22.19, -48.79], [-22.19, -48.79], [-15.98, -49.86], [-18.1, -44.38], [-22.19, -48.79], [-18.1, -44.38], [-22.19, -48.79], [-24.89, -51.55], [-27.45, -50.95], [-24.89, -51.55], [-24.89, -51.55], [-22.19, -48.79], [-18.1, -44.38], [-27.45, -50.95], [-18.1, -44.38], [-22.19, -48.79], [-22.19, -48.79], [-24.89, -51.55], [-24.89, -51.55], [-22.19, -48.79], [-22.19, -48.79], [-22.25, -42.66], [-30.17, -53.5], [-22.19, -48.79], [-22.19, -48.79], [-22.19, -48.79], [-22.19, -48.79], [-18.1, -44.38], [-22.19, -48.79], [-22.19, -48.79], [-18.1, -44.38], [-22.19, -48.79], [-22.19, -48.79], [-27.45, -50.95], [-24.89, -51.55], [-22.19, -48.79], [-15.83, -47.86], [-22.19, -48.79], [-22.19, -48.79], [-22.19, -48.79], [-22.19, -48.79], [-22.19, -48.79], [-22.19, -48.79], [-18.1, -44.38], [-18.1, -44.38], [-27.45, -50.95], [-3.79, -52.48], [-24.89, -51.55], [-22.19, -48.79], [-15.98, -49.86], [-3.79, -52.48], [-5.42, -45.44], [-22.19, -48.79], [-22.25, -42.66], [-22.19, -48.79], [-22.19, -48.79], [-22.19, -48.79], [-30.17, -53.5], [-18.1, -44.38], [-24.89, -51.55], [-22.19, -48.79], [-24.89, -51.55], [-3.79, -52.48], [-22.25, -42.66], [-27.45, -50.95], [-22.19, -48.79], [-22.25, -42.66], [-18.1, -44.38], [-22.19, -48.79], [-22.19, -48.79], [-22.19, -48.79], [-22.19, -48.79], [-22.25, -42.66], [-24.89, -51.55], [-18.1, -44.38], [-22.25, -42.66], [-22.19, -48.79], [-15.83, -47.86], [-22.25, -42.66], [-24.89, -51.55], [-18.1, -44.38], [-22.25, -42.66], [-22.19, -48.79], [-22.19, -48.79], [-18.1, -44.38], [-18.1, -44.38], [-18.1, -44.38], [-22.25, -42.66], [-5.2, -39.53], [-22.25, -42.66], [-22.25, -42.66], [-22.19, -48.79], [-22.19, -48.79], [-22.19, -48.79], [-8.38, -37.86], [-22.19, -48.79], [-22.19, -48.79], [-22.19, -48.79], [-22.19, -48.79], [-30.17, -53.5], [-22.25, -42.66], [-24.89, -51.55], [-22.19, -48.79], [-22.19, -48.79], [-30.17, -53.5], [-22.19, -48.79], [-22.19, -48.79], [-12.64, -55.42], [-22.25, -42.66], [-22.25, -42.66], [-18.1, -44.38], [-18.1, -44.38], [-24.89, -51.55], [-22.25, -42.66], [-5.2, -39.53], [-22.19, -48.79], [-5.2, -39.53], [-22.19, -48.79], [-5.2, -39.53], [-22.19, -48.79], [-22.25, -42.66], [-30.17, -53.5], [-22.19, -48.79], [-22.25, -42.66], [-13.29, -41.71], [-22.19, -48.79], [-22.19, -48.79], [-22.19, -48.79], [-22.19, -48.79], [-22.19, -48.79], [-22.19, -48.79], [-18.1, -44.38], [-18.1, -44.38], [-18.1, -44.38], [-24.89, -51.55], [-22.19, -48.79], [-22.19, -48.79], [-22.19, -48.79], [-18.1, -44.38], [-22.19, -48.79], [-30.17, -53.5], [-22.25, -42.66], [-22.25, -42.66], [-22.19, -48.79], [-30.17, -53.5], [-18.1, -44.38], [-18.1, -44.38], [-22.25, -42.66], [-27.45, -50.95], [-22.25, -42.66], [-22.19, -48.79], [-22.19, -48.79], [-22.19, -48.79], [-30.17, -53.5], [-8.38, -37.86], [-22.19, -48.79], [-22.19, -48.79], [-22.19, -48.79], [-22.25, -42.66], [-22.19, -48.79], [-24.89, -51.55], [-22.19, -48.79], [-22.19, -48.79], [-24.89, -51.55], [-22.19, -48.79], [-22.19, -48.79], [-30.17, -53.5], [-22.19, -48.79], [-22.19, -48.79], [-22.19, -48.79], [-22.19, -48.79], [-30.17, -53.5], [-13.29, -41.71], [-18.1, -44.38], [-22.19, -48.79], [-22.19, -48.79], [-22.19, -48.79], [-22.19, -48.79], [-18.1, -44.38], [-6.6, -42.28], [-13.29, -41.71], [-22.25, -42.66], [-22.25, -42.66], [-15.83, -47.86], [-22.19, -48.79], [-22.19, -48.79], [-18.1, -44.38], [-22.19, -48.79], [-24.89, -51.55], [-22.19, -48.79], [-22.19, -48.79], [-12.64, -55.42], [-27.45, -50.95], [-22.19, -48.79], [-22.19, -48.79], [-22.19, -48.79], [-22.25, -42.66], [-22.19, -48.79], [-6.6, -42.28], [-22.25, -42.66], [-22.25, -42.66], [-22.19, -48.79], [-18.1, -44.38], [-18.1, -44.38], [-24.89, -51.55], [-22.19, -48.79], [-18.1, -44.38], [-22.19, -48.79], [-24.89, -51.55], [-22.19, -48.79], [1.41, -51.77], [-5.2, -39.53], [-22.19, -48.79], [-22.19, -48.79], [-22.19, -48.79], [-30.17, -53.5], [-22.25, -42.66], [-22.19, -48.79], [-22.19, -48.79], [-22.19, -48.79], [-22.25, -42.66], [-18.1, -44.38], [-22.19, -48.79], [-22.19, -48.79], [-22.25, -42.66], [-8.38, -37.86], [-22.19, -48.79], [-22.25, -42.66], [-22.19, -48.79], [-22.25, -42.66], [-22.19, -48.79], [-22.19, -48.79], [-5.42, -45.44], [-15.83, -47.86], [-22.25, -42.66], [-8.38, -37.86], [-18.1, -44.38], [-22.19, -48.79], [-24.89, -51.55], [-22.19, -48.79], [-24.89, -51.55], [-20.51, -54.54], [-18.1, -44.38], [-22.19, -48.79], [-22.25, -42.66], [-22.25, -42.66], [-22.19, -48.79], [-22.25, -42.66], [-22.19, -48.79], [-22.25, -42.66], [-8.38, -37.86], [-22.25, -42.66], [-30.17, -53.5], [-22.25, -42.66], [-10.57, -37.45], [-22.19, -48.79], [-5.2, -39.53], [-30.17, -53.5], [-24.89, -51.55], [-13.29, -41.71], [-22.19, -48.79], [-18.1, -44.38], [-10.57, -37.45], [-22.19, -48.79], [-18.1, -44.38], [-22.19, -48.79], [-30.17, -53.5], [-18.1, -44.38], [-22.19, -48.79], [-19.19, -40.34], [-13.29, -41.71], [-15.83, -47.86], [-22.19, -48.79], [-22.19, -48.79], [-22.19, -48.79], [-22.19, -48.79], [-18.1, -44.38], [-22.19, -48.79], [-24.89, -51.55], [-27.45, -50.95], [-22.19, -48.79], [-22.19, -48.79], [-22.19, -48.79], [-22.19, -48.79], [-19.19, -40.34], [-22.19, -48.79], [-22.19, -48.79], [-22.19, -48.79], [-30.17, -53.5], [-22.19, -48.79], [-15.83, -47.86], [-27.45, -50.95], [-5.2, -39.53], [-22.19, -48.79], [-22.19, -48.79], [-20.51, -54.54], [-22.25, -42.66], [-24.89, -51.55], [-8.38, -37.86], [-22.25, -42.66], [-13.29, -41.71], [-30.17, -53.5], [-22.25, -42.66], [-30.17, -53.5], [-3.47, -65.1], [-22.19, -48.79], [-22.19, -48.79], [-18.1, -44.38], [-22.25, -42.66], [-22.25, -42.66], [-18.1, -44.38], [-24.89, -51.55], [-22.19, -48.79], [-22.19, -48.79], [-24.89, -51.55], [-24.89, -51.55], [-22.19, -48.79], [-22.19, -48.79], [-13.29, -41.71], [-22.25, -42.66], [-19.19, -40.34], [-22.19, -48.79], [-13.29, -41.71], [-22.19, -48.79], [-22.19, -48.79], [-27.45, -50.95], [-24.89, -51.55], [-22.19, -48.79], [-18.1, -44.38], [-13.29, -41.71], [-30.17, -53.5], [-22.19, -48.79], [-19.19, -40.34], [-30.17, -53.5], [-5.42, -45.44], [-22.25, -42.66], [-22.19, -48.79], [-22.25, -42.66], [-22.25, -42.66], [-22.19, -48.79], [-27.45, -50.95], [-15.83, -47.86], [-22.19, -48.79], [-22.19, -48.79], [-22.19, -48.79], [-22.19, -48.79], [-22.19, -48.79], [-30.17, -53.5], [-19.19, -40.34], [-13.29, -41.71], [-22.19, -48.79], [-22.19, -48.79], [-3.47, -65.1], [-22.19, -48.79], [-22.19, -48.79], [-22.19, -48.79], [-22.19, -48.79], [-15.83, -47.86], [-30.17, -53.5], [-5.2, -39.53], [-24.89, -51.55], [-22.19, -48.79], [-22.19, -48.79], [-22.19, -48.79], [-22.19, -48.79], [-22.19, -48.79], [-22.19, -48.79], [-13.29, -41.71], [-27.45, -50.95], [-15.83, -47.86], [-22.19, -48.79], [-5.42, -45.44], [-13.29, -41.71], [-22.19, -48.79], [-22.25, -42.66], [-22.19, -48.79], [-18.1, -44.38], [-24.89, -51.55], [-22.19, -48.79], [-22.19, -48.79], [-22.19, -48.79], [-22.19, -48.79], [-22.19, -48.79], [-22.25, -42.66], [-15.83, -47.86], [-22.19, -48.79], [-6.6, -42.28], [-22.19, -48.79], [-24.89, -51.55], [-22.19, -48.79], [-18.1, -44.38], [-18.1, -44.38], [-18.1, -44.38], [-6.6, -42.28], [-27.45, -50.95], [-18.1, -44.38], [-5.2, -39.53], [-22.19, -48.79], [-18.1, -44.38], [-22.19, -48.79], [-22.19, -48.79], [-18.1, -44.38], [-3.79, -52.48], [-22.25, -42.66], [-6.6, -42.28], [-19.19, -40.34], [-22.19, -48.79], [-18.1, -44.38], [-22.19, -48.79], [-13.29, -41.71], [-30.17, -53.5], [-22.19, -48.79], [-22.19, -48.79], [-15.83, -47.86], [-22.19, -48.79], [-22.19, -48.79], [-22.19, -48.79], [-22.19, -48.79], [-22.19, -48.79], [-22.19, -48.79], [-15.83, -47.86], [-22.19, -48.79], [-22.19, -48.79], [-30.17, -53.5], [-27.45, -50.95], [-18.1, -44.38], [-8.38, -37.86], [-22.19, -48.79], [-22.19, -48.79], [-8.38, -37.86], [-30.17, -53.5], [-22.25, -42.66], [-19.19, -40.34], [-18.1, -44.38], [-22.19, -48.79], [-22.19, -48.79], [-22.25, -42.66], [-22.19, -48.79], [-22.19, -48.79], [-22.25, -42.66], [-22.19, -48.79], [-18.1, -44.38], [-22.19, -48.79], [-24.89, -51.55], [-22.19, -48.79], [-20.51, -54.54], [-18.1, -44.38], [-7.28, -36.72], [-18.1, -44.38], [-22.19, -48.79], [-5.2, -39.53], [-19.19, -40.34], [-22.19, -48.79], [-30.17, -53.5], [-13.29, -41.71], [-15.98, -49.86], [-22.19, -48.79], [-20.51, -54.54], [-22.25, -42.66], [-5.81, -36.59], [-22.19, -48.79], [-10.83, -63.34], [-22.25, -42.66], [-22.19, -48.79], [-18.1, -44.38], [-22.19, -48.79], [-22.19, -48.79], [-22.19, -48.79], [-3.79, -52.48], [-18.1, -44.38], [-22.25, -42.66], [-5.42, -45.44], [-22.19, -48.79], [-18.1, -44.38], [-22.19, -48.79], [-24.89, -51.55], [-22.19, -48.79], [-18.1, -44.38], [-22.25, -42.66], [-19.19, -40.34], [-7.28, -36.72], [-19.19, -40.34], [-22.25, -42.66], [-12.64, -55.42], [-22.25, -42.66], [-24.89, -51.55], [-22.19, -48.79], [-22.19, -48.79], [-22.25, -42.66], [-18.1, -44.38], [-22.19, -48.79], [-27.45, -50.95], [-22.25, -42.66], [-24.89, -51.55], [-8.38, -37.86], [-18.1, -44.38], [-27.45, -50.95], [-18.1, -44.38], [-22.19, -48.79], [-27.45, -50.95], [-22.19, -48.79], [-22.19, -48.79], [-18.1, -44.38], [-22.19, -48.79], [-22.19, -48.79], [-22.19, -48.79], [-15.83, -47.86], [-20.51, -54.54], [-22.19, -48.79], [-18.1, -44.38], [-22.19, -48.79], [-22.19, -48.79], [-22.19, -48.79], [-22.19, -48.79], [-24.89, -51.55], [-13.29, -41.71], [-22.19, -48.79], [-22.25, -42.66], [-22.19, -48.79], [-22.19, -48.79], [-24.89, -51.55], [-18.1, -44.38], [-22.19, -48.79], [-22.19, -48.79], [-22.19, -48.79], [-22.19, -48.79], [-13.29, -41.71], [-22.25, -42.66], [-5.81, -36.59], [-22.19, -48.79], [-27.45, -50.95], [-30.17, -53.5], [-24.89, -51.55], [-24.89, -51.55], [-27.45, -50.95], [-18.1, -44.38], [-12.64, -55.42], [-8.38, -37.86], [-18.1, -44.38], [-22.19, -48.79], [-22.19, -48.79], [-24.89, -51.55], [-22.19, -48.79], [-22.19, -48.79], [-22.19, -48.79], [-13.29, -41.71], [-24.89, -51.55], [-22.19, -48.79], [-27.45, -50.95], [-24.89, -51.55], [-22.25, -42.66], [-22.19, -48.79], [-22.19, -48.79], [-22.19, -48.79], [-22.19, -48.79], [-22.19, -48.79], [-22.19, -48.79], [-22.19, -48.79], [-15.98, -49.86], [-20.51, -54.54], [-18.1, -44.38], [-18.1, -44.38], [-22.19, -48.79], [-22.25, -42.66], [-5.42, -45.44], [-22.19, -48.79], [-19.19, -40.34], [-24.89, -51.55], [-22.25, -42.66], [-20.51, -54.54], [-24.89, -51.55], [-13.29, -41.71], [-22.19, -48.79], [-22.19, -48.79], [-18.1, -44.38], [-22.19, -48.79], [-22.25, -42.66], [-15.98, -49.86], [-22.25, -42.66], [-22.19, -48.79], [-6.6, -42.28], [-27.45, -50.95], [-30.17, -53.5], [-24.89, -51.55], [-22.25, -42.66], [-20.51, -54.54], [1.41, -51.77], [-18.1, -44.38], [-5.42, -45.44], [-15.83, -47.86], [-15.83, -47.86], [-13.29, -41.71], [-22.19, -48.79], [-22.19, -48.79], [-22.19, -48.79], [-20.51, -54.54], [-22.19, -48.79], [-22.19, -48.79], [-20.51, -54.54], [-22.19, -48.79], [-22.19, -48.79], [-24.89, -51.55], [-22.25, -42.66], [-15.83, -47.86], [-24.89, -51.55], [-22.25, -42.66], [-30.17, -53.5], [-5.81, -36.59], [-8.38, -37.86], [-6.6, -42.28], [-5.2, -39.53], [-22.19, -48.79], [-24.89, -51.55], [-22.19, -48.79], [-13.29, -41.71], [-22.25, -42.66], [-22.19, -48.79], [-22.19, -48.79], [-22.19, -48.79], [-22.25, -42.66], [-22.19, -48.79], [-22.25, -42.66], [-22.19, -48.79], [-22.19, -48.79], [-18.1, -44.38], [-22.19, -48.79], [-22.19, -48.79], [-22.19, -48.79], [-27.45, -50.95], [-22.19, -48.79], [-13.29, -41.71], [-22.19, -48.79], [-15.98, -49.86], [-22.25, -42.66], [-18.1, -44.38], [-18.1, -44.38], [-20.51, -54.54], [-22.19, -48.79], [-22.19, -48.79], [-24.89, -51.55], [-3.79, -52.48], [-22.19, -48.79], [-18.1, -44.38], [-27.45, -50.95], [-19.19, -40.34], [-22.19, -48.79], [-22.19, -48.79], [-8.38, -37.86], [-22.19, -48.79], [-27.45, -50.95], [-22.19, -48.79], [-22.19, -48.79], [-30.17, -53.5], [-22.19, -48.79], [-13.29, -41.71], [-5.42, -45.44], [-22.19, -48.79], [-24.89, -51.55], [-22.25, -42.66], [-8.38, -37.86], [-22.19, -48.79], [-22.19, -48.79], [-22.25, -42.66], [-30.17, -53.5], [-22.19, -48.79], [-22.19, -48.79], [-22.19, -48.79], [-22.19, -48.79], [-27.45, -50.95], [-30.17, -53.5], [-22.19, -48.79], [-22.19, -48.79], [-6.6, -42.28], [-22.19, -48.79], [-18.1, -44.38], [-22.19, -48.79], [-22.19, -48.79], [-5.81, -36.59], [-8.38, -37.86], [-15.98, -49.86], [-15.98, -49.86], [-22.19, -48.79], [-27.45, -50.95], [-8.38, -37.86], [-27.45, -50.95], [-22.19, -48.79], [-22.19, -48.79], [-27.45, -50.95], [-6.6, -42.28], [-22.19, -48.79], [-24.89, -51.55], [-6.6, -42.28], [-22.19, -48.79], [-22.19, -48.79], [-19.19, -40.34], [-22.25, -42.66], [-22.19, -48.79], [-15.83, -47.86], [-22.19, -48.79], [-22.25, -42.66], [-24.89, -51.55], [-22.19, -48.79], [-22.19, -48.79], [-22.19, -48.79], [-27.45, -50.95], [-22.25, -42.66], [-18.1, -44.38], [-3.79, -52.48], [-22.19, -48.79], [-22.19, -48.79], [-22.19, -48.79], [-22.19, -48.79], [-22.19, -48.79], [-18.1, -44.38], [-22.19, -48.79], [-15.98, -49.86], [-22.19, -48.79], [-15.83, -47.86], [-22.19, -48.79], [-22.25, -42.66], [-5.42, -45.44], [-18.1, -44.38], [-13.29, -41.71], [-22.19, -48.79], [-22.25, -42.66], [-5.2, -39.53], [-12.64, -55.42], [-22.25, -42.66], [-22.19, -48.79], [-22.19, -48.79], [-22.25, -42.66], [-13.29, -41.71], [-13.29, -41.71], [-22.19, -48.79], [-15.83, -47.86], [-22.25, -42.66], [-22.19, -48.79], [-22.19, -48.79], [-13.29, -41.71], [-22.19, -48.79], [-30.17, -53.5], [-22.19, -48.79], [-22.19, -48.79], [-22.19, -48.79], [-3.79, -52.48], [-30.17, -53.5], [-22.25, -42.66], [-22.19, -48.79], [-22.19, -48.79], [-22.19, -48.79], [-7.28, -36.72], [-22.19, -48.79], [-22.25, -42.66], [-22.19, -48.79], [-22.19, -48.79], [-22.19, -48.79], [-22.19, -48.79], [-22.19, -48.79], [-24.89, -51.55], [-30.17, -53.5], [-22.19, -48.79], [-22.19, -48.79], [-24.89, -51.55], [-22.19, -48.79], [-24.89, -51.55], [-22.19, -48.79], [-22.19, -48.79], [-15.98, -49.86], [-24.89, -51.55], [-24.89, -51.55], [-15.98, -49.86], [-22.19, -48.79], [-30.17, -53.5], [-22.19, -48.79], [-22.19, -48.79], [-22.19, -48.79], [-22.19, -48.79], [-18.1, -44.38], [-22.25, -42.66], [-30.17, -53.5], [-8.38, -37.86], [-22.19, -48.79], [-22.19, -48.79], [-22.25, -42.66], [-22.19, -48.79], [-22.19, -48.79], [-22.25, -42.66], [-18.1, -44.38], [-22.19, -48.79], [-22.25, -42.66], [-5.2, -39.53], [-22.19, -48.79], [-22.25, -42.66], [-22.19, -48.79], [-22.19, -48.79], [-18.1, -44.38], [-18.1, -44.38], [-6.6, -42.28], [-13.29, -41.71], [-22.19, -48.79], [-22.19, -48.79], [-22.19, -48.79], [-13.29, -41.71], [-24.89, -51.55], [-8.38, -37.86], [-27.45, -50.95], [-22.25, -42.66], [-22.19, -48.79], [-27.45, -50.95], [-22.19, -48.79], [-22.25, -42.66], [-22.19, -48.79], [-22.19, -48.79], [-22.19, -48.79], [-22.25, -42.66], [-22.25, -42.66], [-18.1, -44.38], [-13.29, -41.71], [-22.19, -48.79], [-22.19, -48.79], [-22.19, -48.79], [-22.19, -48.79], [-22.19, -48.79], [-22.19, -48.79], [-18.1, -44.38], [-22.19, -48.79], [-13.29, -41.71], [-22.25, -42.66], [-22.25, -42.66], [-18.1, -44.38], [-18.1, -44.38], [-24.89, -51.55], [-27.45, -50.95], [-24.89, -51.55], [-22.19, -48.79], [-22.19, -48.79], [-24.89, -51.55], [-22.19, -48.79], [-22.19, -48.79], [-22.19, -48.79], [-22.25, -42.66], [-8.38, -37.86], [-13.29, -41.71], [-22.19, -48.79], [-18.1, -44.38], [-22.19, -48.79], [-22.19, -48.79], [-22.19, -48.79], [-13.29, -41.71], [-27.45, -50.95], [-22.19, -48.79], [-22.19, -48.79], [-22.19, -48.79], [-27.45, -50.95], [-18.1, -44.38], [-22.19, -48.79], [-24.89, -51.55], [-19.19, -40.34], [-22.19, -48.79], [-22.19, -48.79], [-22.19, -48.79], [-22.19, -48.79], [-18.1, -44.38], [-22.25, -42.66], [-22.19, -48.79], [-22.25, -42.66], [-19.19, -40.34], [-22.19, -48.79], [-22.19, -48.79], [-22.19, -48.79], [-27.45, -50.95], [-30.17, -53.5], [-18.1, -44.38], [-27.45, -50.95], [-18.1, -44.38], [-18.1, -44.38], [-22.19, -48.79], [-22.19, -48.79], [-6.6, -42.28], [-3.79, -52.48], [-22.25, -42.66], [-22.19, -48.79], [-13.29, -41.71], [-22.25, -42.66], [-13.29, -41.71], [-18.1, -44.38], [-22.19, -48.79], [-30.17, -53.5], [-22.19, -48.79], [-30.17, -53.5], [-22.19, -48.79], [-22.25, -42.66], [-22.25, -42.66], [-18.1, -44.38], [-22.19, -48.79], [-22.25, -42.66], [-22.25, -42.66], [-18.1, -44.38], [-27.45, -50.95], [-22.25, -42.66], [-15.98, -49.86], [-5.2, -39.53], [-22.19, -48.79], [-19.19, -40.34], [-22.19, -48.79], [-22.19, -48.79], [-5.81, -36.59], [-22.19, -48.79], [-18.1, -44.38], [-15.83, -47.86], [-12.64, -55.42], [-22.19, -48.79], [-22.19, -48.79], [-24.89, -51.55], [-22.19, -48.79], [-24.89, -51.55], [-8.38, -37.86], [-18.1, -44.38], [-22.19, -48.79], [-13.29, -41.71], [-22.19, -48.79], [-18.1, -44.38], [-22.19, -48.79], [-30.17, -53.5], [-27.45, -50.95], [-22.25, -42.66], [-18.1, -44.38], [-22.19, -48.79], [-22.19, -48.79], [-22.25, -42.66], [-27.45, -50.95], [-15.83, -47.86], [-30.17, -53.5], [-13.29, -41.71], [-19.19, -40.34], [-3.79, -52.48], [-18.1, -44.38], [-22.19, -48.79], [-18.1, -44.38], [-22.19, -48.79], [-22.25, -42.66], [-18.1, -44.38], [-18.1, -44.38], [-22.19, -48.79], [-22.19, -48.79], [-22.19, -48.79], [-18.1, -44.38], [-22.19, -48.79], [-22.19, -48.79], [-22.19, -48.79], [-8.38, -37.86], [-18.1, -44.38], [-22.19, -48.79], [-22.19, -48.79], [-22.25, -42.66], [-22.19, -48.79], [-22.19, -48.79], [-18.1, -44.38], [-30.17, -53.5], [-24.89, -51.55], [-15.98, -49.86], [-22.19, -48.79], [-22.25, -42.66], [-22.19, -48.79], [-13.29, -41.71], [-18.1, -44.38], [-22.19, -48.79], [-22.19, -48.79], [-30.17, -53.5], [-5.81, -36.59], [-22.19, -48.79], [-24.89, -51.55], [-22.25, -42.66], [-22.25, -42.66], [-5.2, -39.53], [-22.19, -48.79], [-18.1, -44.38], [-18.1, -44.38], [-30.17, -53.5], [-30.17, -53.5], [-8.38, -37.86], [-18.1, -44.38], [-18.1, -44.38], [-22.19, -48.79], [-30.17, -53.5], [-22.19, -48.79], [-22.25, -42.66], [-7.28, -36.72], [-22.19, -48.79], [-22.19, -48.79], [-22.19, -48.79], [-13.29, -41.71], [-22.19, -48.79], [-22.25, -42.66], [-22.19, -48.79], [-22.25, -42.66], [-22.25, -42.66], [-22.19, -48.79], [-22.19, -48.79], [-22.19, -48.79], [-30.17, -53.5], [-8.38, -37.86], [-22.19, -48.79], [-18.1, -44.38], [-22.25, -42.66], [-30.17, -53.5], [-18.1, -44.38], [-18.1, -44.38], [-22.19, -48.79], [-22.19, -48.79], [-22.19, -48.79], [-13.29, -41.71], [-22.19, -48.79], [-22.19, -48.79], [-24.89, -51.55], [-18.1, -44.38], [-22.25, -42.66], [-19.19, -40.34], [-22.19, -48.79], [-30.17, -53.5], [-5.2, -39.53], [-13.29, -41.71], [-18.1, -44.38], [-22.19, -48.79], [-18.1, -44.38], [-18.1, -44.38], [-22.19, -48.79], [-22.19, -48.79], [-22.19, -48.79], [-22.19, -48.79], [-22.25, -42.66], [-22.19, -48.79], [-22.19, -48.79], [-22.19, -48.79], [-22.25, -42.66], [-18.1, -44.38], [-22.19, -48.79], [-22.25, -42.66], [-20.51, -54.54], [-22.19, -48.79], [-22.19, -48.79], [-22.25, -42.66], [-22.25, -42.66], [-22.25, -42.66], [-22.25, -42.66], [-13.29, -41.71], [-18.1, -44.38], [-30.17, -53.5], [-22.19, -48.79], [-27.45, -50.95], [-24.89, -51.55], [-22.25, -42.66], [-22.25, -42.66], [-12.64, -55.42], [-22.19, -48.79], [-18.1, -44.38], [-22.25, -42.66], [-22.19, -48.79], [-30.17, -53.5], [-22.25, -42.66], [-30.17, -53.5], [-5.42, -45.44], [-30.17, -53.5], [-18.1, -44.38], [-24.89, -51.55], [-15.83, -47.86], [-30.17, -53.5], [-18.1, -44.38], [-18.1, -44.38], [-27.45, -50.95], [-22.19, -48.79], [-22.19, -48.79], [-18.1, -44.38], [-18.1, -44.38], [-24.89, -51.55], [-22.25, -42.66], [-22.19, -48.79], [-22.19, -48.79], [-22.19, -48.79], [-18.1, -44.38], [-30.17, -53.5], [-13.29, -41.71], [-22.19, -48.79], [-5.2, -39.53], [-18.1, -44.38], [-5.2, -39.53], [-7.28, -36.72], [-22.19, -48.79], [-22.19, -48.79], [-18.1, -44.38], [-22.19, -48.79], [-8.38, -37.86], [-22.25, -42.66], [-22.19, -48.79], [-22.19, -48.79], [-7.28, -36.72], [-22.19, -48.79], [-22.25, -42.66], [-22.19, -48.79], [-24.89, -51.55], [-22.19, -48.79], [-22.19, -48.79], [-18.1, -44.38], [-22.25, -42.66], [-24.89, -51.55], [-22.19, -48.79], [-18.1, -44.38], [-22.25, -42.66], [-15.98, -49.86], [-15.83, -47.86], [-24.89, -51.55], [-18.1, -44.38], [-30.17, -53.5], [-18.1, -44.38], [-22.19, -48.79], [-15.83, -47.86], [-30.17, -53.5], [-8.38, -37.86], [-15.83, -47.86], [-22.19, -48.79], [-22.19, -48.79], [-22.19, -48.79], [-22.19, -48.79], [-22.19, -48.79], [-22.19, -48.79], [-27.45, -50.95], [-22.19, -48.79], [-30.17, -53.5], [-30.17, -53.5], [-19.19, -40.34], [-8.38, -37.86], [-22.25, -42.66], [-22.19, -48.79], [-22.19, -48.79], [-22.19, -48.79], [-22.19, -48.79], [-22.25, -42.66], [-22.19, -48.79], [-22.19, -48.79], [-22.19, -48.79], [-18.1, -44.38], [-13.29, -41.71], [-22.19, -48.79], [-22.19, -48.79], [-22.19, -48.79], [-22.19, -48.79], [-13.29, -41.71], [-30.17, -53.5], [-5.2, -39.53], [-12.64, -55.42], [-22.19, -48.79], [-22.19, -48.79], [-22.19, -48.79], [-13.29, -41.71], [-22.19, -48.79], [-30.17, -53.5], [-22.25, -42.66], [-22.25, -42.66], [-8.38, -37.86], [-22.19, -48.79], [-24.89, -51.55], [-22.19, -48.79]],\n",
              "                {\n",
              "  &quot;minOpacity&quot;: 0.5,\n",
              "  &quot;maxZoom&quot;: 18,\n",
              "  &quot;radius&quot;: 25,\n",
              "  &quot;blur&quot;: 15,\n",
              "}\n",
              "            );\n",
              "        \n",
              "    \n",
              "            heat_map_70d4dea9ef0ff670d2afa277b5ee8c5d.addTo(map_38fd1a62f44601c20dbd193725a2034d);\n",
              "        \n",
              "    \n",
              "            tile_layer_614ea3d3e6df00b0c6a7c326c3aa165e.addTo(map_38fd1a62f44601c20dbd193725a2034d);\n",
              "        \n",
              "    \n",
              "            heat_map_70d4dea9ef0ff670d2afa277b5ee8c5d.addTo(map_38fd1a62f44601c20dbd193725a2034d);\n",
              "        \n",
              "&lt;/script&gt;\n",
              "&lt;/html&gt;\" style=\"position:absolute;width:100%;height:100%;left:0;top:0;border:none !important;\" allowfullscreen webkitallowfullscreen mozallowfullscreen></iframe></div></div>"
            ]
          },
          "metadata": {},
          "execution_count": 75
        }
      ]
    }
  ]
}