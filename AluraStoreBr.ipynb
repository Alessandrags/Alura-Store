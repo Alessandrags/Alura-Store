{
  "nbformat": 4,
  "nbformat_minor": 0,
  "metadata": {
    "colab": {
      "provenance": [],
      "include_colab_link": true
    },
    "kernelspec": {
      "name": "python3",
      "display_name": "Python 3"
    },
    "language_info": {
      "name": "python"
    }
  },
  "cells": [
    {
      "cell_type": "markdown",
      "metadata": {
        "id": "view-in-github",
        "colab_type": "text"
      },
      "source": [
        "<a href=\"https://colab.research.google.com/github/Alessandrags/Alura-Store/blob/main/AluraStoreBr.ipynb\" target=\"_parent\"><img src=\"https://colab.research.google.com/assets/colab-badge.svg\" alt=\"Open In Colab\"/></a>"
      ]
    },
    {
      "cell_type": "markdown",
      "source": [
        "### Importação dos dados\n",
        "\n"
      ],
      "metadata": {
        "id": "RhEdWd9YUR6H"
      }
    },
    {
      "cell_type": "code",
      "execution_count": 35,
      "metadata": {
        "colab": {
          "base_uri": "https://localhost:8080/",
          "height": 206
        },
        "id": "T3EvaeQ_INIL",
        "outputId": "d2e0eb8e-deca-4f2d-931a-a929e1087691"
      },
      "outputs": [
        {
          "output_type": "execute_result",
          "data": {
            "text/plain": [
              "                 Produto Categoria do Produto    Preço      Frete  \\\n",
              "0     Assistente virtual          eletronicos   219.08   9.249790   \n",
              "1         Mesa de jantar               moveis   256.35  11.234305   \n",
              "2      Jogo de tabuleiro           brinquedos   279.51  21.262681   \n",
              "3            Micro-ondas     eletrodomesticos  1009.99  54.667344   \n",
              "4  Cadeira de escritório               moveis   446.99  26.964689   \n",
              "\n",
              "  Data da Compra        Vendedor Local da compra  Avaliação da compra  \\\n",
              "0     16/01/2021     Pedro Gomes              SP                    4   \n",
              "1     18/05/2022  Beatriz Moraes              RJ                    1   \n",
              "2     15/03/2021      João Souza              DF                    1   \n",
              "3     03/05/2022      João Souza              RS                    4   \n",
              "4     07/11/2020   Larissa Alves              MG                    5   \n",
              "\n",
              "  Tipo de pagamento  Quantidade de parcelas    lat    lon  \n",
              "0    cartao_credito                       8 -22.19 -48.79  \n",
              "1    cartao_credito                       4 -22.25 -42.66  \n",
              "2    cartao_credito                       1 -15.83 -47.86  \n",
              "3            boleto                       1 -30.17 -53.50  \n",
              "4            boleto                       1 -18.10 -44.38  "
            ],
            "text/html": [
              "\n",
              "  <div id=\"df-fd27f6b6-d168-4261-92f7-82fe057c0961\" class=\"colab-df-container\">\n",
              "    <div>\n",
              "<style scoped>\n",
              "    .dataframe tbody tr th:only-of-type {\n",
              "        vertical-align: middle;\n",
              "    }\n",
              "\n",
              "    .dataframe tbody tr th {\n",
              "        vertical-align: top;\n",
              "    }\n",
              "\n",
              "    .dataframe thead th {\n",
              "        text-align: right;\n",
              "    }\n",
              "</style>\n",
              "<table border=\"1\" class=\"dataframe\">\n",
              "  <thead>\n",
              "    <tr style=\"text-align: right;\">\n",
              "      <th></th>\n",
              "      <th>Produto</th>\n",
              "      <th>Categoria do Produto</th>\n",
              "      <th>Preço</th>\n",
              "      <th>Frete</th>\n",
              "      <th>Data da Compra</th>\n",
              "      <th>Vendedor</th>\n",
              "      <th>Local da compra</th>\n",
              "      <th>Avaliação da compra</th>\n",
              "      <th>Tipo de pagamento</th>\n",
              "      <th>Quantidade de parcelas</th>\n",
              "      <th>lat</th>\n",
              "      <th>lon</th>\n",
              "    </tr>\n",
              "  </thead>\n",
              "  <tbody>\n",
              "    <tr>\n",
              "      <th>0</th>\n",
              "      <td>Assistente virtual</td>\n",
              "      <td>eletronicos</td>\n",
              "      <td>219.08</td>\n",
              "      <td>9.249790</td>\n",
              "      <td>16/01/2021</td>\n",
              "      <td>Pedro Gomes</td>\n",
              "      <td>SP</td>\n",
              "      <td>4</td>\n",
              "      <td>cartao_credito</td>\n",
              "      <td>8</td>\n",
              "      <td>-22.19</td>\n",
              "      <td>-48.79</td>\n",
              "    </tr>\n",
              "    <tr>\n",
              "      <th>1</th>\n",
              "      <td>Mesa de jantar</td>\n",
              "      <td>moveis</td>\n",
              "      <td>256.35</td>\n",
              "      <td>11.234305</td>\n",
              "      <td>18/05/2022</td>\n",
              "      <td>Beatriz Moraes</td>\n",
              "      <td>RJ</td>\n",
              "      <td>1</td>\n",
              "      <td>cartao_credito</td>\n",
              "      <td>4</td>\n",
              "      <td>-22.25</td>\n",
              "      <td>-42.66</td>\n",
              "    </tr>\n",
              "    <tr>\n",
              "      <th>2</th>\n",
              "      <td>Jogo de tabuleiro</td>\n",
              "      <td>brinquedos</td>\n",
              "      <td>279.51</td>\n",
              "      <td>21.262681</td>\n",
              "      <td>15/03/2021</td>\n",
              "      <td>João Souza</td>\n",
              "      <td>DF</td>\n",
              "      <td>1</td>\n",
              "      <td>cartao_credito</td>\n",
              "      <td>1</td>\n",
              "      <td>-15.83</td>\n",
              "      <td>-47.86</td>\n",
              "    </tr>\n",
              "    <tr>\n",
              "      <th>3</th>\n",
              "      <td>Micro-ondas</td>\n",
              "      <td>eletrodomesticos</td>\n",
              "      <td>1009.99</td>\n",
              "      <td>54.667344</td>\n",
              "      <td>03/05/2022</td>\n",
              "      <td>João Souza</td>\n",
              "      <td>RS</td>\n",
              "      <td>4</td>\n",
              "      <td>boleto</td>\n",
              "      <td>1</td>\n",
              "      <td>-30.17</td>\n",
              "      <td>-53.50</td>\n",
              "    </tr>\n",
              "    <tr>\n",
              "      <th>4</th>\n",
              "      <td>Cadeira de escritório</td>\n",
              "      <td>moveis</td>\n",
              "      <td>446.99</td>\n",
              "      <td>26.964689</td>\n",
              "      <td>07/11/2020</td>\n",
              "      <td>Larissa Alves</td>\n",
              "      <td>MG</td>\n",
              "      <td>5</td>\n",
              "      <td>boleto</td>\n",
              "      <td>1</td>\n",
              "      <td>-18.10</td>\n",
              "      <td>-44.38</td>\n",
              "    </tr>\n",
              "  </tbody>\n",
              "</table>\n",
              "</div>\n",
              "    <div class=\"colab-df-buttons\">\n",
              "\n",
              "  <div class=\"colab-df-container\">\n",
              "    <button class=\"colab-df-convert\" onclick=\"convertToInteractive('df-fd27f6b6-d168-4261-92f7-82fe057c0961')\"\n",
              "            title=\"Convert this dataframe to an interactive table.\"\n",
              "            style=\"display:none;\">\n",
              "\n",
              "  <svg xmlns=\"http://www.w3.org/2000/svg\" height=\"24px\" viewBox=\"0 -960 960 960\">\n",
              "    <path d=\"M120-120v-720h720v720H120Zm60-500h600v-160H180v160Zm220 220h160v-160H400v160Zm0 220h160v-160H400v160ZM180-400h160v-160H180v160Zm440 0h160v-160H620v160ZM180-180h160v-160H180v160Zm440 0h160v-160H620v160Z\"/>\n",
              "  </svg>\n",
              "    </button>\n",
              "\n",
              "  <style>\n",
              "    .colab-df-container {\n",
              "      display:flex;\n",
              "      gap: 12px;\n",
              "    }\n",
              "\n",
              "    .colab-df-convert {\n",
              "      background-color: #E8F0FE;\n",
              "      border: none;\n",
              "      border-radius: 50%;\n",
              "      cursor: pointer;\n",
              "      display: none;\n",
              "      fill: #1967D2;\n",
              "      height: 32px;\n",
              "      padding: 0 0 0 0;\n",
              "      width: 32px;\n",
              "    }\n",
              "\n",
              "    .colab-df-convert:hover {\n",
              "      background-color: #E2EBFA;\n",
              "      box-shadow: 0px 1px 2px rgba(60, 64, 67, 0.3), 0px 1px 3px 1px rgba(60, 64, 67, 0.15);\n",
              "      fill: #174EA6;\n",
              "    }\n",
              "\n",
              "    .colab-df-buttons div {\n",
              "      margin-bottom: 4px;\n",
              "    }\n",
              "\n",
              "    [theme=dark] .colab-df-convert {\n",
              "      background-color: #3B4455;\n",
              "      fill: #D2E3FC;\n",
              "    }\n",
              "\n",
              "    [theme=dark] .colab-df-convert:hover {\n",
              "      background-color: #434B5C;\n",
              "      box-shadow: 0px 1px 3px 1px rgba(0, 0, 0, 0.15);\n",
              "      filter: drop-shadow(0px 1px 2px rgba(0, 0, 0, 0.3));\n",
              "      fill: #FFFFFF;\n",
              "    }\n",
              "  </style>\n",
              "\n",
              "    <script>\n",
              "      const buttonEl =\n",
              "        document.querySelector('#df-fd27f6b6-d168-4261-92f7-82fe057c0961 button.colab-df-convert');\n",
              "      buttonEl.style.display =\n",
              "        google.colab.kernel.accessAllowed ? 'block' : 'none';\n",
              "\n",
              "      async function convertToInteractive(key) {\n",
              "        const element = document.querySelector('#df-fd27f6b6-d168-4261-92f7-82fe057c0961');\n",
              "        const dataTable =\n",
              "          await google.colab.kernel.invokeFunction('convertToInteractive',\n",
              "                                                    [key], {});\n",
              "        if (!dataTable) return;\n",
              "\n",
              "        const docLinkHtml = 'Like what you see? Visit the ' +\n",
              "          '<a target=\"_blank\" href=https://colab.research.google.com/notebooks/data_table.ipynb>data table notebook</a>'\n",
              "          + ' to learn more about interactive tables.';\n",
              "        element.innerHTML = '';\n",
              "        dataTable['output_type'] = 'display_data';\n",
              "        await google.colab.output.renderOutput(dataTable, element);\n",
              "        const docLink = document.createElement('div');\n",
              "        docLink.innerHTML = docLinkHtml;\n",
              "        element.appendChild(docLink);\n",
              "      }\n",
              "    </script>\n",
              "  </div>\n",
              "\n",
              "\n",
              "    <div id=\"df-df8c0b07-7ab4-4da6-8f40-b0e07a20310a\">\n",
              "      <button class=\"colab-df-quickchart\" onclick=\"quickchart('df-df8c0b07-7ab4-4da6-8f40-b0e07a20310a')\"\n",
              "                title=\"Suggest charts\"\n",
              "                style=\"display:none;\">\n",
              "\n",
              "<svg xmlns=\"http://www.w3.org/2000/svg\" height=\"24px\"viewBox=\"0 0 24 24\"\n",
              "     width=\"24px\">\n",
              "    <g>\n",
              "        <path d=\"M19 3H5c-1.1 0-2 .9-2 2v14c0 1.1.9 2 2 2h14c1.1 0 2-.9 2-2V5c0-1.1-.9-2-2-2zM9 17H7v-7h2v7zm4 0h-2V7h2v10zm4 0h-2v-4h2v4z\"/>\n",
              "    </g>\n",
              "</svg>\n",
              "      </button>\n",
              "\n",
              "<style>\n",
              "  .colab-df-quickchart {\n",
              "      --bg-color: #E8F0FE;\n",
              "      --fill-color: #1967D2;\n",
              "      --hover-bg-color: #E2EBFA;\n",
              "      --hover-fill-color: #174EA6;\n",
              "      --disabled-fill-color: #AAA;\n",
              "      --disabled-bg-color: #DDD;\n",
              "  }\n",
              "\n",
              "  [theme=dark] .colab-df-quickchart {\n",
              "      --bg-color: #3B4455;\n",
              "      --fill-color: #D2E3FC;\n",
              "      --hover-bg-color: #434B5C;\n",
              "      --hover-fill-color: #FFFFFF;\n",
              "      --disabled-bg-color: #3B4455;\n",
              "      --disabled-fill-color: #666;\n",
              "  }\n",
              "\n",
              "  .colab-df-quickchart {\n",
              "    background-color: var(--bg-color);\n",
              "    border: none;\n",
              "    border-radius: 50%;\n",
              "    cursor: pointer;\n",
              "    display: none;\n",
              "    fill: var(--fill-color);\n",
              "    height: 32px;\n",
              "    padding: 0;\n",
              "    width: 32px;\n",
              "  }\n",
              "\n",
              "  .colab-df-quickchart:hover {\n",
              "    background-color: var(--hover-bg-color);\n",
              "    box-shadow: 0 1px 2px rgba(60, 64, 67, 0.3), 0 1px 3px 1px rgba(60, 64, 67, 0.15);\n",
              "    fill: var(--button-hover-fill-color);\n",
              "  }\n",
              "\n",
              "  .colab-df-quickchart-complete:disabled,\n",
              "  .colab-df-quickchart-complete:disabled:hover {\n",
              "    background-color: var(--disabled-bg-color);\n",
              "    fill: var(--disabled-fill-color);\n",
              "    box-shadow: none;\n",
              "  }\n",
              "\n",
              "  .colab-df-spinner {\n",
              "    border: 2px solid var(--fill-color);\n",
              "    border-color: transparent;\n",
              "    border-bottom-color: var(--fill-color);\n",
              "    animation:\n",
              "      spin 1s steps(1) infinite;\n",
              "  }\n",
              "\n",
              "  @keyframes spin {\n",
              "    0% {\n",
              "      border-color: transparent;\n",
              "      border-bottom-color: var(--fill-color);\n",
              "      border-left-color: var(--fill-color);\n",
              "    }\n",
              "    20% {\n",
              "      border-color: transparent;\n",
              "      border-left-color: var(--fill-color);\n",
              "      border-top-color: var(--fill-color);\n",
              "    }\n",
              "    30% {\n",
              "      border-color: transparent;\n",
              "      border-left-color: var(--fill-color);\n",
              "      border-top-color: var(--fill-color);\n",
              "      border-right-color: var(--fill-color);\n",
              "    }\n",
              "    40% {\n",
              "      border-color: transparent;\n",
              "      border-right-color: var(--fill-color);\n",
              "      border-top-color: var(--fill-color);\n",
              "    }\n",
              "    60% {\n",
              "      border-color: transparent;\n",
              "      border-right-color: var(--fill-color);\n",
              "    }\n",
              "    80% {\n",
              "      border-color: transparent;\n",
              "      border-right-color: var(--fill-color);\n",
              "      border-bottom-color: var(--fill-color);\n",
              "    }\n",
              "    90% {\n",
              "      border-color: transparent;\n",
              "      border-bottom-color: var(--fill-color);\n",
              "    }\n",
              "  }\n",
              "</style>\n",
              "\n",
              "      <script>\n",
              "        async function quickchart(key) {\n",
              "          const quickchartButtonEl =\n",
              "            document.querySelector('#' + key + ' button');\n",
              "          quickchartButtonEl.disabled = true;  // To prevent multiple clicks.\n",
              "          quickchartButtonEl.classList.add('colab-df-spinner');\n",
              "          try {\n",
              "            const charts = await google.colab.kernel.invokeFunction(\n",
              "                'suggestCharts', [key], {});\n",
              "          } catch (error) {\n",
              "            console.error('Error during call to suggestCharts:', error);\n",
              "          }\n",
              "          quickchartButtonEl.classList.remove('colab-df-spinner');\n",
              "          quickchartButtonEl.classList.add('colab-df-quickchart-complete');\n",
              "        }\n",
              "        (() => {\n",
              "          let quickchartButtonEl =\n",
              "            document.querySelector('#df-df8c0b07-7ab4-4da6-8f40-b0e07a20310a button');\n",
              "          quickchartButtonEl.style.display =\n",
              "            google.colab.kernel.accessAllowed ? 'block' : 'none';\n",
              "        })();\n",
              "      </script>\n",
              "    </div>\n",
              "\n",
              "    </div>\n",
              "  </div>\n"
            ],
            "application/vnd.google.colaboratory.intrinsic+json": {
              "type": "dataframe",
              "variable_name": "loja",
              "summary": "{\n  \"name\": \"loja\",\n  \"rows\": 2359,\n  \"fields\": [\n    {\n      \"column\": \"Produto\",\n      \"properties\": {\n        \"dtype\": \"category\",\n        \"num_unique_values\": 51,\n        \"samples\": [\n          \"Viol\\u00e3o\",\n          \"Bola de basquete\",\n          \"Smartwatch\"\n        ],\n        \"semantic_type\": \"\",\n        \"description\": \"\"\n      }\n    },\n    {\n      \"column\": \"Categoria do Produto\",\n      \"properties\": {\n        \"dtype\": \"category\",\n        \"num_unique_values\": 8,\n        \"samples\": [\n          \"moveis\",\n          \"esporte e lazer\",\n          \"eletronicos\"\n        ],\n        \"semantic_type\": \"\",\n        \"description\": \"\"\n      }\n    },\n    {\n      \"column\": \"Pre\\u00e7o\",\n      \"properties\": {\n        \"dtype\": \"number\",\n        \"std\": 819.5827782539145,\n        \"min\": 10.07,\n        \"max\": 3969.38,\n        \"num_unique_values\": 2315,\n        \"samples\": [\n          446.11,\n          107.31,\n          65.86\n        ],\n        \"semantic_type\": \"\",\n        \"description\": \"\"\n      }\n    },\n    {\n      \"column\": \"Frete\",\n      \"properties\": {\n        \"dtype\": \"number\",\n        \"std\": 43.814183327408166,\n        \"min\": 0.0,\n        \"max\": 214.3770604781,\n        \"num_unique_values\": 2149,\n        \"samples\": [\n          83.815279607,\n          16.069664669,\n          14.0344876928\n        ],\n        \"semantic_type\": \"\",\n        \"description\": \"\"\n      }\n    },\n    {\n      \"column\": \"Data da Compra\",\n      \"properties\": {\n        \"dtype\": \"object\",\n        \"num_unique_values\": 1018,\n        \"samples\": [\n          \"15/09/2022\",\n          \"03/06/2020\",\n          \"06/11/2021\"\n        ],\n        \"semantic_type\": \"\",\n        \"description\": \"\"\n      }\n    },\n    {\n      \"column\": \"Vendedor\",\n      \"properties\": {\n        \"dtype\": \"category\",\n        \"num_unique_values\": 14,\n        \"samples\": [\n          \"Juliana Costa\",\n          \"Mariana Ferreira\",\n          \"Pedro Gomes\"\n        ],\n        \"semantic_type\": \"\",\n        \"description\": \"\"\n      }\n    },\n    {\n      \"column\": \"Local da compra\",\n      \"properties\": {\n        \"dtype\": \"category\",\n        \"num_unique_values\": 26,\n        \"samples\": [\n          \"TO\",\n          \"RN\",\n          \"SP\"\n        ],\n        \"semantic_type\": \"\",\n        \"description\": \"\"\n      }\n    },\n    {\n      \"column\": \"Avalia\\u00e7\\u00e3o da compra\",\n      \"properties\": {\n        \"dtype\": \"number\",\n        \"std\": 1,\n        \"min\": 1,\n        \"max\": 5,\n        \"num_unique_values\": 5,\n        \"samples\": [\n          1,\n          2,\n          5\n        ],\n        \"semantic_type\": \"\",\n        \"description\": \"\"\n      }\n    },\n    {\n      \"column\": \"Tipo de pagamento\",\n      \"properties\": {\n        \"dtype\": \"category\",\n        \"num_unique_values\": 4,\n        \"samples\": [\n          \"boleto\",\n          \"cartao_debito\",\n          \"cartao_credito\"\n        ],\n        \"semantic_type\": \"\",\n        \"description\": \"\"\n      }\n    },\n    {\n      \"column\": \"Quantidade de parcelas\",\n      \"properties\": {\n        \"dtype\": \"number\",\n        \"std\": 2,\n        \"min\": 1,\n        \"max\": 24,\n        \"num_unique_values\": 15,\n        \"samples\": [\n          7,\n          14,\n          8\n        ],\n        \"semantic_type\": \"\",\n        \"description\": \"\"\n      }\n    },\n    {\n      \"column\": \"lat\",\n      \"properties\": {\n        \"dtype\": \"number\",\n        \"std\": 5.372399916530833,\n        \"min\": -30.17,\n        \"max\": 1.41,\n        \"num_unique_values\": 26,\n        \"samples\": [\n          -9.46,\n          -5.81,\n          -22.19\n        ],\n        \"semantic_type\": \"\",\n        \"description\": \"\"\n      }\n    },\n    {\n      \"column\": \"lon\",\n      \"properties\": {\n        \"dtype\": \"number\",\n        \"std\": 4.183180020544179,\n        \"min\": -70.55,\n        \"max\": -36.59,\n        \"num_unique_values\": 26,\n        \"samples\": [\n          -48.26,\n          -36.59,\n          -48.79\n        ],\n        \"semantic_type\": \"\",\n        \"description\": \"\"\n      }\n    }\n  ]\n}"
            }
          },
          "metadata": {},
          "execution_count": 35
        }
      ],
      "source": [
        "import pandas as pd\n",
        "\n",
        "url = \"https://raw.githubusercontent.com/alura-es-cursos/challenge1-data-science/refs/heads/main/base-de-dados-challenge-1/loja_1.csv\"\n",
        "url2 = \"https://raw.githubusercontent.com/alura-es-cursos/challenge1-data-science/refs/heads/main/base-de-dados-challenge-1/loja_2.csv\"\n",
        "url3 = \"https://raw.githubusercontent.com/alura-es-cursos/challenge1-data-science/refs/heads/main/base-de-dados-challenge-1/loja_3.csv\"\n",
        "url4 = \"https://raw.githubusercontent.com/alura-es-cursos/challenge1-data-science/refs/heads/main/base-de-dados-challenge-1/loja_4.csv\"\n",
        "\n",
        "loja = pd.read_csv(url)\n",
        "loja2 = pd.read_csv(url2)\n",
        "loja3 = pd.read_csv(url3)\n",
        "loja4 = pd.read_csv(url4)\n",
        "\n",
        "loja.head()"
      ]
    },
    {
      "cell_type": "markdown",
      "source": [
        "#1. Análise do faturamento\n"
      ],
      "metadata": {
        "id": "X62IW3KFUIYm"
      }
    },
    {
      "cell_type": "code",
      "source": [
        "# Lista de DataFrames e nomes das lojas\n",
        "lojas = [loja, loja2, loja3, loja4]\n",
        "nomes_lojas = [\"Loja 1\", \"Loja 2\", \"Loja 3\", \"Loja 4\"]\n",
        "\n",
        "# Dicionário para armazenar os faturamentos\n",
        "faturamentos = {}\n",
        "\n",
        "# Calcula o faturamento para cada loja\n",
        "for i, df in enumerate(lojas):\n",
        "    faturamento = df[\"Preço\"].sum()\n",
        "    faturamentos[nomes_lojas[i]] = faturamento\n",
        "\n",
        "    print(f'{nomes_lojas[i]} tem um faturamento de R${faturamento:,.2f}')\n"
      ],
      "metadata": {
        "id": "xykobSftV64I",
        "colab": {
          "base_uri": "https://localhost:8080/"
        },
        "outputId": "b5f71aca-4c6a-4046-bc1e-6cc759ee5d0e"
      },
      "execution_count": 36,
      "outputs": [
        {
          "output_type": "stream",
          "name": "stdout",
          "text": [
            "Loja 1 tem um faturamento de R$1,534,509.12\n",
            "Loja 2 tem um faturamento de R$1,488,459.06\n",
            "Loja 3 tem um faturamento de R$1,464,025.03\n",
            "Loja 4 tem um faturamento de R$1,384,497.58\n"
          ]
        }
      ]
    },
    {
      "cell_type": "code",
      "source": [
        "# Calcula o número de vendas de cada loja\n",
        "\n",
        "for nome, df in zip(nomes_lojas, lojas):\n",
        "    vendas = df.shape[0]\n",
        "    print(f\"{nome}: {vendas} vendas realizadas\")"
      ],
      "metadata": {
        "colab": {
          "base_uri": "https://localhost:8080/"
        },
        "id": "jRkcdZk2yOBC",
        "outputId": "b467bea9-3ddb-4f6e-9765-3b5a36c10632"
      },
      "execution_count": 20,
      "outputs": [
        {
          "output_type": "stream",
          "name": "stdout",
          "text": [
            "Loja 1: 2359 vendas realizadas\n",
            "Loja 2: 2359 vendas realizadas\n",
            "Loja 3: 2359 vendas realizadas\n",
            "Loja 4: 2358 vendas realizadas\n"
          ]
        }
      ]
    },
    {
      "cell_type": "code",
      "source": [
        "# Calcula o faturamento médio para cada loja\n",
        "\n",
        "for nome, df in zip(nomes_lojas, lojas):\n",
        "    media = df['Preço'].mean()\n",
        "\n",
        "    print(f\"{nome}: Faturamento médio por venda = R${media:,.2f}\")"
      ],
      "metadata": {
        "colab": {
          "base_uri": "https://localhost:8080/"
        },
        "id": "bMD8Ytthwgah",
        "outputId": "0904d9e4-7f4c-422a-bec4-3d798c516161"
      },
      "execution_count": 21,
      "outputs": [
        {
          "output_type": "stream",
          "name": "stdout",
          "text": [
            "Loja 1: Faturamento médio por venda = R$650.49\n",
            "Loja 2: Faturamento médio por venda = R$630.97\n",
            "Loja 3: Faturamento médio por venda = R$620.61\n",
            "Loja 4: Faturamento médio por venda = R$587.15\n"
          ]
        }
      ]
    },
    {
      "cell_type": "code",
      "source": [
        "# Calcula o faturamento total das 4 lojas\n",
        "\n",
        "total = sum(df['Preço'].sum() for df in lojas)\n",
        "\n",
        "print(f\"Faturamento total das 4 lojas: R${total:,.2f}\")"
      ],
      "metadata": {
        "colab": {
          "base_uri": "https://localhost:8080/"
        },
        "id": "HkI16aXty-Tq",
        "outputId": "47ca0fcd-5cc2-4695-859d-24728027fe59"
      },
      "execution_count": 22,
      "outputs": [
        {
          "output_type": "stream",
          "name": "stdout",
          "text": [
            "Faturamento total das 4 lojas: R$5,871,490.79\n"
          ]
        }
      ]
    },
    {
      "cell_type": "code",
      "source": [
        "# Calcula o ranking das lojas por faturamento\n",
        "\n",
        "df_faturamento = pd.DataFrame({\n",
        "    'Loja': nomes_lojas,\n",
        "    'Faturamento': [df['Preço'].sum() for df in lojas]\n",
        "}).sort_values('Faturamento', ascending=False)\n",
        "\n",
        "print(df_faturamento)"
      ],
      "metadata": {
        "colab": {
          "base_uri": "https://localhost:8080/"
        },
        "id": "sd_sxyJ_zdDO",
        "outputId": "129fd85f-c27b-4481-bae1-37b63fdbde13"
      },
      "execution_count": 23,
      "outputs": [
        {
          "output_type": "stream",
          "name": "stdout",
          "text": [
            "     Loja  Faturamento\n",
            "0  Loja 1   1534509.12\n",
            "1  Loja 2   1488459.06\n",
            "2  Loja 3   1464025.03\n",
            "3  Loja 4   1384497.58\n"
          ]
        }
      ]
    },
    {
      "cell_type": "code",
      "source": [
        "# Calcula a participação percentual de cada loja\n",
        "\n",
        "df_faturamento['Participação (%)'] = (df_faturamento['Faturamento'] / total * 100).round(2)\n",
        "\n",
        "print(df_faturamento)"
      ],
      "metadata": {
        "colab": {
          "base_uri": "https://localhost:8080/"
        },
        "id": "qbW9mNJ_z2rl",
        "outputId": "da0b7667-e724-4cba-8fdd-8cadefc916cd"
      },
      "execution_count": 24,
      "outputs": [
        {
          "output_type": "stream",
          "name": "stdout",
          "text": [
            "     Loja  Faturamento  Participação (%)\n",
            "0  Loja 1   1534509.12             26.13\n",
            "1  Loja 2   1488459.06             25.35\n",
            "2  Loja 3   1464025.03             24.93\n",
            "3  Loja 4   1384497.58             23.58\n"
          ]
        }
      ]
    },
    {
      "cell_type": "code",
      "source": [
        "# Calcula a diferença em relação a melhor loja\n",
        "\n",
        "melhor_faturamento = df_faturamento['Faturamento'].max()\n",
        "df_faturamento['Diferença para a Líder (R$)'] = melhor_faturamento - df_faturamento['Faturamento']\n",
        "\n",
        "print(df_faturamento)"
      ],
      "metadata": {
        "colab": {
          "base_uri": "https://localhost:8080/"
        },
        "id": "GgVs0Gqt3uy6",
        "outputId": "05a13437-499c-4731-c6f5-ec758fdd343d"
      },
      "execution_count": 25,
      "outputs": [
        {
          "output_type": "stream",
          "name": "stdout",
          "text": [
            "     Loja  Faturamento  Participação (%)  Diferença para a Líder (R$)\n",
            "0  Loja 1   1534509.12             26.13                         0.00\n",
            "1  Loja 2   1488459.06             25.35                     46050.06\n",
            "2  Loja 3   1464025.03             24.93                     70484.09\n",
            "3  Loja 4   1384497.58             23.58                    150011.54\n"
          ]
        }
      ]
    },
    {
      "cell_type": "markdown",
      "source": [
        "# 2. Vendas por Categoria\n"
      ],
      "metadata": {
        "id": "2V_vcAPzWZmR"
      }
    },
    {
      "cell_type": "code",
      "source": [
        "# Calcula a quantidade de produtos vendidos por categoria\n",
        "\n",
        "resultados_por_loja = {}\n",
        "\n",
        "for nome, df in zip(nomes_lojas, lojas):\n",
        "    contagem = df['Categoria do Produto'].value_counts().sort_values(ascending=False)\n",
        "    resultados_por_loja[nome] = contagem.to_dict()\n",
        "\n",
        "\n",
        "    print(f\"\\n📊 {nome}:\")\n",
        "    print(\"-----------------------------\")\n",
        "    for categoria, quantidade in contagem.items():\n",
        "        print(f\"  {categoria.ljust(30)}- {quantidade} vendas\")\n",
        "    print(f\"\\n  Total de categorias: {len(contagem)}\")\n",
        "\n",
        "#DataFrame consolidado para análise posterior\n",
        "df_resultados = pd.DataFrame(resultados_por_loja).fillna(0)\n",
        "print(\"\\n✅ Visão consolidada:\")\n",
        "print(df_resultados)"
      ],
      "metadata": {
        "id": "A34YupIuYhfF",
        "colab": {
          "base_uri": "https://localhost:8080/"
        },
        "outputId": "414175a7-ae76-44dd-992c-18bb5cb18a97"
      },
      "execution_count": 26,
      "outputs": [
        {
          "output_type": "stream",
          "name": "stdout",
          "text": [
            "\n",
            "📊 Loja 1:\n",
            "-----------------------------\n",
            "  moveis                        - 465 vendas\n",
            "  eletronicos                   - 448 vendas\n",
            "  brinquedos                    - 324 vendas\n",
            "  eletrodomesticos              - 312 vendas\n",
            "  esporte e lazer               - 284 vendas\n",
            "  instrumentos musicais         - 182 vendas\n",
            "  livros                        - 173 vendas\n",
            "  utilidades domesticas         - 171 vendas\n",
            "\n",
            "  Total de categorias: 8\n",
            "\n",
            "📊 Loja 2:\n",
            "-----------------------------\n",
            "  moveis                        - 442 vendas\n",
            "  eletronicos                   - 422 vendas\n",
            "  brinquedos                    - 313 vendas\n",
            "  eletrodomesticos              - 305 vendas\n",
            "  esporte e lazer               - 275 vendas\n",
            "  instrumentos musicais         - 224 vendas\n",
            "  livros                        - 197 vendas\n",
            "  utilidades domesticas         - 181 vendas\n",
            "\n",
            "  Total de categorias: 8\n",
            "\n",
            "📊 Loja 3:\n",
            "-----------------------------\n",
            "  moveis                        - 499 vendas\n",
            "  eletronicos                   - 451 vendas\n",
            "  brinquedos                    - 315 vendas\n",
            "  eletrodomesticos              - 278 vendas\n",
            "  esporte e lazer               - 277 vendas\n",
            "  livros                        - 185 vendas\n",
            "  instrumentos musicais         - 177 vendas\n",
            "  utilidades domesticas         - 177 vendas\n",
            "\n",
            "  Total de categorias: 8\n",
            "\n",
            "📊 Loja 4:\n",
            "-----------------------------\n",
            "  moveis                        - 480 vendas\n",
            "  eletronicos                   - 451 vendas\n",
            "  brinquedos                    - 338 vendas\n",
            "  esporte e lazer               - 277 vendas\n",
            "  eletrodomesticos              - 254 vendas\n",
            "  utilidades domesticas         - 201 vendas\n",
            "  livros                        - 187 vendas\n",
            "  instrumentos musicais         - 170 vendas\n",
            "\n",
            "  Total de categorias: 8\n",
            "\n",
            "✅ Visão consolidada:\n",
            "                       Loja 1  Loja 2  Loja 3  Loja 4\n",
            "moveis                    465     442     499     480\n",
            "eletronicos               448     422     451     451\n",
            "brinquedos                324     313     315     338\n",
            "eletrodomesticos          312     305     278     254\n",
            "esporte e lazer           284     275     277     277\n",
            "instrumentos musicais     182     224     177     170\n",
            "livros                    173     197     185     187\n",
            "utilidades domesticas     171     181     177     201\n"
          ]
        }
      ]
    },
    {
      "cell_type": "code",
      "source": [
        "#Calcula a participação percentual de cada categoria por loja.\n",
        "\n",
        "for loja, categorias in resultados_por_loja.items():\n",
        "    total_vendas = sum(categorias.values())\n",
        "    print(\"\\n-----------------------------\\n\")\n",
        "    print(f\"\\nParticipação por Categoria - {loja}:\\n\")\n",
        "    for categoria, quantidade in categorias.items():\n",
        "        percentual = (quantidade / total_vendas) * 100\n",
        "        print(f\"  {categoria.ljust(30)}-{percentual:.1f}%\")\n",
        "\n"
      ],
      "metadata": {
        "id": "yZR6cOjXYSk1",
        "colab": {
          "base_uri": "https://localhost:8080/"
        },
        "outputId": "75ed6508-a4c5-4c3c-8bc4-6efe373de82a"
      },
      "execution_count": 27,
      "outputs": [
        {
          "output_type": "stream",
          "name": "stdout",
          "text": [
            "\n",
            "-----------------------------\n",
            "\n",
            "\n",
            "Participação por Categoria - Loja 1:\n",
            "\n",
            "  moveis                        -19.7%\n",
            "  eletronicos                   -19.0%\n",
            "  brinquedos                    -13.7%\n",
            "  eletrodomesticos              -13.2%\n",
            "  esporte e lazer               -12.0%\n",
            "  instrumentos musicais         -7.7%\n",
            "  livros                        -7.3%\n",
            "  utilidades domesticas         -7.2%\n",
            "\n",
            "-----------------------------\n",
            "\n",
            "\n",
            "Participação por Categoria - Loja 2:\n",
            "\n",
            "  moveis                        -18.7%\n",
            "  eletronicos                   -17.9%\n",
            "  brinquedos                    -13.3%\n",
            "  eletrodomesticos              -12.9%\n",
            "  esporte e lazer               -11.7%\n",
            "  instrumentos musicais         -9.5%\n",
            "  livros                        -8.4%\n",
            "  utilidades domesticas         -7.7%\n",
            "\n",
            "-----------------------------\n",
            "\n",
            "\n",
            "Participação por Categoria - Loja 3:\n",
            "\n",
            "  moveis                        -21.2%\n",
            "  eletronicos                   -19.1%\n",
            "  brinquedos                    -13.4%\n",
            "  eletrodomesticos              -11.8%\n",
            "  esporte e lazer               -11.7%\n",
            "  livros                        -7.8%\n",
            "  instrumentos musicais         -7.5%\n",
            "  utilidades domesticas         -7.5%\n",
            "\n",
            "-----------------------------\n",
            "\n",
            "\n",
            "Participação por Categoria - Loja 4:\n",
            "\n",
            "  moveis                        -20.4%\n",
            "  eletronicos                   -19.1%\n",
            "  brinquedos                    -14.3%\n",
            "  esporte e lazer               -11.7%\n",
            "  eletrodomesticos              -10.8%\n",
            "  utilidades domesticas         -8.5%\n",
            "  livros                        -7.9%\n",
            "  instrumentos musicais         -7.2%\n"
          ]
        }
      ]
    },
    {
      "cell_type": "markdown",
      "source": [
        "# 3. Média de Avaliação das Lojas"
      ],
      "metadata": {
        "id": "Rq6tU_xSY3jk"
      }
    },
    {
      "cell_type": "code",
      "source": [
        "# Calcula a média de avaliação por lojas\n",
        "\n",
        "medias_avaliacoes = {}\n",
        "\n",
        "for nome, df in zip(nomes_lojas, lojas):\n",
        "    media = df['Avaliação da compra'].mean()\n",
        "    medias_avaliacoes[nome] = media\n",
        "\n",
        "print(\"\\n📊 Média das avaliações por loja:\\n\")\n",
        "print(\"-----------------------------\")\n",
        "for nome, media in medias_avaliacoes.items():\n",
        "    print(f\"  {nome.ljust(30)} _ {media:.2f}\")"
      ],
      "metadata": {
        "id": "bh3jjjJwY5MU",
        "colab": {
          "base_uri": "https://localhost:8080/"
        },
        "outputId": "2ae376cc-a012-4784-b388-a1fab031ee9a"
      },
      "execution_count": 68,
      "outputs": [
        {
          "output_type": "stream",
          "name": "stdout",
          "text": [
            "\n",
            "📊 Média das avaliações por loja:\n",
            "\n",
            "-----------------------------\n",
            "  Loja 1                         _ 3.98\n",
            "  Loja 2                         _ 4.04\n",
            "  Loja 3                         _ 4.05\n",
            "  Loja 4                         _ 4.00\n"
          ]
        }
      ]
    },
    {
      "cell_type": "code",
      "source": [
        "#Calcula a média percentual das avaliações por categoria e por loja de forma consolidada\n",
        "\n",
        "df_completo = pd.concat([df.assign(Loja=nome) for df, nome in zip(lojas, nomes_lojas)])\n",
        "\n",
        "media_por_categoria_loja = df_completo.groupby(['Categoria do Produto', 'Loja'])['Avaliação da compra'].mean().unstack(fill_value=0)\n",
        "media_percentual_por_categoria_loja = media_por_categoria_loja * 20\n",
        "media_percentual_consolidada = df_completo.groupby('Categoria do Produto')['Avaliação da compra'].mean() * 20\n",
        "\n",
        "df_resultados_percentual = media_percentual_por_categoria_loja.copy()\n",
        "df_resultados_percentual['Média Consolidada (%)'] = media_percentual_consolidada\n",
        "df_resultados_percentual = df_resultados_percentual.round(1)\n",
        "df_resultados_percentual.index.name = 'Categoria do Produto'\n",
        "\n",
        "print(\"\\n📊 Média percentual das avaliações por categoria:\")\n",
        "print(\"-------------------------------------------------------------------------------\\n\")\n",
        "print(df_resultados_percentual)"
      ],
      "metadata": {
        "colab": {
          "base_uri": "https://localhost:8080/"
        },
        "id": "s1ZIuNl1LH-X",
        "outputId": "9bc9defd-8f5c-4b43-fa69-39bf384c25c6"
      },
      "execution_count": 67,
      "outputs": [
        {
          "output_type": "stream",
          "name": "stdout",
          "text": [
            "\n",
            "📊 Média percentual das avaliações por categoria:\n",
            "-------------------------------------------------------------------------------\n",
            "\n",
            "Loja                   Loja 1  Loja 2  Loja 3  Loja 4  Média Consolidada (%)\n",
            "Categoria do Produto                                                        \n",
            "brinquedos               81.5    80.5    83.9    79.8                   81.4\n",
            "eletrodomesticos         80.6    81.4    80.2    78.6                   80.3\n",
            "eletronicos              80.1    79.4    79.7    80.1                   79.9\n",
            "esporte e lazer          78.0    81.3    78.8    81.1                   79.8\n",
            "instrumentos musicais    81.0    80.7    80.1    78.2                   80.1\n",
            "livros                   79.5    79.0    81.0    80.9                   80.1\n",
            "moveis                   78.9    81.9    82.0    80.0                   80.7\n",
            "utilidades domesticas    75.0    81.4    81.5    80.2                   79.6\n"
          ]
        }
      ]
    },
    {
      "cell_type": "markdown",
      "source": [
        "# 4. Produtos Mais e Menos Vendidos"
      ],
      "metadata": {
        "id": "DmNp1KPBZCm-"
      }
    },
    {
      "cell_type": "code",
      "source": [],
      "metadata": {
        "id": "qoyjqijQZHfF"
      },
      "execution_count": null,
      "outputs": []
    },
    {
      "cell_type": "code",
      "source": [],
      "metadata": {
        "id": "0Sw3sd4IZIGW"
      },
      "execution_count": null,
      "outputs": []
    },
    {
      "cell_type": "markdown",
      "source": [
        "# 5. Frete Médio por Loja\n"
      ],
      "metadata": {
        "id": "Fl0cGi3bZKqU"
      }
    },
    {
      "cell_type": "code",
      "source": [],
      "metadata": {
        "id": "S2JeaCykZNy9"
      },
      "execution_count": null,
      "outputs": []
    },
    {
      "cell_type": "code",
      "source": [],
      "metadata": {
        "id": "0tSdCie9ZQlt"
      },
      "execution_count": null,
      "outputs": []
    }
  ]
}